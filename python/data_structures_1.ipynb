{
 "cells": [
  {
   "cell_type": "markdown",
   "metadata": {},
   "source": [
    "**Arrays**: A collection of elements/values each identified by an array index or key.<br>\n",
    "can have many dimensons like 1D or 2D <br>\n",
    "Store's same type, uses index as keys <br>\n",
    "**Dynamic array**: Allocates memory dynamically when the size changes. <br>\n",
    "Best implementation using numpy module <br>\n",
    "<br>\n",
    "Advantages: use randome access using index. getItem( int index )\n",
    "fase data structure. <br>\n",
    "<br>\n",
    "Drawbacks: Hard to implement add and delete at middle elements. <br>\n",
    "Not able to store items with different types.<br>\n",
    "\n",
    "\n",
    "    "
   ]
  },
  {
   "cell_type": "code",
   "execution_count": 2,
   "metadata": {},
   "outputs": [
    {
     "name": "stdout",
     "output_type": "stream",
     "text": [
      "300\n"
     ]
    }
   ],
   "source": [
    "numbers = [10,20,300,40.5,50];\n",
    "#Order(N)\n",
    "maximum = numbers[0];\n",
    "for num in numbers:\n",
    "\tif num > maximum:\n",
    "\t\tmaximum = num;\n",
    "\t\t\n",
    "print(maximum);"
   ]
  },
  {
   "cell_type": "markdown",
   "metadata": {},
   "source": [
    "**Linked Lists**: are composed of nodes and references/pointers pointing from one node to the other and last reference is pointing to NULL. <br>\n",
    "Each node has data and next link <br>\n",
    "used to implement several other common data structures like stacks, queues and trees. <br>\n",
    "<br>\n",
    "Advantages: Dynamic data structures that is, allocate the required memory at run-time. <br>\n",
    "Can store items with different sizes. whereas in array all element has exactly the same size.<br>\n",
    "Easy to implement add and remove elements at mid of the lists.<br>\n",
    "<br>\n",
    "Disadvantages: Waste of memory due to reference. <br>\n",
    "Sequential access due to Node should access from the head whereas array can access any element using index.<br>\n",
    "Lists are difficult to navigate backwards.Solution is, using double linked-lists but memory wasted.<br>\n",
    "\n",
    "Applications: Low level memory management: when working C programming malloc(), memset() and free() functions and manipulate heap memory. <br>\n",
    "Blockchains: is basically a simple linked list where blocks are cryptographically linked together.\n"
   ]
  },
  {
   "cell_type": "code",
   "execution_count": 16,
   "metadata": {},
   "outputs": [],
   "source": [
    "class Node(object):\n",
    "    #Empty node\n",
    "    def __init__(self,data):\n",
    "        self.data = data\n",
    "        self.next_node = None\n",
    "        \n"
   ]
  },
  {
   "cell_type": "code",
   "execution_count": 19,
   "metadata": {},
   "outputs": [
    {
     "name": "stdout",
     "output_type": "stream",
     "text": [
      "3\n",
      "122\n",
      "12\n",
      "31\n"
     ]
    }
   ],
   "source": [
    "class LinkedList(object):\n",
    "    def __init__(self):\n",
    "        self.head = None\n",
    "        self.size = 0\n",
    "        \n",
    "    def insert_start(self, data):\n",
    "        '''\n",
    "            Insert at the beginning.\n",
    "            New node becomes head node.\n",
    "        '''\n",
    "        self.size = self.size + 1\n",
    "        new_node = Node(data)\n",
    "        \n",
    "        if not self.head:\n",
    "            self.head = new_node\n",
    "        else:\n",
    "            new_node.next_node = self.head\n",
    "            self.head = new_node\n",
    "            \n",
    "    def remove(self,data):\n",
    "        '''\n",
    "        Remove node:  GC will remove the node.\n",
    "        '''\n",
    "        \n",
    "        if self.head is None:\n",
    "            return\n",
    "        \n",
    "        size = self.size - 1\n",
    "        \n",
    "        current_node = self.head\n",
    "        previous_node = None\n",
    "        \n",
    "        while current_node.data != data:\n",
    "            previous_node = current_node\n",
    "            current_node = current_node.next_node\n",
    "            \n",
    "            if previous_node is None:\n",
    "                self.head = current_node.next_node\n",
    "            else:\n",
    "                previous_node.next_node = current_node.next_node\n",
    "                \n",
    "    def size1(self):\n",
    "        return self.size\n",
    "    \n",
    "    def size2(self):\n",
    "        '''\n",
    "        Count number of nodes\n",
    "        '''\n",
    "        actual_node = self.head\n",
    "        size = 0\n",
    "        while actual_node is not None:\n",
    "            size += 1\n",
    "            actual_node = actual_node.next_node\n",
    "        return size\n",
    "    \n",
    "    def insert_end(self,data):\n",
    "        self.size = self.size + 1\n",
    "        \n",
    "        #new node\n",
    "        new_node = Node(data)\n",
    "        actual_node = self.head\n",
    "        \n",
    "        while actual_node.next_node is not None:\n",
    "            actual_node = actual_node.next_node\n",
    "        \n",
    "        #last node\n",
    "        actual_node.next_node = new_node\n",
    "        \n",
    "    def traverse_list(self):\n",
    "        actual_node = self.head\n",
    "        \n",
    "        while actual_node is not None:\n",
    "            print('%d'%(actual_node.data))\n",
    "            actual_node = actual_node.next_node\n",
    "            \n",
    "            \n",
    "            \n",
    "##main##     \n",
    "linkedlist = LinkedList();\n",
    "linkedlist.insert_start(12)\n",
    "linkedlist.insert_start(122);\n",
    "linkedlist.insert_start(3);\n",
    "linkedlist.insert_end(31);\n",
    "\n",
    "linkedlist.traverse_list();    "
   ]
  },
  {
   "cell_type": "markdown",
   "metadata": {},
   "source": [
    "**Stacks**: Its abstract data type (interface) <br>\n",
    "Basic Operation: pop(), push() and peek() <br>\n",
    "LIFO structure: last in first out.<br>\n",
    "Implemented using array or liked-list.<br>\n",
    "\n",
    "<br>\n",
    "Applications <br>\n",
    "In stack oriented programming languages ( Assembly )<br>\n",
    "Graph algorithms: BFS implemented with stack <br>\n",
    "Finding Euler-cycles in a graph. <br>\n",
    "Finding strongly connected components in a graph<br>\n",
    "stack memory stores local variables and function calls<br>\n",
    "Back buttons in web browsers<br>\n",
    "Undo operation in softwares<br>\n",
    "\n",
    "<br>\n",
    "Stacks in Memory Management:<br>\n",
    "Most important applications of stacks: stack memory<br>\n",
    "Stack or call stack is an abstract data type that stores info about active sub-routine/methods of a program. <br>\n",
    "Stores temporary variables or local variables created by each functions\n",
    "<br>\n",
    "Heap Memory: is region of memory that is not managed automatically for you.<br>\n",
    "This is a large region of memory and implemented by malloc() and calloc() functions.<br>\n",
    "We have to deallocate these memory chunks. Because, it is not managed by automatically ( del dict )<br>\n",
    "Slower because of the pointers<br>\n",
    "\n",
    "difference between stack and heap<br>\n",
    "Stack memory  ----->    heap memory <br>\n",
    "limited in size ----->   no size limits <br>\n",
    "fase access   ------>     slow access <br>\n",
    "local variables    objects <br>\n",
    "space is managed\n",
    "by CPU       ----->      memory may be fragmented <br>\n",
    "variables cannot \n",
    "be re-sized. ----->    variables can be resized //realloc() <br>\n",
    "stack-over flow -----> Heap-Over flow <br>\n",
    "\n",
    "<br>\n",
    "Stack and Recursion<br>\n",
    "Recursive methods are quite handy while implementing DFS, traversing BST, search element in linked-list.<br>\n",
    "What happening in the background? All the recursive algorithms can be transformed into a simple methods with stacks.<br>\n",
    "if recursion, OS will use stack memory.<br>\n"
   ]
  },
  {
   "cell_type": "code",
   "execution_count": 14,
   "metadata": {},
   "outputs": [
    {
     "name": "stdout",
     "output_type": "stream",
     "text": [
      "3\n",
      "Popped:  3\n",
      "Popped:  2\n",
      "1\n",
      "Peek: 1\n",
      "1\n"
     ]
    }
   ],
   "source": [
    "class Stack(object):\n",
    "    def __init__(self):\n",
    "        self.stack = []\n",
    "        \n",
    "    def is_empty(self):\n",
    "        return self.stack == []\n",
    "    \n",
    "    def push(self, data ):\n",
    "        self.stack.append(data)\n",
    "        \n",
    "    def pop(self):\n",
    "        if self.is_empty():\n",
    "            raise Exception(\"Stack is empty..\")\n",
    "        data = self.stack[-1]\n",
    "        del self.stack[-1]\n",
    "        return data\n",
    "    \n",
    "    def peek(self):\n",
    "        if self.is_empty():\n",
    "            raise Exception(\"Stack is empty\")\n",
    "        return self.stack[-1]\n",
    "    \n",
    "    def size_stack(self):\n",
    "        return len(self.stack)\n",
    "    \n",
    "    \n",
    "##main\n",
    "stack = Stack()\n",
    "stack.push(1)\n",
    "stack.push(2)\n",
    "stack.push(3)\n",
    "print(stack.size_stack())\n",
    "print(\"Popped: \", stack.pop())\n",
    "\n",
    "print(\"Popped: \", stack.pop())\n",
    "print(stack.size_stack())\n",
    "print(\"Peek:\", stack.peek())\n",
    "print(stack.size_stack())"
   ]
  },
  {
   "cell_type": "markdown",
   "metadata": {},
   "source": [
    "**Queue** : It is abstract data type (interface) <br>\n",
    "Basic operation: enqueue() and dequeue(), peek() <br>\n",
    "FIFO structure: first in first out<br>\n",
    "Implemented with dynamic arrays and linked lists.<br>\n",
    "Important when implementing BFS algorithm for graph <br>\n",
    "<br>\n",
    "Applications: when a resource is shared with several consumers (thread): we store then in a queue.for example: CPU scheduling.<br>\n",
    "when data is transferring asynchronously between processes. for example, IO buffers."
   ]
  },
  {
   "cell_type": "code",
   "execution_count": 29,
   "metadata": {},
   "outputs": [
    {
     "name": "stdout",
     "output_type": "stream",
     "text": [
      "3\n",
      "Dequeue:  10\n",
      "Dequeue:  20\n",
      "1\n"
     ]
    }
   ],
   "source": [
    "class Queue(object):\n",
    "    def __init__(self):\n",
    "        self.queue = []\n",
    "        \n",
    "    def is_empty(self):\n",
    "        return self.queue == []\n",
    "    \n",
    "    def enqueue(self, data):\n",
    "        self.queue.append(data)\n",
    "        \n",
    "    def dequeue(self):\n",
    "        if self.is_empty():\n",
    "            raise Exception(\"Queue is empty..\")\n",
    "            \n",
    "        data = self.queue[0]\n",
    "        del self.queue[0]\n",
    "        return data\n",
    "    \n",
    "    def peek(self):\n",
    "        if self.is_empty():\n",
    "            raise Exception(\"Queue is empty..\")\n",
    "        return self.queue[0]\n",
    "    \n",
    "    def size_queue(self):\n",
    "        return len(self.queue)\n",
    "    \n",
    "##main\n",
    "queue = Queue()\n",
    "\n",
    "queue.enqueue(10)\n",
    "queue.enqueue(20)\n",
    "queue.enqueue(30)\n",
    "\n",
    "print(queue.size_queue())\n",
    "print(\"Dequeue: \", queue.dequeue())\n",
    "print(\"Dequeue: \", queue.dequeue())\n",
    "print(queue.size_queue())"
   ]
  },
  {
   "cell_type": "markdown",
   "metadata": {},
   "source": [
    "**Maps/Dictionaries** composed of a collection of key-value pairs where each key appears only once.<br>\n",
    "Implemented using hashtables and BST.<br>\n",
    "O(1) time complexity.<br>\n",
    "<br>\n",
    "Operations: adding key-value pairs to the collection.<br>\n",
    "Removing key-value pairs, Update existing key-value pairs, Lookup of value associated with a given key."
   ]
  },
  {
   "cell_type": "markdown",
   "metadata": {},
   "source": [
    "**Hash tables**: Challenge is transform the keys into array indexes using hashfunctions.<br>\n",
    "KEY --> slot in a arrays<br>\n",
    "index = h(key) where h()is the hashfunction, it maps keys to indexes in the array slots.<br>\n",
    "\n",
    "In general: `n` items to be stored + `m` buckets/array slots in which we can store items.<br>\n",
    "Problem: keys are not always nonnegative integers and have to do `prehashing` in order to map string keys to indexes of an array.<br>\n",
    "How to map key to a slot in array? using hash function h(x).<br>\n",
    "Hashing: we can map a certain key of any type to a random array index.<br>\n",
    "if integer keys, hash function not required.<br>\n",
    "if the keys are strings, use ASCII values of the characters transfers into array index.<br>\n",
    "Hash function: where `n` is number of keys and `m` number of buckets or size of array.<br>\n",
    "h(x) = n % m ( modulo operator ) <br>\n",
    "\n",
    "**hash Collision**: Map two keys to the same bucket.<br>\n",
    "Solutions: <br>\n",
    "1.Chaining: Store mulitple values at the same slot and implemented using linked list.And, Drawbacks are  it has additional memory cost due to the references<br>\n",
    "2.Open addressing: Generate new index for the key.<br>\n",
    "Linear probing: if a collision, try next slot.<br>\n",
    "Quadratic probing: trying 1,2,4,.. units for away.<br>\n",
    "Rehasing: find an empty slot.<br> \n"
   ]
  },
  {
   "cell_type": "markdown",
   "metadata": {},
   "source": [
    "**Load factor**: number of entries divided by the number of slots/buckets ( n/m) <br>\n",
    "if the load factor is approx 1 -> it means it is nearly full and performace will decreases, the operations will be slow.<br>\n",
    "if the load factor is approx 0 -> it means it is nearly empty and there will be a lot of memory wasted.<br>\n",
    "So, dynamic resizing is needed.<br>\n",
    "Dynamic resizing: Performance depends on the load factor. What is the number of entries and number of buckets/slots ratio.<br>\n",
    "Space-time tradeoff is important.so,resize table, when its load factor exceeds given threshold.<br>\n",
    "In Java, when the load factor is greater than 0.75, the hashmap will be resized automatically.<br>\n",
    "In Python, threshold is 2/3 ~ 0.66 <br>\n",
    "\n",
    "Re-sizing takes O(n) time to complete, where n is a number of entries in the table.This fact may make dynamic-sized hash tables inapproprate for real-time applications. <br>\n",
    "<br>\n",
    "Applications: Databases<br>\n",
    "Counting given words in a document.<br>\n",
    "Storing data + loopup tables(Password checks )<br>\n",
    "Loopup tables in huge networks ( loopup for IP address ) <br>\n"
   ]
  },
  {
   "cell_type": "code",
   "execution_count": 16,
   "metadata": {},
   "outputs": [
    {
     "data": {
      "text/plain": [
       "[None, None, None, None, None, None, None, None]"
      ]
     },
     "execution_count": 16,
     "metadata": {},
     "output_type": "execute_result"
    }
   ],
   "source": [
    "d = { 'key_1': 1, 'key_2': 2, 'key_3': 3, 'key_4': 4 }\n",
    "entries_slots = [None] * 8\n",
    "entries_slots"
   ]
  },
  {
   "cell_type": "code",
   "execution_count": 17,
   "metadata": {},
   "outputs": [
    {
     "name": "stdout",
     "output_type": "stream",
     "text": [
      "-7341108187143063304\n",
      "-6057433417464684691\n"
     ]
    }
   ],
   "source": [
    "print( 'key_1'.__hash__() )\n",
    "print( 'key_2'.__hash__() )"
   ]
  },
  {
   "cell_type": "code",
   "execution_count": 18,
   "metadata": {},
   "outputs": [
    {
     "data": {
      "text/plain": [
       "5"
      ]
     },
     "execution_count": 18,
     "metadata": {},
     "output_type": "execute_result"
    }
   ],
   "source": [
    "'key_2'.__hash__() % len(entries_slots)"
   ]
  },
  {
   "cell_type": "code",
   "execution_count": 19,
   "metadata": {},
   "outputs": [
    {
     "data": {
      "text/plain": [
       "[None, ('key_1', 3), ('key_2', 4), None, None, None, None, None]"
      ]
     },
     "execution_count": 19,
     "metadata": {},
     "output_type": "execute_result"
    }
   ],
   "source": [
    "entries_slots[1] = ('key_1', 3)\n",
    "entries_slots[2] = ( 'key_2', 4)\n",
    "entries_slots"
   ]
  },
  {
   "cell_type": "code",
   "execution_count": 20,
   "metadata": {},
   "outputs": [
    {
     "data": {
      "text/plain": [
       "240"
      ]
     },
     "execution_count": 20,
     "metadata": {},
     "output_type": "execute_result"
    }
   ],
   "source": [
    "import sys\n",
    "sys.getsizeof(d)"
   ]
  },
  {
   "cell_type": "code",
   "execution_count": 21,
   "metadata": {},
   "outputs": [
    {
     "data": {
      "text/plain": [
       "368"
      ]
     },
     "execution_count": 21,
     "metadata": {},
     "output_type": "execute_result"
    }
   ],
   "source": [
    "d['spam'] = 43\n",
    "d['blah'] = 55\n",
    "sys.getsizeof(d) #Observe slots increases to aviod collision\n"
   ]
  },
  {
   "cell_type": "code",
   "execution_count": 22,
   "metadata": {},
   "outputs": [
    {
     "data": {
      "text/plain": [
       "648"
      ]
     },
     "execution_count": 22,
     "metadata": {},
     "output_type": "execute_result"
    }
   ],
   "source": [
    "d['blah2'] = 100\n",
    "d['blah3'] = 33\n",
    "\n",
    "d['blah4'] = 55\n",
    "d['blan5'] = 99\n",
    "d['blah6'] = 55\n",
    "d['blan7'] = 99\n",
    "\n",
    "sys.getsizeof(d)"
   ]
  },
  {
   "cell_type": "markdown",
   "metadata": {},
   "source": [
    "**Binary Search Tree**: are going to make insert,deletion, and search operations quite fast with *O(log N)* time complexity when compare to lists and sorted arrays.<br>\n",
    "In Tree, there must be single path from the root node to any other nodes in the tree. If there are several ways to get to a given node: it not a tree<br>\n",
    "A node directly connected to another node is *Child* and the opposite is *Parent* ( all nodes access from the root node ) and if no chidren, then its *Leaf nodes*.<br>\n",
    "<br>\n",
    "BST: Every node can have at most two children: left and right node.<br>\n",
    "Left node: smaller than the parent node and Right node: bigger than the parent node.<br>\n",
    "Height of the tree: number of layers it contains. that is,  $2^{0}$, $2^{1}$ , .. $2^{h -1 }$ <br>\n",
    "In general, *O(logN)* is true when the tree is balanced. If it is not true is unbalanced, means it is asymmetric which is a no more logarithmic.<br>\n",
    "Keeps the keys in sorted order.so that lookup and other operations can use the principle of binary search.<br>\n",
    "<br>\n",
    "Applications:<br>\n",
    "1. Represent hierarchical data or file systems, operating systems.\n",
    "2. Game trees like chess and tic-tac-toe.<br>\n",
    "2. Machine Learning: Decision trees and boosting.<br>\n",
    "\n"
   ]
  },
  {
   "cell_type": "code",
   "execution_count": 13,
   "metadata": {},
   "outputs": [
    {
     "name": "stdout",
     "output_type": "stream",
     "text": [
      "Removing a node with single right child...\n",
      "5 \n",
      "10 \n",
      "14 \n"
     ]
    }
   ],
   "source": [
    "\n",
    "class Node(object):\n",
    "\n",
    "\t#a binary search tree has a left node (smaller values) and a right node (greater values)\n",
    "\tdef __init__(self, data):\n",
    "\t\tself.data = data;\n",
    "\t\tself.left_child = None;\n",
    "\t\tself.right_child = None;\n",
    "\t\t\n",
    "class BinarySearchTree(object):\n",
    "\n",
    "\tdef __init__(self):\n",
    "\t\tself.root = None;\n",
    "\t\n",
    "\t#inserting items in the tree O(logN) running time\n",
    "\tdef insert(self, data):\n",
    "\n",
    "\t\t#if the root node is NULL it means this is the first node we insert\n",
    "\t\tif not self.root:\n",
    "\t\t\tself.root = Node(data);\n",
    "\t\telse:\n",
    "\t\t\t#there are already nodes in the tree so we have to find the valid place for this node\n",
    "\t\t\tself.insert_node(data, self.root);\n",
    "\t\t\t\n",
    "\t#it has O(logN) running time if the tree is balanced -> it can reduce to O(N) \n",
    "\t#thats why AVL trees or red-black trees are needed \n",
    "\tdef insert_node(self, data, node):\n",
    "\t\n",
    "\t\t#the data is smaller so we have to go to the left subtree\n",
    "\t\tif data < node.data:\n",
    "\t\t\t#the left child is not a NULL so we keep going\n",
    "\t\t\tif node.left_child:\n",
    "\t\t\t\tself.insert_node(data, node.left_child);\n",
    "\t\t\t#the left child is NULL so we can insert the data here\n",
    "\t\t\telse:\t\n",
    "\t\t\t\tnode.left_child = Node(data);\n",
    "\t\t#the data is greater so we have to go to the right subtree\n",
    "\t\telse:\n",
    "\t\t\t#the right child is not a NULL so we keep going\n",
    "\t\t\tif node.right_child:\n",
    "\t\t\t\tself.insert_node(data, node.right_child);\n",
    "\t\t\t#the right child is NULL so we can insert the data here\n",
    "\t\t\telse:\n",
    "\t\t\t\tnode.right_child = Node(data);\n",
    "\t\n",
    "\t#if the tree is balanced then it has O(logN) running time\t\n",
    "\tdef remove_node(self, data, node):\n",
    "\t\n",
    "\t\t#base case for recursive function calls\n",
    "\t\tif not node:\n",
    "\t\t\treturn node;\n",
    "\t\t\t\n",
    "\t\t#first we have to find the node to remove\n",
    "\t\t#left node -> containts smaller value\n",
    "\t\t#right node -> conatains greater value\n",
    "\t\tif data < node.data:\n",
    "\t\t\tnode.left_child = self.remove_node(data, node.left_child);\n",
    "\t\telif data > node.data:\n",
    "\t\t\tnode.right_child = self.remove_node(data, node.right_child);\n",
    "\t\t#this is when we find the node we want to remove\n",
    "\t\telse:\n",
    "\t\t\t\n",
    "\t\t\t#the node is a leaf node: no children at all\n",
    "\t\t\tif not node.left_child and not node.right_child:\n",
    "\t\t\t\tprint(\"Removing a leaf node...\");\n",
    "\t\t\t\tdel node;\n",
    "\t\t\t\treturn None;\n",
    "\t\t\t\t\n",
    "\t\t\t#the node we want to remove has a single right child\t\n",
    "\t\t\tif not node.left_child:  # node !!!\n",
    "\t\t\t\tprint(\"Removing a node with single right child...\");\n",
    "\t\t\t\ttemp_node = node.right_child;\n",
    "\t\t\t\tdel node;\n",
    "\t\t\t\treturn temp_node;\n",
    "\t\t\t#the node we want to remove has a single left child\t\n",
    "\t\t\telif not node.right_child:   # node instead of self\n",
    "\t\t\t\tprint(\"Removing a node with single left child...\");\n",
    "\t\t\t\ttemp_node = node.left_child;\n",
    "\t\t\t\tdel node;\n",
    "\t\t\t\treturn temp_node;\n",
    "\t\t\t\n",
    "\t\t\t#the node has both left and right children\n",
    "\t\t\tprint(\"Removing node with two children....\");\n",
    "\t\t\ttemp_node = self.get_predecessor(node.left_child);   # self instead of elf  + get predecessor \n",
    "\t\t\tnode.data = temp_node.data;\n",
    "\t\t\tnode.left_child = self.remove_node(temp_node.data, node.left_child);\n",
    "\t\t\n",
    "\t\t#this is how we notify the parent and update the children accordingly\n",
    "\t\treturn node; \n",
    "\n",
    "\t#get the previous node in the in-order traversal)\t\n",
    "\tdef get_predecessor(self, node):\n",
    "\t\n",
    "\t\t#the predecessor the largest node in the left subtree\n",
    "\t\t#successor: the smallest node in the right subtree\n",
    "\t\tif node.right_child:\n",
    "\t\t\treturn self.get_predecessor(node.right_child);\n",
    "\t\t\t\n",
    "\t\treturn node;\n",
    "\t\n",
    "\t#of course if the root is a NULL: we can not remove nodes at all\t\n",
    "\tdef remove(self, data):\n",
    "\t\tif self.root:\n",
    "\t\t\tself.root = self.remove_node(data, self.root);\n",
    "\t\t\t\n",
    "\t#it has O(logN) running time complexity\n",
    "\tdef get_min_value(self):\n",
    "\t\tif self.root:\n",
    "\t\t\treturn self.get_min(self.root);\n",
    "\t\t\t\n",
    "\tdef get_min(self, node):\n",
    "\t\n",
    "\t\t#smallest item is the left most node's value\n",
    "\t\tif node.left_child:\n",
    "\t\t\treturn self.get_min(node.left_child);\n",
    "\t\t\t\n",
    "\t\treturn node.data;\n",
    "\t\t\n",
    "\t#it has O(logN) running time complexity\n",
    "\tdef get_max_value(self):\n",
    "\t\tif self.root:\n",
    "\t\t\treturn self.get_max(self.root);\n",
    "\t\t\t\n",
    "\tdef get_max(self, node):\n",
    "\t\n",
    "\t\t#largest item is the right most node's value\n",
    "\t\tif node.right_child:\n",
    "\t\t\treturn self.get_max(node.right_child);\n",
    "\t\t\t\n",
    "\t\treturn node.data;\n",
    "\t\n",
    "\t#considering all the nodes in the tree IF there are items (so root node is not NULL)\n",
    "\tdef traverse(self):\n",
    "\t\tif self.root:\n",
    "\t\t\tself.traverse_in_order(self.root);\n",
    "\t\t\t\n",
    "\t#considering all the items in O(N) running time\n",
    "\t#it yields the natural order (numerical ordering or alphabetical ordering)\n",
    "\tdef traverse_in_order(self, node):\n",
    "\t\n",
    "\t\t#visit the left subtree\n",
    "\t\tif node.left_child:\n",
    "\t\t\tself.traverse_in_order(node.left_child);\n",
    "\t\t\t\n",
    "\t\t#then the root node of the subtree\n",
    "\t\tprint(\"%s \" % node.data);\n",
    "\t\t\n",
    "\t\t#then finally the right subtree recursively\n",
    "\t\tif node.right_child:\n",
    "\t\t\tself.traverse_in_order(node.right_child);\n",
    "\t\t\t\n",
    "if __name__ == \"__main__\":\t\t\t\n",
    "\t\n",
    "\tbst = BinarySearchTree();\n",
    "\t\n",
    "\tbst.insert(10);\n",
    "\tbst.insert(13);\n",
    "\tbst.insert(5);\n",
    "\tbst.insert(14);\n",
    "\tbst.remove(13);\n",
    "\n",
    "\tbst.traverse();"
   ]
  },
  {
   "cell_type": "code",
   "execution_count": null,
   "metadata": {},
   "outputs": [],
   "source": []
  }
 ],
 "metadata": {
  "kernelspec": {
   "display_name": "Python 3",
   "language": "python",
   "name": "python3"
  },
  "language_info": {
   "codemirror_mode": {
    "name": "ipython",
    "version": 3
   },
   "file_extension": ".py",
   "mimetype": "text/x-python",
   "name": "python",
   "nbconvert_exporter": "python",
   "pygments_lexer": "ipython3",
   "version": "3.7.1"
  }
 },
 "nbformat": 4,
 "nbformat_minor": 2
}
