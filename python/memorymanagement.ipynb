{
 "cells": [
  {
   "cell_type": "markdown",
   "metadata": {},
   "source": [
    "**Memory Management**"
   ]
  },
  {
   "cell_type": "markdown",
   "metadata": {},
   "source": [
    "Helps to write more efficient code. <br>\n",
    "what's a variables? <br>\n",
    "Python has names not variables. <br>\n",
    "\n",
    "How are python objects stored in memory ? <br>\n",
    "names --> references --> Objects <br>\n",
    "\n",
    "A name is just a label for an object and each object can have lots of names. <br>\n",
    "\n",
    "a = 10 <br>\n",
    "b = 100 <br> \n",
    "\n",
    "\n",
    "\n"
   ]
  },
  {
   "cell_type": "markdown",
   "metadata": {},
   "source": [
    "**Different Types of objects**\n",
    "Simple: numbers and strings. <br>\n",
    "Containers: dict, list,user defined-classes. <br> \n",
    "\n",
    "what is reference? A name or a container object pointing at another objet. <br>\n",
    "\n",
    "what is reference count ? Number of references  you have. <br>\n",
    "\n",
    "How can we increase the ref count ? <br>\n",
    "x = 300<br>\n",
    "y = 300<br>\n",
    "z = [ 300,300]\n",
    "\n",
    "How to decrease ref count ? <br>\n",
    "del x <br>\n",
    "\n",
    "wat does del do ? <br>\n",
    "1. It doesn't delete objects. But, it removes that names as a reference to that object and decrease the ref count by one<br>\n",
    "2. Changing the reference. y = None <br>\n",
    "3. Going out of scope: using fuctions <br>\n",
    "\n",
    "\n"
   ]
  },
  {
   "cell_type": "code",
   "execution_count": 2,
   "metadata": {},
   "outputs": [
    {
     "name": "stdout",
     "output_type": "stream",
     "text": [
      "Word isSeven\n"
     ]
    }
   ],
   "source": [
    "def print_word(): \n",
    "    word = 'Seven' # ref count + 1 \n",
    "    print('Word is' + word ) \n",
    "\n",
    "print_word() #'Seven' is out of scope, ref count - 1 "
   ]
  },
  {
   "cell_type": "markdown",
   "metadata": {},
   "source": [
    "**Local vs global namespace** <br>\n",
    "if refcounts decreases when an object goes out of scope, what happens to objects in the global namespace? <br>\n",
    "Never go out of scope ! and never ref count is 0 <br>\n"
   ]
  },
  {
   "cell_type": "markdown",
   "metadata": {},
   "source": [
    "Internally python object holds 3 things: its type, its value and a reference count.<br>\n",
    "\n",
    "Names: x and y holds 3 things. <br>\n",
    "\n",
    "Don't try this in interactive environment( REPL) <br>\n",
    ">>> x = 100 <br>\n",
    ">>> y = 100 <br>\n",
    ">>> print(id(x)) <br>\n",
    "140014639122752 <br>\n",
    ">>> print(id(y)) <br>\n",
    "140014639122752 <br>\n",
    ">>> x is y\n",
    "True"
   ]
  },
  {
   "cell_type": "markdown",
   "metadata": {},
   "source": [
    "What is Garbage Collection ? <br>\n",
    "A way for a program to automatically release memory when the object taking up that space is no longer in use.<br>\n"
   ]
  },
  {
   "cell_type": "markdown",
   "metadata": {},
   "source": [
    "Two main types of garbage Collection ? <br>\n",
    "1. Reference Counting<br>\n",
    "2. Tracing <br>"
   ]
  },
  {
   "cell_type": "markdown",
   "metadata": {},
   "source": [
    "How does ref count works? <br>\n",
    "Add and remove references and when refcount reaches 0, then deletes the objects. <br>\n",
    "Advantages: <br>\n",
    "Easy to implement.<br>\n",
    "when refcount is 0 objects are immediately deleted.<br>\n",
    "\n",
    "Disadv:<br>\n",
    "Lot of memory consumed due to ref count is stored for every object. <br>\n",
    "Execution overhead ref count changed on every assignment.<br>\n",
    "\n",
    "Not generally thread safe.<br>\n",
    "Ref count counting doesn't detect cyclical references.<br>"
   ]
  },
  {
   "cell_type": "code",
   "execution_count": 5,
   "metadata": {},
   "outputs": [],
   "source": [
    "class Node(object):\n",
    "    def __init__(self,value):\n",
    "        self.value = value\n",
    "    def next(self,next):\n",
    "        self.next = next"
   ]
  },
  {
   "cell_type": "code",
   "execution_count": 11,
   "metadata": {},
   "outputs": [],
   "source": [
    "root = Node('root')\n",
    "left = Node('left')\n",
    "right = Node('right')\n",
    "\n",
    "\n",
    "root.next(left)\n",
    "left.next(right)\n",
    "right.next(left)\n",
    "\n",
    "#root (rc=1) --> left(rc=3)--> right(rc=2)\n",
    "#            <---\n",
    "\n",
    "#what is cyclical references\n",
    "del root # rc = 0 then delete all objects \n",
    "del left # still two objects ref together\n",
    "del right"
   ]
  },
  {
   "cell_type": "markdown",
   "metadata": {},
   "source": [
    "Tracing GC: uses Mark and Sweep. first, it marks objects and deletes all objects.<br>\n",
    "What does Python use ? <br>\n",
    "Both ref count + Generational garbage collection<br>\n"
   ]
  },
  {
   "cell_type": "markdown",
   "metadata": {},
   "source": [
    "Generational Garbage Collection is based on objects remved based on threshold value count.<br>\n",
    "Python maintain a list of every object and actually, it makes 3.<br>\n",
    "generation0, generation1 and generation2.<br>\n",
    "Newly created objects are stored in generaion 0.<br>\n",
    "Only container objects with a refcount greater than 0 will be stored in a generationlist.<br>\n",
    "When the number of objects in a generation reaches a threshold , python runs a garbage collection algorithm.<br>\n"
   ]
  },
  {
   "cell_type": "markdown",
   "metadata": {},
   "source": [
    "what happens during a generational garbage collection cycle? <br>\n",
    "Python makes a list for objects to discard.<br>\n",
    "It runs an algorithms to detect reference cycles<br>\n",
    "If an object has no outside references, it's put on the discard list.<br>\n",
    "when the cycle is done, if frees up the objects on the discard list. <br>"
   ]
  },
  {
   "cell_type": "markdown",
   "metadata": {},
   "source": [
    "\n",
    "\n",
    "The __del__ magic method. <br>\n",
    "It's called a \"destructor\"<br>\n",
    "Not a del statement.<br>\n"
   ]
  },
  {
   "cell_type": "markdown",
   "metadata": {},
   "source": [
    "what are slots ?<br>\n"
   ]
  },
  {
   "cell_type": "code",
   "execution_count": 13,
   "metadata": {},
   "outputs": [
    {
     "data": {
      "text/plain": [
       "{'name': 'harsha'}"
      ]
     },
     "execution_count": 13,
     "metadata": {},
     "output_type": "execute_result"
    }
   ],
   "source": [
    "class Dog(object):\n",
    "    pass\n",
    "\n",
    "buddy = Dog()\n",
    "buddy.name = \"harsha\"\n",
    "buddy.__dict__"
   ]
  },
  {
   "cell_type": "code",
   "execution_count": 14,
   "metadata": {},
   "outputs": [
    {
     "ename": "AttributeError",
     "evalue": "'str' object has no attribute 'name'",
     "output_type": "error",
     "traceback": [
      "\u001b[1;31m---------------------------------------------------------------------------\u001b[0m",
      "\u001b[1;31mAttributeError\u001b[0m                            Traceback (most recent call last)",
      "\u001b[1;32m<ipython-input-14-c45c21f12d80>\u001b[0m in \u001b[0;36m<module>\u001b[1;34m()\u001b[0m\n\u001b[1;32m----> 1\u001b[1;33m \u001b[1;34m'Pug'\u001b[0m\u001b[1;33m.\u001b[0m\u001b[0mname\u001b[0m \u001b[1;33m=\u001b[0m \u001b[1;34m'test'\u001b[0m\u001b[1;33m\u001b[0m\u001b[0m\n\u001b[0m",
      "\u001b[1;31mAttributeError\u001b[0m: 'str' object has no attribute 'name'"
     ]
    }
   ],
   "source": [
    "'Pug'.name = 'test'"
   ]
  },
  {
   "cell_type": "code",
   "execution_count": 18,
   "metadata": {},
   "outputs": [
    {
     "ename": "AttributeError",
     "evalue": "'Point' object has no attribute 'name'",
     "output_type": "error",
     "traceback": [
      "\u001b[1;31m---------------------------------------------------------------------------\u001b[0m",
      "\u001b[1;31mAttributeError\u001b[0m                            Traceback (most recent call last)",
      "\u001b[1;32m<ipython-input-18-f97566347bcf>\u001b[0m in \u001b[0;36m<module>\u001b[1;34m()\u001b[0m\n\u001b[0;32m      9\u001b[0m \u001b[0mpoint\u001b[0m\u001b[1;33m.\u001b[0m\u001b[0my\u001b[0m \u001b[1;33m=\u001b[0m \u001b[1;36m7\u001b[0m\u001b[1;33m\u001b[0m\u001b[0m\n\u001b[0;32m     10\u001b[0m \u001b[1;33m\u001b[0m\u001b[0m\n\u001b[1;32m---> 11\u001b[1;33m \u001b[0mpoint\u001b[0m\u001b[1;33m.\u001b[0m\u001b[0mname\u001b[0m \u001b[1;33m=\u001b[0m \u001b[1;34m\"harsha\"\u001b[0m \u001b[1;31m# it doesn't have internal dict;\u001b[0m\u001b[1;33m\u001b[0m\u001b[0m\n\u001b[0m",
      "\u001b[1;31mAttributeError\u001b[0m: 'Point' object has no attribute 'name'"
     ]
    }
   ],
   "source": [
    "#slots ??\n",
    "\n",
    "class Point(object):\n",
    "    __slots__ = ('x','y') #Tuple is the data type for slots\n",
    "    \n",
    "    \n",
    "point = Point()\n",
    "point.x = 5\n",
    "point.y = 7\n",
    "\n",
    "point.name = \"harsha\" # it doesn't have internal dict;"
   ]
  },
  {
   "cell_type": "code",
   "execution_count": 21,
   "metadata": {},
   "outputs": [
    {
     "name": "stdout",
     "output_type": "stream",
     "text": [
      "240\n",
      "48\n"
     ]
    }
   ],
   "source": [
    "#size of dict vs size of tuple\n",
    "\n",
    "import sys\n",
    "print( sys.getsizeof( dict())) ##due to avoid the collision in the heap\n",
    "print( sys.getsizeof( tuple() ))"
   ]
  },
  {
   "cell_type": "markdown",
   "metadata": {},
   "source": [
    "Global Interpreter Lock:<br>\n",
    "One GIL for each interpreter.<br>\n",
    "only one thread can run in the interpreter at a time.<br>"
   ]
  },
  {
   "cell_type": "markdown",
   "metadata": {},
   "source": [
    "Advantages of GIL: fast and simple GC;<br>\n",
    "Disadvantages: No matter how many threads exists, only one thread will be executed at a time. <br>\n",
    "\n",
    "use multiple CPU's? use Multi-processing instead of threading.So that, each process will have it's own GIL <br>"
   ]
  },
  {
   "cell_type": "markdown",
   "metadata": {},
   "source": [
    "**Dissecting memory mysteries**"
   ]
  },
  {
   "cell_type": "markdown",
   "metadata": {},
   "source": [
    "MemoryError exception <br>\n",
    "Python memory keeps bloating <br>\n",
    "No RAM extension possible<br>\n",
    "How to scale applications<br>"
   ]
  },
  {
   "cell_type": "markdown",
   "metadata": {},
   "source": [
    "Python memory allocator<br>\n",
    "\n",
    "Python Object Allocator ( simle or container objects) --> Private Heap --> Python Raw Memory Allocator --> General Purpose Allocator(Malloc) -->OS memory manager"
   ]
  },
  {
   "cell_type": "markdown",
   "metadata": {},
   "source": [
    "Everything is an object. <br>\n",
    "Object = { Identity, Value, Type }<br>\n",
    "\n",
    "In Value, two types Mutable and Immutable.<br>\n",
    "\n"
   ]
  },
  {
   "cell_type": "markdown",
   "metadata": {},
   "source": [
    "Dissect Problems:\n",
    "1. Interning.<br>\n",
    "Optimization for speed.<br>\n",
    "small objects <= 256Byts # Handle by python<br>\n",
    "Performace Objects?"
   ]
  },
  {
   "cell_type": "code",
   "execution_count": 49,
   "metadata": {},
   "outputs": [],
   "source": [
    "#Problem 1: Observer memory still occupied and after del\n",
    "\n",
    "def freelist():\n",
    "    l = range(999999)\n",
    "    del l\n",
    "    return \n"
   ]
  },
  {
   "cell_type": "code",
   "execution_count": 50,
   "metadata": {},
   "outputs": [
    {
     "name": "stdout",
     "output_type": "stream",
     "text": [
      "Filename: C:\\Users\\hl3\\OneDrive - DXC Production\\heap\\py\\probelm_1.py\n",
      "\n",
      "Line #    Mem usage    Increment   Line Contents\n",
      "================================================\n",
      "     4     26.1 MiB     26.1 MiB   @profile\n",
      "     5                             def freelist():\n",
      "     6     26.1 MiB      0.0 MiB       l = range(999999)\n",
      "     7     26.1 MiB      0.0 MiB       del l\n",
      "     8     26.1 MiB      0.0 MiB       return \n",
      "\n",
      "\n"
     ]
    }
   ],
   "source": [
    "run  probelm_1.py"
   ]
  },
  {
   "cell_type": "code",
   "execution_count": 51,
   "metadata": {},
   "outputs": [],
   "source": [
    "#Problem 2: Object Model Behavior:\n",
    "# a = 100\n",
    "# b = 100\n",
    "# L1 = [ a,b]\n",
    "# L2 = [a,b ]"
   ]
  },
  {
   "cell_type": "code",
   "execution_count": 57,
   "metadata": {},
   "outputs": [
    {
     "name": "stdout",
     "output_type": "stream",
     "text": [
      "54\n",
      "36\n",
      "28\n",
      "24\n",
      "16\n",
      "49\n",
      "\n",
      "64\n",
      "48\n",
      "72\n",
      "240\n",
      "240\n"
     ]
    }
   ],
   "source": [
    "#Problem 3: Python data size: \n",
    "# sys.getsizeof()\n",
    "\n",
    "from sys import getsizeof\n",
    "\n",
    "print( getsizeof(\"hello\"))\n",
    "print( getsizeof(2**64))\n",
    "print( getsizeof(123))\n",
    "print( getsizeof(3.1456))\n",
    "print( getsizeof(None))\n",
    "print( getsizeof(\"\"))\n",
    "\n",
    "#Conatiner\n",
    "print()\n",
    "print( getsizeof([]))\n",
    "print( getsizeof( () ))\n",
    "print( getsizeof((1,2,3)))\n",
    "print( getsizeof({}))\n",
    "print( getsizeof( { 'a': 1, 'b': 3 }))"
   ]
  },
  {
   "cell_type": "code",
   "execution_count": 58,
   "metadata": {},
   "outputs": [],
   "source": [
    "#Python objects Observations;\n",
    "# Mutable Objects: similar mutable objects do not share reference.\n",
    "# Expensive object size ( list, dict )\n",
    "# Immutable objects: interned"
   ]
  },
  {
   "cell_type": "markdown",
   "metadata": {},
   "source": [
    "Problem 4: garbage Collector <br>\n",
    "Ref counting and ref cycles <br>\n",
    "Does not track simple objects like numbers or strings <br>\n",
    "Collect object in three generations <br>\n",
    "Enabled by default for version 2.0 onwards <br>\n",
    "gc module <br>\n",
    "\n",
    "Ref Cycles: only container objects are capable. <br>\n",
    "finalizer method: __del__() <br>\n",
    "GC has no idea of deletion order. <br>\n",
    "Causes cycles to remain uncollected. <br>"
   ]
  },
  {
   "cell_type": "markdown",
   "metadata": {},
   "source": [
    "Problem 5: Memory leaks in extensions. <br>\n",
    "Python VM is independent memory manager. <br>\n",
    "Has no knowledge of memory usage by C/C++ code. <br>\n"
   ]
  },
  {
   "cell_type": "markdown",
   "metadata": {},
   "source": [
    "Develper Tools<br>\n",
    "\n",
    "memory_profiler: line by line executor<br>\n",
    "Objgraph: useful for Memory leaks, Ref cycles and ref counting bugs;"
   ]
  },
  {
   "cell_type": "code",
   "execution_count": 64,
   "metadata": {},
   "outputs": [
    {
     "data": {
      "image/svg+xml": [
       "<?xml version=\"1.0\" encoding=\"UTF-8\" standalone=\"no\"?>\r\n",
       "<!DOCTYPE svg PUBLIC \"-//W3C//DTD SVG 1.1//EN\"\r\n",
       " \"http://www.w3.org/Graphics/SVG/1.1/DTD/svg11.dtd\">\r\n",
       "<!-- Generated by graphviz version 2.38.0 (20140413.2041)\r\n",
       " -->\r\n",
       "<!-- Title: ObjectGraph Pages: 1 -->\r\n",
       "<svg width=\"151pt\" height=\"210pt\"\r\n",
       " viewBox=\"0.00 0.00 151.04 210.00\" xmlns=\"http://www.w3.org/2000/svg\" xmlns:xlink=\"http://www.w3.org/1999/xlink\">\r\n",
       "<g id=\"graph0\" class=\"graph\" transform=\"scale(1 1) rotate(0) translate(4 206)\">\r\n",
       "<title>ObjectGraph</title>\r\n",
       "<polygon fill=\"white\" stroke=\"none\" points=\"-4,4 -4,-206 147.041,-206 147.041,4 -4,4\"/>\r\n",
       "<!-- o2565950855304 -->\r\n",
       "<g id=\"node1\" class=\"node\"><title>o2565950855304</title>\r\n",
       "<polygon fill=\"#ffffff\" stroke=\"black\" points=\"130,-202 74,-202 74,-164 130,-164 130,-202\"/>\r\n",
       "<text text-anchor=\"middle\" x=\"102\" y=\"-186.8\" font-family=\"Times New Roman,serif\" font-size=\"14.00\" fill=\"red\">list</text>\r\n",
       "<text text-anchor=\"middle\" x=\"102\" y=\"-171.8\" font-family=\"Times New Roman,serif\" font-size=\"14.00\" fill=\"red\">3 items</text>\r\n",
       "</g>\r\n",
       "<!-- o2565950972120 -->\r\n",
       "<g id=\"node2\" class=\"node\"><title>o2565950972120</title>\r\n",
       "<polygon fill=\"#c3c3c3\" stroke=\"black\" points=\"56,-127 3.55271e-015,-127 3.55271e-015,-89 56,-89 56,-127\"/>\r\n",
       "<text text-anchor=\"middle\" x=\"28\" y=\"-111.8\" font-family=\"Times New Roman,serif\" font-size=\"14.00\">dict</text>\r\n",
       "<text text-anchor=\"middle\" x=\"28\" y=\"-96.8\" font-family=\"Times New Roman,serif\" font-size=\"14.00\">1 items</text>\r\n",
       "</g>\r\n",
       "<!-- o2565950855304&#45;&gt;o2565950972120 -->\r\n",
       "<g id=\"edge1\" class=\"edge\"><title>o2565950855304&#45;&gt;o2565950972120</title>\r\n",
       "<path fill=\"none\" stroke=\"black\" d=\"M83.7079,-163.955C74.6356,-155.005 63.5271,-144.047 53.6232,-134.277\"/>\r\n",
       "<polygon fill=\"black\" stroke=\"black\" points=\"55.9152,-131.622 46.3382,-127.09 50.9992,-136.605 55.9152,-131.622\"/>\r\n",
       "</g>\r\n",
       "<!-- o2565950856264 -->\r\n",
       "<g id=\"node3\" class=\"node\"><title>o2565950856264</title>\r\n",
       "<polygon fill=\"#c3c3c3\" stroke=\"black\" points=\"130,-127 74,-127 74,-89 130,-89 130,-127\"/>\r\n",
       "<text text-anchor=\"middle\" x=\"102\" y=\"-111.8\" font-family=\"Times New Roman,serif\" font-size=\"14.00\">list</text>\r\n",
       "<text text-anchor=\"middle\" x=\"102\" y=\"-96.8\" font-family=\"Times New Roman,serif\" font-size=\"14.00\">1 items</text>\r\n",
       "</g>\r\n",
       "<!-- o2565950855304&#45;&gt;o2565950856264 -->\r\n",
       "<g id=\"edge2\" class=\"edge\"><title>o2565950855304&#45;&gt;o2565950856264</title>\r\n",
       "<path fill=\"none\" stroke=\"black\" d=\"M102,-163.955C102,-155.883 102,-146.176 102,-137.182\"/>\r\n",
       "<polygon fill=\"black\" stroke=\"black\" points=\"105.5,-137.09 102,-127.09 98.5001,-137.09 105.5,-137.09\"/>\r\n",
       "</g>\r\n",
       "<!-- o2565951031880 -->\r\n",
       "<g id=\"node4\" class=\"node\"><title>o2565951031880</title>\r\n",
       "<polygon fill=\"#c3c3c3\" stroke=\"black\" points=\"86,-38 30,-38 30,-0 86,-0 86,-38\"/>\r\n",
       "<text text-anchor=\"middle\" x=\"58\" y=\"-22.8\" font-family=\"Times New Roman,serif\" font-size=\"14.00\">list</text>\r\n",
       "<text text-anchor=\"middle\" x=\"58\" y=\"-7.8\" font-family=\"Times New Roman,serif\" font-size=\"14.00\">0 items</text>\r\n",
       "</g>\r\n",
       "<!-- o2565950855304&#45;&gt;o2565951031880 -->\r\n",
       "<g id=\"edge3\" class=\"edge\"><title>o2565950855304&#45;&gt;o2565951031880</title>\r\n",
       "<path fill=\"none\" stroke=\"black\" d=\"M118.076,-163.929C132.85,-145.01 150.802,-114.557 139,-89 129.767,-69.0056 111.567,-52.6695 94.7535,-40.9207\"/>\r\n",
       "<polygon fill=\"black\" stroke=\"black\" points=\"96.4088,-37.8185 86.1427,-35.1999 92.5352,-43.649 96.4088,-37.8185\"/>\r\n",
       "</g>\r\n",
       "<!-- o2565950972120&#45;&gt;o2565951031880 -->\r\n",
       "<g id=\"edge4\" class=\"edge\"><title>o2565950972120&#45;&gt;o2565951031880</title>\r\n",
       "<path fill=\"none\" stroke=\"black\" d=\"M34.216,-88.9735C38.3189,-77.0751 43.7756,-61.2508 48.4274,-47.7606\"/>\r\n",
       "<polygon fill=\"black\" stroke=\"black\" points=\"51.8408,-48.5981 51.7919,-38.0034 45.2232,-46.3161 51.8408,-48.5981\"/>\r\n",
       "<text text-anchor=\"middle\" x=\"48.5\" y=\"-59.8\" font-family=\"Times New Roman,serif\" font-size=\"14.00\">x</text>\r\n",
       "</g>\r\n",
       "<!-- o2565950856264&#45;&gt;o2565951031880 -->\r\n",
       "<g id=\"edge5\" class=\"edge\"><title>o2565950856264&#45;&gt;o2565951031880</title>\r\n",
       "<path fill=\"none\" stroke=\"black\" d=\"M92.8832,-88.9735C86.7476,-76.8418 78.5478,-60.6287 71.6399,-46.9698\"/>\r\n",
       "<polygon fill=\"black\" stroke=\"black\" points=\"74.7416,-45.3474 67.1051,-38.0034 68.495,-48.5066 74.7416,-45.3474\"/>\r\n",
       "</g>\r\n",
       "</g>\r\n",
       "</svg>\r\n"
      ],
      "text/plain": [
       "<graphviz.files.Source at 0x2556ea61828>"
      ]
     },
     "execution_count": 64,
     "metadata": {},
     "output_type": "execute_result"
    }
   ],
   "source": [
    "import objgraph\n",
    "\n",
    "x = []\n",
    "y = [ x, [x], dict(x=x)]\n",
    "\n",
    "objgraph.show_refs( [y], filename='sample-graph.png')"
   ]
  },
  {
   "cell_type": "code",
   "execution_count": 63,
   "metadata": {},
   "outputs": [],
   "source": [
    "cycle()"
   ]
  },
  {
   "cell_type": "code",
   "execution_count": null,
   "metadata": {},
   "outputs": [],
   "source": []
  }
 ],
 "metadata": {
  "kernelspec": {
   "display_name": "Python 3",
   "language": "python",
   "name": "python3"
  },
  "language_info": {
   "codemirror_mode": {
    "name": "ipython",
    "version": 3
   },
   "file_extension": ".py",
   "mimetype": "text/x-python",
   "name": "python",
   "nbconvert_exporter": "python",
   "pygments_lexer": "ipython3",
   "version": "3.6.5"
  }
 },
 "nbformat": 4,
 "nbformat_minor": 2
}
