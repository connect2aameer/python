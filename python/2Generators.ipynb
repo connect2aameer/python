{
 "cells": [
  {
   "cell_type": "code",
   "execution_count": 1,
   "metadata": {
    "collapsed": true
   },
   "outputs": [],
   "source": [
    "#Custom iteration and your types:"
   ]
  },
  {
   "cell_type": "code",
   "execution_count": 18,
   "metadata": {
    "collapsed": false
   },
   "outputs": [
    {
     "name": "stdout",
     "output_type": "stream",
     "text": [
      "cd\n",
      "guiter\n",
      "iPhone\n"
     ]
    }
   ],
   "source": [
    "## use iterater while looping thorugh an objects:\n",
    "class ShoppingCart:\n",
    "    def __init__(self):\n",
    "        self.items = []\n",
    "        \n",
    "    def add_items(self, it):\n",
    "        self.items.append(it)\n",
    "        \n",
    "    ## Looping through an object.som u can't use this\n",
    "    def loop(self):\n",
    "        for i in self.items:\n",
    "            return i\n",
    "        \n",
    "    def __iter__(self):\n",
    "        #return self.items.__iter__()\n",
    "        #sort accordning price\n",
    "        for it in sorted( self.items, key=lambda i:i.price):\n",
    "            yield it\n",
    "  \n",
    "\n",
    "class CartItem:\n",
    "    def __init__(self,name,price):\n",
    "        self.price = price\n",
    "        self.name = name\n",
    "        \n",
    "        \n",
    "        \n",
    "cart = ShoppingCart()\n",
    "cart.add_items( CartItem('guiter', 799))\n",
    "cart.add_items( CartItem('cd', 455))\n",
    "cart.add_items( CartItem('iPhone', 999))\n",
    "\n",
    "#print( cart.loop() )\n",
    "\n",
    "\n",
    "for item in cart:\n",
    "    print(item.name)\n",
    "\n",
    "\n",
    "\n",
    "\n"
   ]
  },
  {
   "cell_type": "code",
   "execution_count": 22,
   "metadata": {
    "collapsed": false
   },
   "outputs": [
    {
     "name": "stdout",
     "output_type": "stream",
     "text": [
      "Enter  a number to test for small fib:3\n",
      "3 in list \n",
      "3 in set\n",
      "3 in dict\n",
      "enter word to search:harsa\n",
      "harsa is NOT in why did the multithreaded\n"
     ]
    }
   ],
   "source": [
    "##Testing for containment:\n",
    "\n",
    "l = [1,2,1,3]\n",
    "s = { 1,2,3,4}\n",
    "d = { 1: 'one', 2:'two', 3:'three'}\n",
    "\n",
    "n = int( input(\"Enter  a number to test for small fib:\"))\n",
    "\n",
    "#is this number in the sequence above?\n",
    "\n",
    "print( '{} in list '.format(n) if n in l else 'not in list')\n",
    "print('{} in set'.format(n) if n in s else 'not in set')\n",
    "print('{} in dict'.format(n) if n in d else 'not in d')\n",
    "\n",
    "    \n",
    "text='why did the multithreaded'\n",
    "\n",
    "word = input('enter word to search:')\n",
    "\n",
    "if word in text:\n",
    "    print('{} is in {}'.format(word, text))\n",
    "else:\n",
    "    print('{} is NOT in {}'.format(word,text))\n",
    "\n"
   ]
  },
  {
   "cell_type": "code",
   "execution_count": 25,
   "metadata": {
    "collapsed": false
   },
   "outputs": [],
   "source": [
    "#caouse keyError\n",
    "d = { 1: 'one', 2:'two', 3:'three'}\n",
    "word = d[2]\n",
    "\n",
    "#Best way:\n",
    "\n",
    "if 2 in d:\n",
    "    word = d[2]"
   ]
  },
  {
   "cell_type": "code",
   "execution_count": 26,
   "metadata": {
    "collapsed": true
   },
   "outputs": [],
   "source": [
    "##Slicing collections and more;\n"
   ]
  },
  {
   "cell_type": "code",
   "execution_count": 16,
   "metadata": {
    "collapsed": false
   },
   "outputs": [
    {
     "name": "stdout",
     "output_type": "stream",
     "text": [
      "Classic\n",
      "1,\n",
      "1,\n",
      "2,\n",
      "3,\n",
      "5,\n",
      "8,\n",
      "13,\n",
      "21,\n",
      "34,\n",
      "55,generator\n",
      "\n",
      "1,\n",
      "1,\n",
      "2,\n",
      "3,\n",
      "5,\n",
      "8,\n",
      "13,\n",
      "21,\n",
      "34,\n",
      "55,even generators\n",
      "2\n",
      "8\n",
      "34\n",
      "144\n"
     ]
    }
   ],
   "source": [
    "##generators:\n",
    "def classic_fib(limit):\n",
    "    current,nxt = 0,1\n",
    "    num = []\n",
    "    while current < limit:\n",
    "        current,nxt = nxt, current + nxt\n",
    "        num.append(current)\n",
    "        \n",
    "    return num\n",
    "        \n",
    "def gen_fib():\n",
    "    current,nxt = 0,1\n",
    "    while True:\n",
    "        current,nxt = nxt, current + nxt\n",
    "        yield current\n",
    "        \n",
    "def gen_even( num):\n",
    "    for m in num:\n",
    "        if m % 2 == 0:\n",
    "            yield m\n",
    "            \n",
    "def even_fib( ):\n",
    "    for n in gen_even(gen_fib() ):\n",
    "        yield n\n",
    "    \n",
    "\n",
    "if __name__ == '__main__':\n",
    "    print('Classic')\n",
    "    for m in classic_fib(50):\n",
    "        print(m, end=',')\n",
    "        \n",
    "        if m > 50:\n",
    "            break\n",
    "        print()\n",
    "        \n",
    "    print(\"generator\")\n",
    "        \n",
    "    for g in gen_fib():\n",
    "        print()\n",
    "        print(g, end=',')\n",
    "        \n",
    "        if g > 50:\n",
    "            break\n",
    "            \n",
    "    print(\"even generators\")\n",
    "    \n",
    "    for n in even_fib():\n",
    "        print(n)\n",
    "        if n > 50:\n",
    "            break\n",
    "    \n",
    "    \n",
    "            \n",
    "\n",
    "        "
   ]
  },
  {
   "cell_type": "code",
   "execution_count": 24,
   "metadata": {
    "collapsed": false
   },
   "outputs": [],
   "source": [
    "#Recursive yield made easy:"
   ]
  },
  {
   "cell_type": "code",
   "execution_count": 26,
   "metadata": {
    "collapsed": false
   },
   "outputs": [
    {
     "name": "stdout",
     "output_type": "stream",
     "text": [
      "Found these files\n",
      "/Users/admin/harsha/talk/py_code/.ipynb_checkpoints/2Generators-checkpoint.ipynb\n",
      "/Users/admin/harsha/talk/py_code/.ipynb_checkpoints/dictAccess-checkpoint.ipynb\n",
      "/Users/admin/harsha/talk/py_code/1care.py\n",
      "/Users/admin/harsha/talk/py_code/2Generators.ipynb\n",
      "/Users/admin/harsha/talk/py_code/dictAccess.ipynb\n",
      "done\n"
     ]
    }
   ],
   "source": [
    "import os\n",
    "def get_files(folder):\n",
    "    for item in os.listdir(folder):\n",
    "        full_item = os.path.join(folder, item)\n",
    "        if os.path.isfile(full_item):\n",
    "            yield full_item\n",
    "        elif os.path.isdir(full_item):\n",
    "            #for f in get_files(full_item):\n",
    "            #    yield f\n",
    "            yield from get_files(full_item)\n",
    "            \n",
    "def main():\n",
    "    root_dir = '/Users/admin/harsha/talk/py_code'\n",
    "    files = get_files(root_dir)\n",
    "    print('Found these files')\n",
    "    for f in files:\n",
    "        print(f)\n",
    "    print('done')\n",
    "    \n",
    "main()"
   ]
  },
  {
   "cell_type": "code",
   "execution_count": 35,
   "metadata": {
    "collapsed": false
   },
   "outputs": [
    {
     "name": "stdout",
     "output_type": "stream",
     "text": [
      "[72, 90, 73, 90, 90]\n",
      "{'c128175b-567f-4315-9b81-868f638646e6': 72, 'f592a4e0-5f96-4f2f-9e9c-db4a7f151f0a': 90, '92206509-0b48-4a8d-a7e6-fdbd6d4c36c0': 73, '38eb9afa-8d53-4a42-9940-8bf6a90493b2': 90, '402355f2-27d7-4ec4-ac1c-12ed9cb0596d': 90}\n",
      "{72, 73, 90}\n"
     ]
    }
   ],
   "source": [
    "##Inline generators vie expressions;\n",
    "import collections\n",
    "import uuid\n",
    "\n",
    "Measurement = collections.namedtuple('Measurement', 'id x y value')\n",
    "\n",
    "measurements = [\n",
    "    Measurement(str(uuid.uuid4()), 1, 1, 72),\n",
    "    Measurement(str(uuid.uuid4()), 2, 1, 40),\n",
    "    Measurement(str(uuid.uuid4()), 3, 1, 11),\n",
    "    Measurement(str(uuid.uuid4()), 2, 1, 90),\n",
    "    Measurement(str(uuid.uuid4()), 2, 2, 60),\n",
    "    Measurement(str(uuid.uuid4()), 2, 3, 73),\n",
    "    Measurement(str(uuid.uuid4()), 3, 1, 40),\n",
    "    Measurement(str(uuid.uuid4()), 3, 2, 90),\n",
    "    Measurement(str(uuid.uuid4()), 3, 3, 90)\n",
    "]\n",
    "\n",
    "\n",
    "# C-style\n",
    "high_measurements1 = []\n",
    "for m in measurements:\n",
    "    if m.value >= 70:\n",
    "        high_measurements1.append(m.value)\n",
    "\n",
    "#Comprehension\n",
    "high_measurements2 = [ m.value for m in measurements if m.value >= 70 ]\n",
    "\n",
    "#Generator expression\n",
    "\n",
    "high_measure3 = ( m.value for m in measurements if m.value >= 70 )\n",
    "\n",
    "print( list( high_measure3) )\n",
    "\n",
    "#Via dict comprehension\n",
    "\n",
    "high_comp4 = { m.id:m.value  for m in measurements if m.value >= 70 }\n",
    "print(high_comp4)\n",
    "\n",
    "#Via set\n",
    "\n",
    "high_comp5 = { m.value for m in measurements if m.value >= 70 }\n",
    "print(high_comp5)"
   ]
  },
  {
   "cell_type": "code",
   "execution_count": 36,
   "metadata": {
    "collapsed": false
   },
   "outputs": [
    {
     "data": {
      "text/plain": [
       "5"
      ]
     },
     "execution_count": 36,
     "metadata": {},
     "output_type": "execute_result"
    }
   ],
   "source": [
    "## sum generators\n",
    "sum( 1 for _ in high_comp4 )"
   ]
  },
  {
   "cell_type": "code",
   "execution_count": 37,
   "metadata": {
    "collapsed": true
   },
   "outputs": [],
   "source": [
    "#3methods and functions:\n"
   ]
  },
  {
   "cell_type": "code",
   "execution_count": 41,
   "metadata": {
    "collapsed": false
   },
   "outputs": [],
   "source": [
    "#lambda expressions:\n",
    " \n"
   ]
  },
  {
   "cell_type": "code",
   "execution_count": 42,
   "metadata": {
    "collapsed": true
   },
   "outputs": [],
   "source": [
    "#Avoid return values for error handling:\n",
    "\n",
    "# error modules\n",
    "\n",
    "def check_network():\n",
    "    return True\n",
    "\n",
    "\n",
    "def check_download_url():\n",
    "    return True\n",
    "\n",
    "\n",
    "def check_access_allowed():\n",
    "    return True\n",
    "\n",
    "\n",
    "def check_dns():\n",
    "    return False\n",
    "\n",
    "\n",
    "def download_file():\n",
    "    if not check_network():\n",
    "        raise ConnectionResetError(\"Cannot connect to network\")\n",
    "    if not check_download_url():\n",
    "        raise ValueError(\"Invalid URL\")\n",
    "    if not check_access_allowed():\n",
    "        raise PermissionError(\"Cannot access resource (permission denied)\")\n",
    "    if not check_dns():\n",
    "        raise ConnectionError(\"No DNS\")\n",
    "\n",
    "    return ['c', 'o', 'o', 'l']"
   ]
  },
  {
   "cell_type": "code",
   "execution_count": 45,
   "metadata": {
    "collapsed": false
   },
   "outputs": [
    {
     "name": "stdout",
     "output_type": "stream",
     "text": [
      "Cannot download, problem with network: No DNS\n"
     ]
    }
   ],
   "source": [
    "def main():\n",
    "    run_with_handling_separate_errors()\n",
    "    \n",
    "\n",
    "def run_with_handling_separate_errors():\n",
    "    try:\n",
    "        data = download_file()\n",
    "        print(\"downloaded data -> {}\".format(data))\n",
    "    except PermissionError:\n",
    "        print(\"Cannot download, you don't have permission...\")\n",
    "    except ConnectionError as ce:\n",
    "        print(\"Cannot download, problem with network: {}\".format(ce))\n",
    "    except Exception as x:\n",
    "        print(\"Cannot download: {} -> {}\".format(type(x), x) )\n",
    "              \n",
    "main()"
   ]
  },
  {
   "cell_type": "code",
   "execution_count": 46,
   "metadata": {
    "collapsed": true
   },
   "outputs": [],
   "source": [
    "## there is no method overloading inside class"
   ]
  },
  {
   "cell_type": "code",
   "execution_count": 48,
   "metadata": {
    "collapsed": false
   },
   "outputs": [
    {
     "name": "stdout",
     "output_type": "stream",
     "text": [
      "bye harsha!\n",
      "bye harsha!\n",
      "bye harsha!\n",
      "hello vardhana!\n"
     ]
    }
   ],
   "source": [
    "#default values for overloads:\n",
    "def display_greeting( name, greeting='hello', times=1 ):\n",
    "    times = max(1, times)\n",
    "    for _ in range(0,times):\n",
    "        print('{} {}!'.format(greeting,name))\n",
    "        \n",
    "display_greeting('harsha', 'bye', 3)\n",
    "display_greeting('vardhana')"
   ]
  },
  {
   "cell_type": "code",
   "execution_count": 49,
   "metadata": {
    "collapsed": false
   },
   "outputs": [
    {
     "data": {
      "text/plain": [
       "55"
      ]
     },
     "execution_count": 49,
     "metadata": {},
     "output_type": "execute_result"
    }
   ],
   "source": [
    "#variable argument counts for overloads:\n",
    "#type(args) = tuple\n",
    "\n",
    "def biggest(x, *args):\n",
    "    b = x\n",
    "    for y in args:\n",
    "        if y > b:\n",
    "            b = y\n",
    "    return b\n",
    "\n",
    "biggest(1,3,4,5,55)"
   ]
  },
  {
   "cell_type": "code",
   "execution_count": 50,
   "metadata": {
    "collapsed": false
   },
   "outputs": [
    {
     "name": "stdout",
     "output_type": "stream",
     "text": [
      "{'another': 2}\n"
     ]
    }
   ],
   "source": [
    "#unpacking dict as named arguments;\n",
    "\n",
    "def display( name, greeting='hello', times=1, **kwargs):\n",
    "    print(kwargs)\n",
    "    \n",
    "display(greeting='reversed', name='harsha', another=2)"
   ]
  },
  {
   "cell_type": "code",
   "execution_count": 61,
   "metadata": {
    "collapsed": false
   },
   "outputs": [
    {
     "name": "stdout",
     "output_type": "stream",
     "text": [
      "['a', 'a', 'a']\n",
      "['a', 'a', 'a', 'a', 'a', 'a', 'a']\n",
      "['a', 'a', 'a', 'a', 'a', 'a', 'a', 'a', 'a']\n",
      "True\n",
      "['a', 'a', 'a', 'a', 'a', 'a', 'a']\n",
      "['a', 'a']\n"
     ]
    }
   ],
   "source": [
    "## Danger at default values: Always use None\n",
    "# notice even PyCharm knows... alt-enter fixes.\n",
    "def add_items_bad(name, times=1, lst=[]):\n",
    "    for _ in range(0, times):\n",
    "        lst.append(name)\n",
    "    return lst\n",
    "\n",
    "\n",
    "# Ah, better\n",
    "def add_items_good(name, times=1, lst=None):\n",
    "    if lst is None:\n",
    "        lst = []\n",
    "\n",
    "    for _ in range(0, times):\n",
    "        lst.append(name)\n",
    "    return lst\n",
    "\n",
    "def main():\n",
    "    a = add_items_bad(\"a\", 3)\n",
    "    print(a)\n",
    "    b = add_items_bad( 'a', 4, a)\n",
    "    print(b)\n",
    "    \n",
    "    c = add_items_bad('a', 2)\n",
    "    print(c)\n",
    "    \n",
    "    print( id(c) == id(b))\n",
    "    \n",
    "    #Good way\n",
    "    \n",
    "    a1 = add_items_good( 'a', 3 )\n",
    "    a2 = add_items_good( 'a', 4, a1 )\n",
    "    \n",
    "    print(a2)\n",
    "    c = add_items_good( 'a', 2)\n",
    "    print(c)\n",
    "    \n",
    "main()\n",
    "    "
   ]
  },
  {
   "cell_type": "code",
   "execution_count": 66,
   "metadata": {
    "collapsed": false
   },
   "outputs": [
    {
     "name": "stdout",
     "output_type": "stream",
     "text": [
      "hello\n",
      "hello\n",
      "hello\n",
      "hello\n",
      "hello\n"
     ]
    }
   ],
   "source": [
    "for _ in range(5):\n",
    "    print('hello')"
   ]
  },
  {
   "cell_type": "code",
   "execution_count": 67,
   "metadata": {
    "collapsed": true
   },
   "outputs": [],
   "source": [
    "## Modules and packages:"
   ]
  },
  {
   "cell_type": "code",
   "execution_count": 72,
   "metadata": {
    "collapsed": true
   },
   "outputs": [],
   "source": [
    "##Class and data hiding:\n",
    "class PetSnake:\n",
    "    def __init__(self,name,age):\n",
    "        self.__age = age,\n",
    "        self.__name = name,\n",
    "        self._protected_val = 2,\n",
    "        self.normal = True\n",
    "    \n",
    "    def __str__(self):\n",
    "        return 'Pet:{} age:{}, protection level{}'.format( self.__name, self.__age, self._protected_val)\n",
    "    \n",
    "\n"
   ]
  },
  {
   "cell_type": "code",
   "execution_count": 77,
   "metadata": {
    "collapsed": false
   },
   "outputs": [
    {
     "name": "stdout",
     "output_type": "stream",
     "text": [
      "Pet:('slide',) age:(6,), protection level(2,)\n"
     ]
    },
    {
     "ename": "AttributeError",
     "evalue": "'PetSnake' object has no attribute '__age'",
     "output_type": "error",
     "traceback": [
      "\u001b[0;31m---------------------------------------------------------------------------\u001b[0m",
      "\u001b[0;31mAttributeError\u001b[0m                            Traceback (most recent call last)",
      "\u001b[0;32m<ipython-input-77-79d83f773f64>\u001b[0m in \u001b[0;36m<module>\u001b[0;34m()\u001b[0m\n\u001b[1;32m      2\u001b[0m \u001b[0mprint\u001b[0m\u001b[0;34m(\u001b[0m\u001b[0mpy\u001b[0m\u001b[0;34m)\u001b[0m\u001b[0;34m\u001b[0m\u001b[0m\n\u001b[1;32m      3\u001b[0m \u001b[0;31m#a = py.age ##Private: No access;\u001b[0m\u001b[0;34m\u001b[0m\u001b[0;34m\u001b[0m\u001b[0m\n\u001b[0;32m----> 4\u001b[0;31m \u001b[0mb\u001b[0m \u001b[0;34m=\u001b[0m \u001b[0mpy\u001b[0m\u001b[0;34m.\u001b[0m\u001b[0m__age\u001b[0m\u001b[0;34m\u001b[0m\u001b[0m\n\u001b[0m",
      "\u001b[0;31mAttributeError\u001b[0m: 'PetSnake' object has no attribute '__age'"
     ]
    }
   ],
   "source": [
    "py  = PetSnake('slide', 6)\n",
    "print(py)\n",
    "#a = py.age ##Private: No access;\n",
    "b = py.__age\n"
   ]
  },
  {
   "cell_type": "code",
   "execution_count": null,
   "metadata": {
    "collapsed": true
   },
   "outputs": [],
   "source": []
  }
 ],
 "metadata": {
  "kernelspec": {
   "display_name": "Python 3",
   "language": "python",
   "name": "python3"
  },
  "language_info": {
   "codemirror_mode": {
    "name": "ipython",
    "version": 3
   },
   "file_extension": ".py",
   "mimetype": "text/x-python",
   "name": "python",
   "nbconvert_exporter": "python",
   "pygments_lexer": "ipython3",
   "version": "3.6.0"
  }
 },
 "nbformat": 4,
 "nbformat_minor": 2
}
