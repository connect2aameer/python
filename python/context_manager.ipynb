{
 "cells": [
  {
   "cell_type": "markdown",
   "metadata": {},
   "source": [
    "Magic or special oe dunder methods start and end with a double underscore ( dunder ) and can use objects behave like built-ins such as numbers, lists, dict. <br>\n",
    "Common used operator overloading are __init__, __add__, __repr__ <br>\n",
    "\n",
    "Initialization of new objects <br>\n",
    "Object representation <br>\n",
    "Enable iteration <br>\n",
    "Operator overloading (addition) <br>\n",
    "Method invocation <br>\n",
    "Context manager support (with statement) <br>\n"
   ]
  },
  {
   "cell_type": "code",
   "execution_count": 7,
   "metadata": {},
   "outputs": [
    {
     "name": "stdout",
     "output_type": "stream",
     "text": [
      "2\n",
      "2\n"
     ]
    }
   ],
   "source": [
    "#Common magic methods or operator overloading\n",
    "\n",
    "d = { 'one' : 1, 'two': 2 }\n",
    "\n",
    "print( d['two'])\n",
    "print( d.__getitem__('two'))"
   ]
  },
  {
   "cell_type": "code",
   "execution_count": 8,
   "metadata": {},
   "outputs": [
    {
     "ename": "TypeError",
     "evalue": "unsupported operand type(s) for +: 'dict' and 'dict'",
     "output_type": "error",
     "traceback": [
      "\u001b[1;31m---------------------------------------------------------------------------\u001b[0m",
      "\u001b[1;31mTypeError\u001b[0m                                 Traceback (most recent call last)",
      "\u001b[1;32m<ipython-input-8-7dab6a42e997>\u001b[0m in \u001b[0;36m<module>\u001b[1;34m()\u001b[0m\n\u001b[0;32m      2\u001b[0m \u001b[0mdict2\u001b[0m \u001b[1;33m=\u001b[0m \u001b[1;33m{\u001b[0m\u001b[1;36m2\u001b[0m \u001b[1;33m:\u001b[0m \u001b[1;34m\"EFG\"\u001b[0m\u001b[1;33m}\u001b[0m\u001b[1;33m\u001b[0m\u001b[0m\n\u001b[0;32m      3\u001b[0m \u001b[1;33m\u001b[0m\u001b[0m\n\u001b[1;32m----> 4\u001b[1;33m \u001b[0mdict1\u001b[0m \u001b[1;33m+\u001b[0m \u001b[0mdict2\u001b[0m \u001b[1;31m#ERROR:  because the dictionary type doesn't support addition\u001b[0m\u001b[1;33m\u001b[0m\u001b[0m\n\u001b[0m",
      "\u001b[1;31mTypeError\u001b[0m: unsupported operand type(s) for +: 'dict' and 'dict'"
     ]
    }
   ],
   "source": [
    "dict1 = {1 : \"ABC\"}\n",
    "dict2 = {2 : \"EFG\"}\n",
    "\n",
    "dict1 + dict2 #ERROR:  because the dictionary type doesn't support addition"
   ]
  },
  {
   "cell_type": "code",
   "execution_count": 20,
   "metadata": {},
   "outputs": [
    {
     "data": {
      "text/plain": [
       "{1: 'ABC', 2: 'XYZ'}"
      ]
     },
     "execution_count": 20,
     "metadata": {},
     "output_type": "execute_result"
    }
   ],
   "source": [
    "class addDict(dict):\n",
    "    def __add__(self, otherobj):\n",
    "        self.update(otherobj)\n",
    "        return addDict(self)\n",
    "    \n",
    "d1 = addDict({ 1: 'ABC'})\n",
    "d2 = addDict({  2: 'XYZ' })\n",
    "\n",
    "d1 + d2 "
   ]
  },
  {
   "cell_type": "code",
   "execution_count": 35,
   "metadata": {},
   "outputs": [
    {
     "name": "stdout",
     "output_type": "stream",
     "text": [
      "Account of bob with starting amount: 10\n",
      "Account('bob', 10)\n",
      "30\n",
      "1\n",
      "Start amount: 10\n",
      "Transactions: \n",
      "20\n",
      "\n",
      "Balance: 30\n",
      "None\n"
     ]
    }
   ],
   "source": [
    "from functools import total_ordering\n",
    "\n",
    "\n",
    "@total_ordering\n",
    "class Account:\n",
    "    'A simple account class'\n",
    "\n",
    "    def __init__(self, owner, amount=0):\n",
    "        'This is the constructor that lets us create objects from this class'\n",
    "        self.owner = owner\n",
    "        self.amount = amount\n",
    "        self._transactions = []\n",
    "\n",
    "    def __repr__(self):\n",
    "        return 'Account({!r}, {!r})'.format(self.owner, self.amount)\n",
    "\n",
    "    def __str__(self):\n",
    "        return 'Account of {} with starting amount: {}'.format(self.owner,\n",
    "                                                               self.amount)\n",
    "\n",
    "    def add_transaction(self, amount):\n",
    "        if not isinstance(amount, int):\n",
    "            raise ValueError('please use int for amount')\n",
    "        self._transactions.append(amount)\n",
    "        \n",
    "\n",
    "    @property\n",
    "    def balance(self):\n",
    "        return self.amount + sum(self._transactions)\n",
    "\n",
    "    def __len__(self):\n",
    "        return len(self._transactions)\n",
    "\n",
    "    def __getitem__(self, position):\n",
    "        return self._transactions[position]\n",
    "\n",
    "    def __reversed__(self):\n",
    "        return self[::-1]\n",
    "\n",
    "    def __eq__(self, other):\n",
    "        return self.balance == other.balance\n",
    "\n",
    "    def __lt__(self, other):\n",
    "        return self.balance < other.balance\n",
    "\n",
    "    def __add__(self, other):\n",
    "        owner = '{}&{}'.format(self.owner, other.owner)\n",
    "        start_amount = self.amount + other.amount\n",
    "        acc = Account(owner, start_amount)\n",
    "        for t in list(self) + list(other):\n",
    "            acc.add_transaction(t)\n",
    "        return acc\n",
    "\n",
    "    def __call__(self):\n",
    "        print('Start amount: {}'.format(self.amount))\n",
    "        print('Transactions: ')\n",
    "        for transaction in self:\n",
    "            print(transaction)\n",
    "        print('\\nBalance: {}'.format(self.balance))\n",
    "\n",
    "    def __enter__(self):\n",
    "        print('ENTER WITH: making backup of transactions for rollback')\n",
    "        self._copy_transactions = list(self._transactions)\n",
    "        return self\n",
    "\n",
    "    def __exit__(self, exc_type, exc_val, exc_tb):\n",
    "        print('EXIT WITH:', end=' ')\n",
    "        if exc_type:\n",
    "            self._transactions = self._copy_transactions\n",
    "            print('rolling back to previous transactions')\n",
    "            print('transaction resulted in {} ({})'.format(exc_type.__name__, exc_val))  # noqa E501\n",
    "        else:\n",
    "            print('transaction ok')\n",
    "\n",
    "\n",
    "##main\n",
    "acc = Account('bob', 10)\n",
    "\n",
    "#object representation\n",
    "print( str(acc))\n",
    "print(repr(acc))\n",
    "\n",
    "acc.add_transaction(20)\n",
    "\n",
    "print(acc.balance)\n",
    "\n",
    "#Iteration: __len__, __getitem__\n",
    "print(len(acc))\n",
    "\n",
    "#calling python objects: __call__\n",
    "print(acc())\n",
    "\n",
    "# Context Manager support: __enter__ and __exit__\n",
    "\n",
    "\n",
    "\n"
   ]
  },
  {
   "cell_type": "markdown",
   "metadata": {},
   "source": [
    "**Context Manager**: used for allocation and releasing of resources.<br>\n",
    "And, Any pair of operations that need to be performed before or after a procedure like try/except/finally. <br>\n",
    "When to use: when the following patterns supports.<br>\n",
    "open-close, Locl-Release, Change-Reset, Enter-Exit, Start-Stop.\n",
    "\n"
   ]
  },
  {
   "cell_type": "code",
   "execution_count": 38,
   "metadata": {},
   "outputs": [],
   "source": [
    "def kill_process(pid):\n",
    "    try:\n",
    "        os.kill( pid, signal.SIGKILL )\n",
    "    except ProcessLookupError:\n",
    "        pass\n",
    "    \n",
    "##Replace to\n",
    "\n",
    "from contextlib import suppress\n",
    "\n",
    "def kill_process(pid):\n",
    "    with suppress(ProcessLookupError):\n",
    "        os.kill(pid, signal.SIGKILL)"
   ]
  },
  {
   "cell_type": "code",
   "execution_count": 41,
   "metadata": {},
   "outputs": [
    {
     "name": "stdout",
     "output_type": "stream",
     "text": [
      "__init__\n",
      "__enter__\n",
      "__del__ <__main__.CManager object at 0x00000151B7C702E8>\n",
      "doing something with c: <__main__.CManager object at 0x00000151B7C70400>\n",
      "__exit__ <class 'RuntimeError'> \n"
     ]
    }
   ],
   "source": [
    "#Method 1\n",
    "class CManager(object):\n",
    "    def __init__(self):\n",
    "        print('__init__')\n",
    "        \n",
    "    def __enter__(self):\n",
    "        print(\"__enter__\")\n",
    "        return self\n",
    "    \n",
    "    def __exit__(self, type, value, traceback ):\n",
    "        print('__exit__', type,value)\n",
    "        return True\n",
    "    \n",
    "    def __del__(self):\n",
    "        print('__del__', self)\n",
    "        \n",
    "        \n",
    "with CManager() as c:\n",
    "    print(\"doing something with c:\", c)\n",
    "    raise RuntimeError()\n",
    "    print(\"finished doing something\")\n",
    "    "
   ]
  },
  {
   "cell_type": "code",
   "execution_count": 42,
   "metadata": {},
   "outputs": [],
   "source": [
    "#Method 2: simple context managers can also be written using generators and contextmanager decorator\n",
    "\n",
    "from contextlib import contextmanager\n",
    "\n",
    "@contextmanager\n",
    "def context_manager_func():\n",
    "    setup()\n",
    "\n",
    "    # yield must be wrapped in try/finally\n",
    "    # to trap any exceptions raised in the calling code\n",
    "    try:\n",
    "        yield\n",
    "    finally:\n",
    "        teardown()"
   ]
  },
  {
   "cell_type": "markdown",
   "metadata": {},
   "source": [
    "Advantages: Context managers give us a reliable method to clean up resources. Usaully, __del__ called when reference count is zero."
   ]
  },
  {
   "cell_type": "code",
   "execution_count": 46,
   "metadata": {},
   "outputs": [],
   "source": [
    "#Make sure an open stream is closed at the end\n",
    "class File():\n",
    "\n",
    "    def __init__(self, filename, mode):\n",
    "        self.filename = filename\n",
    "        self.mode = mode\n",
    "\n",
    "    def __enter__(self):\n",
    "        self.open_file = open(self.filename, self.mode)\n",
    "        return self.open_file\n",
    "\n",
    "    def __exit__(self, *args):\n",
    "        self.open_file.close()\n",
    "\n",
    "files = []\n",
    "for _ in range(10000):\n",
    "    with File('foo.txt', 'w+') as infile:\n",
    "        infile.write('foo')\n",
    "        files.append(infile)"
   ]
  },
  {
   "cell_type": "code",
   "execution_count": 48,
   "metadata": {},
   "outputs": [
    {
     "ename": "ModuleNotFoundError",
     "evalue": "No module named 'fcntl'",
     "output_type": "error",
     "traceback": [
      "\u001b[1;31m---------------------------------------------------------------------------\u001b[0m",
      "\u001b[1;31mModuleNotFoundError\u001b[0m                       Traceback (most recent call last)",
      "\u001b[1;32m<ipython-input-48-d6ee172b7893>\u001b[0m in \u001b[0;36m<module>\u001b[1;34m()\u001b[0m\n\u001b[0;32m      1\u001b[0m \u001b[1;31m#Synchronising access to shared resources\u001b[0m\u001b[1;33m\u001b[0m\u001b[1;33m\u001b[0m\u001b[0m\n\u001b[0;32m      2\u001b[0m \u001b[1;33m\u001b[0m\u001b[0m\n\u001b[1;32m----> 3\u001b[1;33m \u001b[1;32mimport\u001b[0m \u001b[0mfcntl\u001b[0m\u001b[1;33m\u001b[0m\u001b[0m\n\u001b[0m\u001b[0;32m      4\u001b[0m \u001b[1;32mimport\u001b[0m \u001b[0mos\u001b[0m\u001b[1;33m\u001b[0m\u001b[0m\n\u001b[0;32m      5\u001b[0m \u001b[1;33m\u001b[0m\u001b[0m\n",
      "\u001b[1;31mModuleNotFoundError\u001b[0m: No module named 'fcntl'"
     ]
    }
   ],
   "source": [
    "#Synchronising access to shared resources\n",
    "\n",
    "import fcntl\n",
    "import os\n",
    "\n",
    "class PidFile(object):\n",
    "    \"\"\"Context manager that locks a pid file.  Implemented as class\n",
    "    not generator because daemon.py is calling .__exit__() with no parameters\n",
    "    instead of the None, None, None specified by PEP-343.\"\"\"\n",
    "    # pylint: disable=R0903\n",
    "\n",
    "    def __init__(self, path):\n",
    "        self.path = path\n",
    "        self.pidfile = None\n",
    "\n",
    "    def __enter__(self):\n",
    "        self.pidfile = open(self.path, \"a+\")\n",
    "        try:\n",
    "            fcntl.flock(self.pidfile.fileno(), fcntl.LOCK_EX | fcntl.LOCK_NB)\n",
    "        except IOError:\n",
    "            raise SystemExit(\"Already running according to \" + self.path)\n",
    "        self.pidfile.seek(0)\n",
    "        self.pidfile.truncate()\n",
    "        self.pidfile.write(str(os.getpid()))\n",
    "        self.pidfile.flush()\n",
    "        self.pidfile.seek(0)\n",
    "        return self.pidfile\n",
    "\n",
    "    def __exit__(self, exc_type=None, exc_value=None, exc_tb=None):\n",
    "        try:\n",
    "            self.pidfile.close()\n",
    "        except IOError as err:\n",
    "            # ok if file was just closed elsewhere\n",
    "            if err.errno != 9:\n",
    "                raise\n",
    "        os.remove(self.path)\n",
    "\n",
    "# example usage\n",
    "import daemon\n",
    "context = daemon.DaemonContext()\n",
    "context.pidfile = PidFile(\"/var/run/mydaemon\")"
   ]
  },
  {
   "cell_type": "code",
   "execution_count": 56,
   "metadata": {},
   "outputs": [
    {
     "name": "stdout",
     "output_type": "stream",
     "text": [
      "fetching google homepage took: 0.099 seconds\n"
     ]
    }
   ],
   "source": [
    "#Timing the execution of a code block\n",
    "import time\n",
    "import http\n",
    "\n",
    "class Timer:\n",
    "    def __init__(self, name):\n",
    "        self.name = name\n",
    "\n",
    "    def __enter__(self):\n",
    "        self.start = time.time()\n",
    "\n",
    "    def __exit__(self, *args):\n",
    "        self.end = time.time()\n",
    "        self.interval = self.end - self.start\n",
    "        print(\"%s took: %0.3f seconds\" % (self.name, self.interval))\n",
    "        return False\n",
    "    \n",
    "with Timer('fetching google homepage'):\n",
    "    conn = http.client.HTTPConnection('google.com')\n",
    "    conn.request('GET', '/')"
   ]
  },
  {
   "cell_type": "code",
   "execution_count": null,
   "metadata": {},
   "outputs": [],
   "source": [
    "#Managing a pool of processes\n",
    "from multiprocessing import Pool\n",
    "\n",
    "def f(x):\n",
    "    return x*x\n",
    "\n",
    "with Pool(processes=4) as pool:  # start 4 worker processes\n",
    "\n",
    "    # evaluate \"f(10)\" asynchronously in a single process\n",
    "    result = pool.apply_async(f, (10,)) \n",
    "    #print(result.get(timeout=3)) \n",
    "    # prints \"100\"\n",
    "\n",
    "    print(pool.map(f, range(10))) "
   ]
  },
  {
   "cell_type": "code",
   "execution_count": null,
   "metadata": {},
   "outputs": [],
   "source": [
    "#Error handling patterns;\n",
    "\n",
    "try:\n",
    "    do_stuff()\n",
    "except UnicodeError:\n",
    "    print(\"annoying\")\n",
    "except ValueError:\n",
    "    print(\"hrmm\")\n",
    "except OSError:\n",
    "    print(\"Alert system admins\")\n",
    "except:\n",
    "    print(\"other\")"
   ]
  },
  {
   "cell_type": "code",
   "execution_count": null,
   "metadata": {},
   "outputs": [],
   "source": [
    "class my_error_handling(object):\n",
    "    def __enter__(self):\n",
    "        pass\n",
    "    def __exit__(self, exc_type, exc_val, exc_tb ):\n",
    "        if issubclass( exc_type, UnicodeError ):\n",
    "            print(\"Annoying\")\n",
    "        elif issubclass( exc_type, ValueError ):\n",
    "            print(\"Hrmm\")\n",
    "            \n",
    "with my_error_handling():\n",
    "    do_stuff()"
   ]
  },
  {
   "cell_type": "code",
   "execution_count": null,
   "metadata": {},
   "outputs": [],
   "source": []
  }
 ],
 "metadata": {
  "kernelspec": {
   "display_name": "Python 3",
   "language": "python",
   "name": "python3"
  },
  "language_info": {
   "codemirror_mode": {
    "name": "ipython",
    "version": 3
   },
   "file_extension": ".py",
   "mimetype": "text/x-python",
   "name": "python",
   "nbconvert_exporter": "python",
   "pygments_lexer": "ipython3",
   "version": "3.6.5"
  }
 },
 "nbformat": 4,
 "nbformat_minor": 2
}
