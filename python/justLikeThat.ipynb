{
 "cells": [
  {
   "cell_type": "markdown",
   "metadata": {},
   "source": [
    "Create Dictionary and Logical Error"
   ]
  },
  {
   "cell_type": "code",
   "execution_count": 1,
   "metadata": {
    "collapsed": false
   },
   "outputs": [
    {
     "name": "stdout",
     "output_type": "stream",
     "text": [
      "{'a': 1, 'b': 2, 'c': 3}\n",
      "{'a': 1, 'b': 2, 'c': 3}\n",
      "Missing the key 'c' \n",
      "{'a': 1, 'b': 2}\n",
      "('a', 1)\n",
      "('b', 2)\n",
      "('c', 'BLANK')\n"
     ]
    }
   ],
   "source": [
    "#create dict;\n",
    "\n",
    "a = ['a','b','c']\n",
    "b = [1,2,3]\n",
    "\n",
    "#Method 1\n",
    "d1 = { a[i]:b[i] for i in range(len(a))}\n",
    "print(d1)\n",
    "\n",
    "#Method 2 \n",
    "d2 = dict( zip(a,b))\n",
    "print(d2)\n",
    "\n",
    "a = ['a','b','c']\n",
    "b = [1,2]\n",
    "\n",
    "d3 = dict( zip ( a,b ))\n",
    "print(\"Missing the key 'c' \")\n",
    "print(d3)\n",
    "\n",
    "#Solution to above problem as below;\n",
    "#Method 3\n",
    "from itertools import zip_longest\n",
    "d3 = zip_longest( a,b, fillvalue = 'BLANK')\n",
    "for i in d3:\n",
    "    print(i)"
   ]
  },
  {
   "cell_type": "code",
   "execution_count": 2,
   "metadata": {
    "collapsed": false
   },
   "outputs": [
    {
     "data": {
      "text/plain": [
       "True"
      ]
     },
     "execution_count": 2,
     "metadata": {},
     "output_type": "execute_result"
    }
   ],
   "source": [
    "#prime numbers;\n",
    "def is_prime(num):\n",
    "    if num < 2:\n",
    "        return False\n",
    "    \n",
    "    for i in range(2,num):\n",
    "        if num % i == 0:\n",
    "            return False\n",
    "    return True\n",
    "\n",
    "is_prime(3)"
   ]
  },
  {
   "cell_type": "code",
   "execution_count": 3,
   "metadata": {
    "collapsed": false
   },
   "outputs": [
    {
     "name": "stdout",
     "output_type": "stream",
     "text": [
      "{0, 3, 4}\n",
      "{0, 3}\n",
      "{0, 1, 2}\n"
     ]
    }
   ],
   "source": [
    "#Find the missing numbers in the order number's\n",
    "\n",
    "def missing( num ):\n",
    "    #count from first number \n",
    "   # complete_list = set( range(num[0], num[-1]))\n",
    "    #Count from 0\n",
    "    complete_list = set ( range( 0, num[-1]))\n",
    "    return complete_list - set( num )\n",
    "\n",
    "\n",
    "print( missing([1,2,5,6]) )\n",
    "print( missing( [1,2,4,4]) )\n",
    "print( missing( [3,4,5]))"
   ]
  },
  {
   "cell_type": "markdown",
   "metadata": {},
   "source": [
    "Find the duplicate numbers in the list"
   ]
  },
  {
   "cell_type": "code",
   "execution_count": 4,
   "metadata": {
    "collapsed": false
   },
   "outputs": [
    {
     "name": "stdout",
     "output_type": "stream",
     "text": [
      "Element:3 and num of times:2\n",
      "Unique Elements\n"
     ]
    }
   ],
   "source": [
    "from collections import Counter\n",
    "\n",
    "def find_dup( num ):\n",
    "    unique = set(num)\n",
    "    if len( unique ) != len( num ):\n",
    "        #then Duplicates\n",
    "        c = Counter( num ).most_common( len(a) )\n",
    "        for element in c:\n",
    "            if element[1] > 1:\n",
    "                return ('Element:%r and num of times:%r'%(element[0], element[1]))\n",
    "    else:\n",
    "        return 'Unique Elements'\n",
    "    \n",
    "list_1 = [1,2,3,3]\n",
    "list_2 = [1,2,3,4]\n",
    "\n",
    "print( find_dup(list_1))\n",
    "print( find_dup(list_2))\n",
    "        \n",
    "        \n",
    "        "
   ]
  },
  {
   "cell_type": "markdown",
   "metadata": {},
   "source": [
    "Seperate even and odd numbers in the list."
   ]
  },
  {
   "cell_type": "code",
   "execution_count": 5,
   "metadata": {
    "collapsed": false
   },
   "outputs": [
    {
     "name": "stdout",
     "output_type": "stream",
     "text": [
      "[2, 6, 3, 9]\n",
      "[4, 2, 3, 1, 5]\n",
      "[0, 6, 4, 2]\n"
     ]
    }
   ],
   "source": [
    "def seperate_even_odd( num ):\n",
    "    left = 0\n",
    "    right = len(num) - 1\n",
    "    \n",
    "    while ( left < right ):\n",
    "        if ( num[left] & 1 == 0 and left < right ):\n",
    "            left += 1\n",
    "        if ( num[left] & 1 != 0 and left < right ):\n",
    "            right -= 1\n",
    "        if ( left < right ):\n",
    "            num[left],num[right] = num[right],num[left]\n",
    "            left += 1\n",
    "            right -= 1\n",
    "    return num\n",
    "\n",
    "\n",
    "print( seperate_even_odd( [ 2,3,6,9]) )\n",
    "print ( seperate_even_odd([1,2,3,4,5]))\n",
    "print( seperate_even_odd( [ 0,2,4,6]))\n"
   ]
  },
  {
   "cell_type": "markdown",
   "metadata": {},
   "source": [
    "Count the capital letters in a file."
   ]
  },
  {
   "cell_type": "code",
   "execution_count": 6,
   "metadata": {
    "collapsed": false
   },
   "outputs": [
    {
     "name": "stdout",
     "output_type": "stream",
     "text": [
      "Uppercase:51065, lowercase:356903, whitespace:77696,digit:35593\n"
     ]
    }
   ],
   "source": [
    "count = 0\n",
    "digit_count,whitespace_count,lowercase_count,uppercase_count=0,0,0,0\n",
    "with open('sentences_cia.csv') as fh:\n",
    "    #text = fh.read()\n",
    "    lines = fh.readlines()\n",
    "    for data in lines:\n",
    "        for character in data:\n",
    "            if character.isupper():\n",
    "                uppercase_count += 1\n",
    "            elif character.islower():\n",
    "                lowercase_count += 1\n",
    "            elif character.isspace():\n",
    "                whitespace_count +=1\n",
    "            elif character.isdigit():\n",
    "                digit_count +=1 \n",
    "                \n",
    "print('Uppercase:%r, lowercase:%r, whitespace:%r,digit:%r'%(uppercase_count,lowercase_count,whitespace_count,digit_count))"
   ]
  },
  {
   "cell_type": "markdown",
   "metadata": {},
   "source": [
    "find min and max in the list"
   ]
  },
  {
   "cell_type": "code",
   "execution_count": 7,
   "metadata": {
    "collapsed": false
   },
   "outputs": [
    {
     "name": "stdout",
     "output_type": "stream",
     "text": [
      "1\n"
     ]
    }
   ],
   "source": [
    "\n",
    "a = [ 1,2,4,3,2,5,7,6]\n",
    "def f_min( in_list ):\n",
    "    min_val = in_list[0]\n",
    "    for i in range(1, len(in_list)):\n",
    "        if in_list[i] < min_val:\n",
    "            min_val = in_list[i]\n",
    "    return min_val\n",
    "\n",
    "print(f_min(a))"
   ]
  },
  {
   "cell_type": "code",
   "execution_count": 8,
   "metadata": {
    "collapsed": false
   },
   "outputs": [
    {
     "name": "stdout",
     "output_type": "stream",
     "text": [
      "[4, 3, 2, 1]\n"
     ]
    }
   ],
   "source": [
    "#reverse\n",
    "a = [1,2,3,4]\n",
    "print( a[::-1])\n"
   ]
  },
  {
   "cell_type": "code",
   "execution_count": 9,
   "metadata": {
    "collapsed": false
   },
   "outputs": [
    {
     "name": "stdout",
     "output_type": "stream",
     "text": [
      "True\n",
      "True\n",
      "True\n"
     ]
    }
   ],
   "source": [
    "#Check palidrome \n",
    "\n",
    "#Method 1:\n",
    "def palidrome( in_list ):\n",
    "    if in_list == in_list[::-1]:\n",
    "        return True\n",
    "    else:\n",
    "        return False\n",
    "    \n",
    "print( palidrome( [ 1,2,1]) )\n",
    "print( palidrome( 'malayalam') )\n",
    "\n",
    "#Method 2:\n",
    "from collections import deque\n",
    "def fun_reverse( in_iter ):\n",
    "    d = deque()\n",
    "    d.extendleft( in_iter )\n",
    "    return ''.join(d)\n",
    "\n",
    "print('malayalam' == fun_reverse('malayalam'))\n",
    "    "
   ]
  },
  {
   "cell_type": "code",
   "execution_count": 10,
   "metadata": {
    "collapsed": false
   },
   "outputs": [
    {
     "name": "stdout",
     "output_type": "stream",
     "text": [
      "[0, 1, 1, 2, 3, 5, 8, 13, 21, 34, 55, 89, 144, 233, 377, 610, 987, 1597, 2584, 4181]\n"
     ]
    }
   ],
   "source": [
    "#Fib numbers\n",
    "\n",
    "def fib(n):\n",
    "    a,b = 0,1\n",
    "    for i in range(n):\n",
    "        yield a\n",
    "        a,b = b, a+b\n",
    "        \n",
    "print( list(  fib(20) ) )"
   ]
  },
  {
   "cell_type": "markdown",
   "metadata": {},
   "source": [
    "Prime Numbers:"
   ]
  },
  {
   "cell_type": "code",
   "execution_count": 11,
   "metadata": {
    "collapsed": false
   },
   "outputs": [
    {
     "name": "stdout",
     "output_type": "stream",
     "text": [
      "[2, 3, 5, 7, 11, 13, 17, 19, 23, 29, 31, 37, 41, 43, 47]\n",
      "[2, 3, 5, 7, 11, 13, 17, 19, 23, 29, 31, 37, 41, 43, 47]\n"
     ]
    }
   ],
   "source": [
    "#print prime numbers range from 2 to 50\n",
    "#Method 1\n",
    "nonprime = set( j for i in range( 2,8 ) for j in range( i*2, 50 , i ) )\n",
    "prime = [ x for x in range(2,50) if x not in nonprime ]\n",
    "print( prime )\n",
    "\n",
    "#Method 2\n",
    "prime = [ x for x in range(2,50)\n",
    "    if all( x % y != 0 for y in range(2,x ))]\n",
    "print(prime)"
   ]
  },
  {
   "cell_type": "code",
   "execution_count": 12,
   "metadata": {
    "collapsed": true
   },
   "outputs": [],
   "source": [
    "#Check ip address\n",
    "import ipaddress\n",
    "import sys\n",
    "\n",
    "#Method 1\n",
    "try:\n",
    "    ip = ipaddress.ip_address('1.2.3.4')\n",
    "except ValueError:\n",
    "    print('Invalid Address')\n",
    "    \n",
    "#Method 2\n",
    "import socket\n",
    "try:\n",
    "    socket.inet_aton('192.121.11.12')\n",
    "except socket.error:\n",
    "    print('Not Legal')\n",
    "    \n",
    "#Method 3:\n",
    "import re\n",
    "def valid_ip(ip):\n",
    "    m = re.match(r\"^(\\d{1,3})\\.(\\d{1,3})\\.(\\d{1,3})\\.(\\d{1,3})$\", ip)\n",
    "    return bool(m) and all(map(lambda n: 0 <= int(n) <= 255, m.groups()))\n",
    "\n"
   ]
  },
  {
   "cell_type": "code",
   "execution_count": 13,
   "metadata": {
    "collapsed": false
   },
   "outputs": [
    {
     "name": "stdout",
     "output_type": "stream",
     "text": [
      "True\n"
     ]
    }
   ],
   "source": [
    "#Comapre float number: careful while comparing float numbers. Because, represented by binary fractions;\n",
    "\n",
    "def compare_float(x,y,places=7):\n",
    "    return round( abs(x - y ), places ) == 0\n",
    "\n",
    "a=1.1\n",
    "b=1.1000\n",
    "\n",
    "print( compare_float(a,b) )"
   ]
  },
  {
   "cell_type": "markdown",
   "metadata": {},
   "source": [
    "map,filter,reduce"
   ]
  },
  {
   "cell_type": "markdown",
   "metadata": {},
   "source": [
    "\n",
    "    "
   ]
  },
  {
   "cell_type": "code",
   "execution_count": null,
   "metadata": {
    "collapsed": false
   },
   "outputs": [
    {
     "name": "stdout",
     "output_type": "stream",
     "text": [
      "121\n",
      "45\n",
      "55\n"
     ]
    }
   ],
   "source": [
    "#map\n",
    "from IPython.display import display\n",
    "\n",
    "words = [ '121','45','55' ]\n",
    "for i in map( int, words ):\n",
    "    print(i)"
   ]
  },
  {
   "cell_type": "code",
   "execution_count": null,
   "metadata": {
    "collapsed": false
   },
   "outputs": [],
   "source": [
    "#cycle\n",
    "from itertools import cycle\n",
    "polys = ['first','second','thrid']\n",
    "polys = cycle(polys)\n",
    "\n",
    "count = 0\n",
    "for i in polys:\n",
    "    if count > 7:\n",
    "        break\n",
    "    #print(i)\n",
    "    #print('-----')"
   ]
  },
  {
   "cell_type": "raw",
   "metadata": {
    "collapsed": true
   },
   "source": []
  },
  {
   "cell_type": "code",
   "execution_count": null,
   "metadata": {
    "collapsed": false
   },
   "outputs": [],
   "source": [
    "# Repeates 6 times\n",
    "from itertools import repeat\n",
    "\n",
    "itr = repeat(5,6)\n",
    "\n",
    "for i in itr:\n",
    "    print(i)\n",
    "\n",
    "    "
   ]
  },
  {
   "cell_type": "code",
   "execution_count": null,
   "metadata": {
    "collapsed": false
   },
   "outputs": [],
   "source": [
    "#dropwhile: it returns only False as reverse to filter\n",
    "from itertools import dropwhile\n",
    "list( dropwhile( lambda x: x < 5, [1,3,2,7,8,9]))\n",
    "\n",
    "\n",
    "def fun(num):\n",
    "    \n",
    "    return num < 5\n",
    "\n",
    "list( dropwhile( fun, [1,3,6,2]) )"
   ]
  },
  {
   "cell_type": "code",
   "execution_count": null,
   "metadata": {
    "collapsed": false
   },
   "outputs": [],
   "source": [
    "#filter: returns only True \n",
    "from itertools import filterfalse\n",
    "\n",
    "print ( list(filter( fun, [1,2,3,6])) )\n",
    "\n",
    "print( list( filterfalse( fun, [1,2,3,6])) )\n",
    "\n"
   ]
  },
  {
   "cell_type": "code",
   "execution_count": null,
   "metadata": {
    "collapsed": false
   },
   "outputs": [],
   "source": [
    "from itertools import islice,count\n",
    "\n",
    "for i in islice( count(), 3, 15):\n",
    "    print(i)"
   ]
  },
  {
   "cell_type": "code",
   "execution_count": null,
   "metadata": {
    "collapsed": false
   },
   "outputs": [],
   "source": [
    "#starmap: similar to map function. But, it accepts two variable;\n",
    "from itertools import starmap\n",
    "def add(a,b):\n",
    "    return a+b\n",
    "\n",
    "for item in starmap(add, [ (1,2),(4,4)]):\n",
    "    print(item)\n"
   ]
  },
  {
   "cell_type": "code",
   "execution_count": null,
   "metadata": {
    "collapsed": false
   },
   "outputs": [],
   "source": [
    "#tee:\n",
    "from itertools import tee\n",
    "data = [1,2,3,4]\n",
    "iter1, iter2 = tee( data )\n",
    "for item in iter1:\n",
    "    print(item)\n",
    "for item in iter2:\n",
    "    print(item)"
   ]
  },
  {
   "cell_type": "code",
   "execution_count": null,
   "metadata": {
    "collapsed": true
   },
   "outputs": [],
   "source": [
    "#ziplongest:"
   ]
  },
  {
   "cell_type": "code",
   "execution_count": null,
   "metadata": {
    "collapsed": false
   },
   "outputs": [],
   "source": [
    "from itertools import combinations, combinations_with_replacement, permutations\n",
    "print( list(combinations('abcd', 2)) )\n",
    "print('----')\n",
    "print( list( combinations_with_replacement('abcd', 2)) )\n",
    "print('----')\n",
    "print( list( permutations('abcd', 2)))\n",
    "\n"
   ]
  },
  {
   "cell_type": "markdown",
   "metadata": {},
   "source": [
    "Create Switch function:"
   ]
  },
  {
   "cell_type": "code",
   "execution_count": null,
   "metadata": {
    "collapsed": false
   },
   "outputs": [],
   "source": [
    "def insert():\n",
    "    print('insert')\n",
    "\n",
    "def delete():\n",
    "    pass\n",
    "\n",
    "def runCommand( cmd ):\n",
    "    jumpTable[cmd]()\n",
    "    \n",
    "jumpTable = {}\n",
    "jumpTable['1'] = insert\n",
    "jumpTable['2'] = delete\n",
    "\n",
    "runCommand('1')"
   ]
  },
  {
   "cell_type": "markdown",
   "metadata": {},
   "source": [
    "Deck of cards:"
   ]
  },
  {
   "cell_type": "code",
   "execution_count": null,
   "metadata": {
    "collapsed": true
   },
   "outputs": [],
   "source": [
    "class Card(object):\n",
    "    RANKS = (1,2,3,4,5,6,7,8,9,10,11,12,13)\n",
    "    SUITS = ( 'spades','diamonds','hearts','clubs')\n",
    "    \n",
    "    def __init__(self,rank,suit):\n",
    "        self.rank  = rank\n",
    "        self.suit = suit\n",
    "    def __str__(self):\n",
    "        if self.rank == 1:\n",
    "            rank = 'ace'\n",
    "        elif self.rank == 11:\n",
    "            rank = 'jack'\n",
    "        elif self.rank == 12:\n",
    "            rank = 'queen'\n",
    "        elif self.rank == 13:\n",
    "            rank = 'king'\n",
    "        else:\n",
    "            rank = self.rank\n",
    "        return str(rank) + 'of' + self.suit.lower()\n",
    "    \n",
    "\n",
    "        "
   ]
  },
  {
   "cell_type": "code",
   "execution_count": null,
   "metadata": {
    "collapsed": false
   },
   "outputs": [],
   "source": [
    "#Find the second highest;\n",
    "def sec( numbers ):\n",
    "        first,second = 0,0\n",
    "        for n in numbers:\n",
    "                if n > first:\n",
    "                        first,second = n, first\n",
    "                elif first > n > second:\n",
    "                        second = n\n",
    "        return n\n",
    "\n",
    "\n",
    "\n",
    "print( sec([ 1,4,2,3,5,6,7,8,9]) )"
   ]
  },
  {
   "cell_type": "code",
   "execution_count": null,
   "metadata": {
    "collapsed": true
   },
   "outputs": [],
   "source": []
  }
 ],
 "metadata": {
  "kernelspec": {
   "display_name": "Python 3",
   "language": "python",
   "name": "python3"
  },
  "language_info": {
   "codemirror_mode": {
    "name": "ipython",
    "version": 3
   },
   "file_extension": ".py",
   "mimetype": "text/x-python",
   "name": "python",
   "nbconvert_exporter": "python",
   "pygments_lexer": "ipython3",
   "version": "3.6.0"
  }
 },
 "nbformat": 4,
 "nbformat_minor": 2
}
