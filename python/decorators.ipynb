{
 "cells": [
  {
   "cell_type": "markdown",
   "metadata": {},
   "source": [
    "In Python, functions are first-class obejcts. This means that functions can be used as arguments just like any other objects.<br>\n",
    "Decorators or Wrap: accepts functions and returns functions. <br>"
   ]
  },
  {
   "cell_type": "code",
   "execution_count": 5,
   "metadata": {},
   "outputs": [
    {
     "name": "stdout",
     "output_type": "stream",
     "text": [
      "parent\n",
      "second child\n",
      "first child \n",
      "None\n"
     ]
    },
    {
     "ename": "NameError",
     "evalue": "name 'second_child' is not defined",
     "output_type": "error",
     "traceback": [
      "\u001b[1;31m---------------------------------------------------------------------------\u001b[0m",
      "\u001b[1;31mNameError\u001b[0m                                 Traceback (most recent call last)",
      "\u001b[1;32m<ipython-input-5-22b55ee13faa>\u001b[0m in \u001b[0;36m<module>\u001b[1;34m()\u001b[0m\n\u001b[0;32m     14\u001b[0m \u001b[0mprint\u001b[0m\u001b[1;33m(\u001b[0m \u001b[0mparent\u001b[0m\u001b[1;33m(\u001b[0m\u001b[1;33m)\u001b[0m \u001b[1;33m)\u001b[0m \u001b[1;31m# works\u001b[0m\u001b[1;33m\u001b[0m\u001b[0m\n\u001b[0;32m     15\u001b[0m \u001b[1;33m\u001b[0m\u001b[0m\n\u001b[1;32m---> 16\u001b[1;33m \u001b[0mprint\u001b[0m\u001b[1;33m(\u001b[0m \u001b[0msecond_child\u001b[0m\u001b[1;33m(\u001b[0m\u001b[1;33m)\u001b[0m \u001b[1;33m)\u001b[0m \u001b[1;31m# Errors\u001b[0m\u001b[1;33m\u001b[0m\u001b[0m\n\u001b[0m",
      "\u001b[1;31mNameError\u001b[0m: name 'second_child' is not defined"
     ]
    }
   ],
   "source": [
    "#Inner functions: function can be defined inseide the functions;\n",
    "\n",
    "def parent():\n",
    "    print(\"parent\")\n",
    "    \n",
    "    def first_child():\n",
    "        print(\"first child \")\n",
    "    def second_child():\n",
    "        print(\"second child\")\n",
    "        \n",
    "    second_child()\n",
    "    first_child()\n",
    "    \n",
    "print( parent() ) # works\n",
    "\n",
    "print( second_child() ) # Errors"
   ]
  },
  {
   "cell_type": "code",
   "execution_count": 9,
   "metadata": {},
   "outputs": [
    {
     "data": {
      "text/plain": [
       "'HI, its me'"
      ]
     },
     "execution_count": 9,
     "metadata": {},
     "output_type": "execute_result"
    }
   ],
   "source": [
    "def parent(num):\n",
    "    def first_child():\n",
    "        return \"HI, its me\"\n",
    "    def second_child():\n",
    "        return \"Hi, call me\"\n",
    "    \n",
    "    if num == 1:\n",
    "        return first_child\n",
    "    else:\n",
    "        return second_child\n",
    "    \n",
    "first = parent(1)\n",
    "first()"
   ]
  },
  {
   "cell_type": "code",
   "execution_count": 18,
   "metadata": {},
   "outputs": [],
   "source": [
    "def check_positive(func):\n",
    "   def func_wrapper(x, y):\n",
    "      if x<0 or y<0:\n",
    "         raise Exception(\"Both x and y have to be positive for function {} to work\".format(func.__name__))\n",
    "      res = func(x,y)\n",
    "      return res\n",
    "   return func_wrapper\n",
    "\n",
    "@check_positive\n",
    "def average(x, y):\n",
    "   return (x + y)/2"
   ]
  },
  {
   "cell_type": "code",
   "execution_count": 20,
   "metadata": {},
   "outputs": [
    {
     "ename": "Exception",
     "evalue": "Both x and y have to be positive for function average to work",
     "output_type": "error",
     "traceback": [
      "\u001b[1;31m---------------------------------------------------------------------------\u001b[0m",
      "\u001b[1;31mException\u001b[0m                                 Traceback (most recent call last)",
      "\u001b[1;32m<ipython-input-20-1616144706a7>\u001b[0m in \u001b[0;36m<module>\u001b[1;34m()\u001b[0m\n\u001b[1;32m----> 1\u001b[1;33m \u001b[0maverage\u001b[0m\u001b[1;33m(\u001b[0m\u001b[1;33m-\u001b[0m\u001b[1;36m1\u001b[0m\u001b[1;33m,\u001b[0m\u001b[1;36m0\u001b[0m\u001b[1;33m)\u001b[0m\u001b[1;33m\u001b[0m\u001b[0m\n\u001b[0m",
      "\u001b[1;32m<ipython-input-18-42832ed6b72a>\u001b[0m in \u001b[0;36mfunc_wrapper\u001b[1;34m(x, y)\u001b[0m\n\u001b[0;32m      2\u001b[0m    \u001b[1;32mdef\u001b[0m \u001b[0mfunc_wrapper\u001b[0m\u001b[1;33m(\u001b[0m\u001b[0mx\u001b[0m\u001b[1;33m,\u001b[0m \u001b[0my\u001b[0m\u001b[1;33m)\u001b[0m\u001b[1;33m:\u001b[0m\u001b[1;33m\u001b[0m\u001b[0m\n\u001b[0;32m      3\u001b[0m       \u001b[1;32mif\u001b[0m \u001b[0mx\u001b[0m\u001b[1;33m<\u001b[0m\u001b[1;36m0\u001b[0m \u001b[1;32mor\u001b[0m \u001b[0my\u001b[0m\u001b[1;33m<\u001b[0m\u001b[1;36m0\u001b[0m\u001b[1;33m:\u001b[0m\u001b[1;33m\u001b[0m\u001b[0m\n\u001b[1;32m----> 4\u001b[1;33m          \u001b[1;32mraise\u001b[0m \u001b[0mException\u001b[0m\u001b[1;33m(\u001b[0m\u001b[1;34m\"Both x and y have to be positive for function {} to work\"\u001b[0m\u001b[1;33m.\u001b[0m\u001b[0mformat\u001b[0m\u001b[1;33m(\u001b[0m\u001b[0mfunc\u001b[0m\u001b[1;33m.\u001b[0m\u001b[0m__name__\u001b[0m\u001b[1;33m)\u001b[0m\u001b[1;33m)\u001b[0m\u001b[1;33m\u001b[0m\u001b[0m\n\u001b[0m\u001b[0;32m      5\u001b[0m       \u001b[0mres\u001b[0m \u001b[1;33m=\u001b[0m \u001b[0mfunc\u001b[0m\u001b[1;33m(\u001b[0m\u001b[0mx\u001b[0m\u001b[1;33m,\u001b[0m\u001b[0my\u001b[0m\u001b[1;33m)\u001b[0m\u001b[1;33m\u001b[0m\u001b[0m\n\u001b[0;32m      6\u001b[0m       \u001b[1;32mreturn\u001b[0m \u001b[0mres\u001b[0m\u001b[1;33m\u001b[0m\u001b[0m\n",
      "\u001b[1;31mException\u001b[0m: Both x and y have to be positive for function average to work"
     ]
    }
   ],
   "source": [
    "average(-1,0)"
   ]
  },
  {
   "cell_type": "code",
   "execution_count": 30,
   "metadata": {},
   "outputs": [],
   "source": [
    "def validateDictionary(original_function):\n",
    "    def new_function(dictionary, *args, **kwargs):\n",
    "        if isinstance(dictionary, dict) == True:\n",
    "            print('Is a dictionary')\n",
    "            return original_function(dictionary, *args, **kwargs)\n",
    "        else:\n",
    "            print(\"Not a dictionary\")\n",
    "            return []\n",
    "        return new_function\n",
    " \n",
    "class validLengthDictionary(object):\n",
    "    def __init__(self,length):\n",
    "        self.length = length\n",
    "    def __call__(self, original_function):\n",
    "        def new_function( dictionary, *args, **kwargs):\n",
    "            if len(dictionary) >= self.length:\n",
    "                print( len(dictionary),  \"Length\")\n",
    "                return original_function(dictionary, *args, **kwargs)\n",
    "            else:\n",
    "                print(\"Not long enough\")\n",
    "                return original_function({}, *args, **kwargs)\n",
    "        return new_function\n",
    "    \n",
    "@validateDictionary\n",
    "@validLengthDictionary(2)\n",
    "def getKeys(dictionary, *args, **kwargs):\n",
    "    return list( dictionary.keys() )"
   ]
  },
  {
   "cell_type": "code",
   "execution_count": 72,
   "metadata": {},
   "outputs": [],
   "source": [
    "#Synchronization the Locks\n",
    "import functools\n",
    "\n",
    "def synchronized(lock):\n",
    "    \"\"\" Synchronization decorator \"\"\"\n",
    "    def wrap(f):\n",
    "        @functools.wraps(f)\n",
    "        def newFunction(*args, **kw):\n",
    "            with lock:\n",
    "                return f(*args, **kw)\n",
    "        return newFunction\n",
    "    return wrap\n",
    "\n",
    "\n",
    "import threading\n",
    "lock = threading.Lock()\n",
    "\n",
    "@synchronized(lock)\n",
    "def test():\n",
    "    print(\"hello\")\n",
    "    \n"
   ]
  },
  {
   "cell_type": "code",
   "execution_count": 73,
   "metadata": {},
   "outputs": [
    {
     "ename": "ValueError",
     "evalue": "Summary too long",
     "output_type": "error",
     "traceback": [
      "\u001b[1;31m---------------------------------------------------------------------------\u001b[0m",
      "\u001b[1;31mValueError\u001b[0m                                Traceback (most recent call last)",
      "\u001b[1;32m<ipython-input-73-e856667422a0>\u001b[0m in \u001b[0;36m<module>\u001b[1;34m()\u001b[0m\n\u001b[0;32m     13\u001b[0m     \u001b[1;32mreturn\u001b[0m \u001b[0mdata\u001b[0m\u001b[1;33m\u001b[0m\u001b[0m\n\u001b[0;32m     14\u001b[0m \u001b[1;33m\u001b[0m\u001b[0m\n\u001b[1;32m---> 15\u001b[1;33m \u001b[0mfetch_customer_data\u001b[0m\u001b[1;33m(\u001b[0m\u001b[1;33m)\u001b[0m\u001b[1;33m\u001b[0m\u001b[0m\n\u001b[0m",
      "\u001b[1;32m<ipython-input-73-e856667422a0>\u001b[0m in \u001b[0;36mwrapper\u001b[1;34m(*args, **kwargs)\u001b[0m\n\u001b[0;32m      4\u001b[0m         \u001b[0mdata\u001b[0m \u001b[1;33m=\u001b[0m \u001b[0mfunc\u001b[0m\u001b[1;33m(\u001b[0m\u001b[1;33m*\u001b[0m\u001b[0margs\u001b[0m\u001b[1;33m,\u001b[0m \u001b[1;33m**\u001b[0m\u001b[0mkwargs\u001b[0m\u001b[1;33m)\u001b[0m\u001b[1;33m\u001b[0m\u001b[0m\n\u001b[0;32m      5\u001b[0m         \u001b[1;32mif\u001b[0m  \u001b[0mdata\u001b[0m\u001b[1;33m[\u001b[0m\u001b[1;34m\"summary\"\u001b[0m\u001b[1;33m]\u001b[0m \u001b[1;33m>\u001b[0m \u001b[1;36m80\u001b[0m\u001b[1;33m:\u001b[0m\u001b[1;33m\u001b[0m\u001b[0m\n\u001b[1;32m----> 6\u001b[1;33m             \u001b[1;32mraise\u001b[0m \u001b[0mValueError\u001b[0m\u001b[1;33m(\u001b[0m\u001b[1;34m\"Summary too long\"\u001b[0m\u001b[1;33m)\u001b[0m\u001b[1;33m\u001b[0m\u001b[0m\n\u001b[0m\u001b[0;32m      7\u001b[0m         \u001b[1;32mreturn\u001b[0m \u001b[0mdata\u001b[0m\u001b[1;33m\u001b[0m\u001b[0m\n\u001b[0;32m      8\u001b[0m     \u001b[1;32mreturn\u001b[0m \u001b[0mwrapper\u001b[0m\u001b[1;33m\u001b[0m\u001b[0m\n",
      "\u001b[1;31mValueError\u001b[0m: Summary too long"
     ]
    }
   ],
   "source": [
    "#validate the IMEI number\n",
    "def validate_summary(func):\n",
    "    def wrapper(*args, **kwargs):\n",
    "        data = func(*args, **kwargs)\n",
    "        if  data[\"summary\"] > 80:\n",
    "            raise ValueError(\"Summary too long\")\n",
    "        return data\n",
    "    return wrapper\n",
    "\n",
    "@validate_summary\n",
    "def fetch_customer_data():\n",
    "    data = {\"summary\" : 81 }\n",
    "    return data\n",
    "\n",
    "fetch_customer_data()"
   ]
  },
  {
   "cell_type": "code",
   "execution_count": 74,
   "metadata": {},
   "outputs": [
    {
     "name": "stdout",
     "output_type": "stream",
     "text": [
      "Finished 'waste_some_time' in 0.0988 secs\n"
     ]
    }
   ],
   "source": [
    "import functools\n",
    "import time\n",
    "\n",
    "def timer(func):\n",
    "    \"\"\"Print the runtime of the decorated function\"\"\"\n",
    "    @functools.wraps(func)\n",
    "    def wrapper_timer(*args, **kwargs):\n",
    "        start_time = time.perf_counter()    # 1\n",
    "        value = func(*args, **kwargs)\n",
    "        end_time = time.perf_counter()      # 2\n",
    "        run_time = end_time - start_time    # 3\n",
    "        print(f\"Finished {func.__name__!r} in {run_time:.4f} secs\")\n",
    "        return value\n",
    "    return wrapper_timer\n",
    "\n",
    "\n",
    "@timer\n",
    "def waste_some_time(num_times):\n",
    "    for _ in range(num_times):\n",
    "        sum([i**2 for i in range(10000)])\n",
    "        \n",
    "waste_some_time(15)"
   ]
  },
  {
   "cell_type": "code",
   "execution_count": 75,
   "metadata": {},
   "outputs": [
    {
     "name": "stdout",
     "output_type": "stream",
     "text": [
      "10\n",
      "9\n",
      "8\n",
      "7\n",
      "6\n",
      "5\n",
      "4\n",
      "3\n",
      "2\n",
      "1\n",
      "Liftoff!\n"
     ]
    }
   ],
   "source": [
    "#slow down the function\n",
    "\n",
    "import functools\n",
    "import time\n",
    "\n",
    "def slow_down(func):\n",
    "    \"\"\"Sleep 1 second before calling the function\"\"\"\n",
    "    @functools.wraps(func)\n",
    "    def wrapper_slow_down(*args, **kwargs):\n",
    "        time.sleep(1)\n",
    "        return func(*args, **kwargs)\n",
    "    return wrapper_slow_down\n",
    "\n",
    "@slow_down\n",
    "def countdown(from_number):\n",
    "    if from_number < 1:\n",
    "        print(\"Liftoff!\")\n",
    "    else:\n",
    "        print(from_number)\n",
    "        countdown(from_number - 1)\n",
    "        \n",
    "countdown(10)"
   ]
  },
  {
   "cell_type": "code",
   "execution_count": 76,
   "metadata": {},
   "outputs": [
    {
     "name": "stdout",
     "output_type": "stream",
     "text": [
      "Call 1 of 'say_whee'\n",
      "Whee!\n",
      "Call 2 of 'say_whee'\n",
      "Whee!\n"
     ]
    }
   ],
   "source": [
    "#Statefull decorators\n",
    "import functools\n",
    "\n",
    "def count_calls(func):\n",
    "    @functools.wraps(func)\n",
    "    def wrapper_count_calls(*args, **kwargs):\n",
    "        wrapper_count_calls.num_calls += 1\n",
    "        print(f\"Call {wrapper_count_calls.num_calls} of {func.__name__!r}\")\n",
    "        return func(*args, **kwargs)\n",
    "    wrapper_count_calls.num_calls = 0\n",
    "    return wrapper_count_calls\n",
    "\n",
    "@count_calls\n",
    "def say_whee():\n",
    "    print(\"Whee!\")\n",
    "    \n",
    "say_whee()\n",
    "say_whee()"
   ]
  },
  {
   "cell_type": "code",
   "execution_count": 77,
   "metadata": {},
   "outputs": [
    {
     "name": "stdout",
     "output_type": "stream",
     "text": [
      "3\n",
      "2\n",
      "1\n",
      "Liftoff!\n"
     ]
    }
   ],
   "source": [
    "import functools\n",
    "import time\n",
    "\n",
    "def slow_down(_func=None, *, rate=1):\n",
    "    \"\"\"Sleep given amount of seconds before calling the function\"\"\"\n",
    "    def decorator_slow_down(func):\n",
    "        @functools.wraps(func)\n",
    "        def wrapper_slow_down(*args, **kwargs):\n",
    "            time.sleep(rate)\n",
    "            return func(*args, **kwargs)\n",
    "        return wrapper_slow_down\n",
    "\n",
    "    if _func is None:\n",
    "        return decorator_slow_down\n",
    "    else:\n",
    "        return decorator_slow_down(_func)\n",
    "    \n",
    "@slow_down(rate=2)\n",
    "def countdown(from_number):\n",
    "    if from_number < 1:\n",
    "        print(\"Liftoff!\")\n",
    "    else:\n",
    "        print(from_number)\n",
    "        countdown(from_number - 1)\n",
    "        \n",
    "countdown(3)"
   ]
  },
  {
   "cell_type": "code",
   "execution_count": 78,
   "metadata": {},
   "outputs": [],
   "source": [
    "#Singletons: A singleton is a class with only one instance. There are several singletons in Python that you use frequently, including None, True, and False. It is the fact that None is a singleton that allows you to compare for None using the is keyword\n",
    "\n",
    "import functools\n",
    "\n",
    "def singleton(cls):\n",
    "    \"\"\"Make a class a Singleton class (only one instance)\"\"\"\n",
    "    @functools.wraps(cls)\n",
    "    def wrapper_singleton(*args, **kwargs):\n",
    "        if not wrapper_singleton.instance:\n",
    "            wrapper_singleton.instance = cls(*args, **kwargs)\n",
    "        return wrapper_singleton.instance\n",
    "    wrapper_singleton.instance = None\n",
    "    return wrapper_singleton\n",
    "\n",
    "@singleton\n",
    "class TheOne:\n",
    "    pass\n",
    "\n"
   ]
  },
  {
   "cell_type": "code",
   "execution_count": 79,
   "metadata": {},
   "outputs": [
    {
     "name": "stdout",
     "output_type": "stream",
     "text": [
      "2276548567504\n",
      "2276548567504\n"
     ]
    }
   ],
   "source": [
    "first_one = TheOne()\n",
    "print ( id(first_one) )\n",
    "\n",
    "another_one = TheOne()\n",
    "print( id(another_one))"
   ]
  },
  {
   "cell_type": "code",
   "execution_count": null,
   "metadata": {},
   "outputs": [],
   "source": []
  }
 ],
 "metadata": {
  "kernelspec": {
   "display_name": "Python 3",
   "language": "python",
   "name": "python3"
  },
  "language_info": {
   "codemirror_mode": {
    "name": "ipython",
    "version": 3
   },
   "file_extension": ".py",
   "mimetype": "text/x-python",
   "name": "python",
   "nbconvert_exporter": "python",
   "pygments_lexer": "ipython3",
   "version": "3.6.5"
  }
 },
 "nbformat": 4,
 "nbformat_minor": 2
}
