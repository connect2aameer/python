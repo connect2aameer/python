{
 "cells": [
  {
   "cell_type": "markdown",
   "metadata": {},
   "source": [
    "Bits Manipulations:\n",
    "\n",
    "\n"
   ]
  },
  {
   "cell_type": "code",
   "execution_count": 2,
   "metadata": {
    "collapsed": false
   },
   "outputs": [
    {
     "data": {
      "text/plain": [
       "0"
      ]
     },
     "execution_count": 2,
     "metadata": {},
     "output_type": "execute_result"
    }
   ],
   "source": [
    "## Turn-off of the rightmost 1-bit in a word: producing 0 if None\n",
    "x=101\n",
    "x = x & (x - 1 )\n",
    "x\n",
    "x = 4\n",
    "x = x & (x - 1 )\n",
    "x\n"
   ]
  },
  {
   "cell_type": "code",
   "execution_count": 7,
   "metadata": {
    "collapsed": false
   },
   "outputs": [
    {
     "name": "stdout",
     "output_type": "stream",
     "text": [
      "3\n",
      "-1\n",
      "3\n"
     ]
    }
   ],
   "source": [
    "## Turn-On the rightmost 0 bit in a word; producing all 1's if none.\n",
    "\n",
    "x = x | ( x - 1 )\n",
    "print(x)\n",
    "\n",
    "x= 000\n",
    "x = x | ( x - 1 )\n",
    "print(x)\n",
    "x = 2\n",
    "x = x | ( x - 1 )\n",
    "print(x)"
   ]
  },
  {
   "cell_type": "code",
   "execution_count": 8,
   "metadata": {
    "collapsed": false
   },
   "outputs": [
    {
     "data": {
      "text/plain": [
       "1"
      ]
     },
     "execution_count": 8,
     "metadata": {},
     "output_type": "execute_result"
    }
   ],
   "source": [
    "## Formula to isolate the rightmost 1-bit\n",
    "\n",
    "x & (-x)\n",
    "x =7\n",
    "x & (-x)"
   ]
  },
  {
   "cell_type": "code",
   "execution_count": 9,
   "metadata": {
    "collapsed": false
   },
   "outputs": [
    {
     "data": {
      "text/plain": [
       "100"
      ]
     },
     "execution_count": 9,
     "metadata": {},
     "output_type": "execute_result"
    }
   ],
   "source": [
    "## turn-off the rightmost contiguous string of 1's( 0101110 -> 0100000 )\n",
    "x\n",
    "x= 10111\n",
    "(( x & -x ) + x ) & x\n",
    "x=101\n",
    "(( x & -x ) + x ) & x"
   ]
  },
  {
   "cell_type": "code",
   "execution_count": 10,
   "metadata": {
    "collapsed": false
   },
   "outputs": [
    {
     "data": {
      "text/plain": [
       "15"
      ]
     },
     "execution_count": 10,
     "metadata": {},
     "output_type": "execute_result"
    }
   ],
   "source": [
    "## avg of two integers\n",
    "x=10\n",
    "y=20\n",
    "(x&y) + ((x^y) >> 1 )\n",
    "##OR\n",
    "( x | y ) - (( x ^ y ) >> 1 )"
   ]
  },
  {
   "cell_type": "code",
   "execution_count": 11,
   "metadata": {
    "collapsed": false
   },
   "outputs": [
    {
     "data": {
      "text/plain": [
       "0"
      ]
     },
     "execution_count": 11,
     "metadata": {},
     "output_type": "execute_result"
    }
   ],
   "source": [
    "## Sign function\n",
    "## sign(x) = { -1, x < 0; 0, x =0; 1, x > 0 }\n",
    "x\n",
    "( x > 0 ) - ( x < 0 )\n",
    "#OR\n",
    "( x >= 0 ) - ( x >= 0 )\n",
    "x = -2\n",
    "( x > 0 ) - ( x < 0 )\n",
    "x=0\n",
    "( x > 0 ) - ( x < 0 )"
   ]
  },
  {
   "cell_type": "code",
   "execution_count": 12,
   "metadata": {
    "collapsed": false
   },
   "outputs": [
    {
     "data": {
      "text/plain": [
       "-1"
      ]
     },
     "execution_count": 12,
     "metadata": {},
     "output_type": "execute_result"
    }
   ],
   "source": [
    "## Three value compared: cmp(x,y) = { -1, x < y; 0, x = y; 1, x > y }\n",
    "x\n",
    "y = 1\n",
    "( x > y ) - ( x < y )"
   ]
  },
  {
   "cell_type": "code",
   "execution_count": 13,
   "metadata": {
    "collapsed": false
   },
   "outputs": [
    {
     "data": {
      "text/plain": [
       "-1"
      ]
     },
     "execution_count": 13,
     "metadata": {},
     "output_type": "execute_result"
    }
   ],
   "source": [
    "## transfer of Sign function:\n",
    "t = x >> 31\n",
    "t\n",
    "x\n",
    "x = -1\n",
    "t = x >> 31\n",
    "t\n",
    "x = - 23\n",
    "t\n",
    "t = x >> 31\n",
    "t"
   ]
  },
  {
   "cell_type": "code",
   "execution_count": 17,
   "metadata": {
    "collapsed": false
   },
   "outputs": [
    {
     "name": "stdout",
     "output_type": "stream",
     "text": [
      "1 -23\n"
     ]
    },
    {
     "data": {
      "text/plain": [
       "-23"
      ]
     },
     "execution_count": 17,
     "metadata": {},
     "output_type": "execute_result"
    }
   ],
   "source": [
    "## exchanging registers:\n",
    "print(x,y)\n",
    "x = x ^ y\n",
    "y = y ^ x\n",
    "x = x ^ y\n",
    "x"
   ]
  },
  {
   "cell_type": "code",
   "execution_count": 20,
   "metadata": {
    "collapsed": false
   },
   "outputs": [
    {
     "name": "stdout",
     "output_type": "stream",
     "text": [
      "1\n",
      "2\n"
     ]
    }
   ],
   "source": [
    "## Alternating among two or more values:\n",
    "\n",
    "b = 2\n",
    "\n",
    "a = 1\n",
    "\n",
    "if x == a:\n",
    "    x = b\n",
    "else:\n",
    "    x = a\n",
    "# above code can be replaced to single defination;\n",
    "x = a + b - x\n",
    "print(x)\n",
    "\n",
    "#OR\n",
    "\n",
    "x = a ^ b ^ x\n",
    "print(x)"
   ]
  },
  {
   "cell_type": "code",
   "execution_count": 23,
   "metadata": {
    "collapsed": false
   },
   "outputs": [
    {
     "data": {
      "text/plain": [
       "4"
      ]
     },
     "execution_count": 23,
     "metadata": {},
     "output_type": "execute_result"
    }
   ],
   "source": [
    "## Count number of one's and zero's in an integers:\n",
    "\n",
    "from collections import Counter\n",
    "binary = bin(10)[2:]\n",
    "binary\n",
    "binary = bin(10)\n",
    "binary\n",
    "binary = bin(10)[2:]\n",
    "Counter(binary)\n",
    "bin(5).count('1')\n",
    "def bitcount( n ):\n",
    "    count = 0\n",
    "    while n > 0:\n",
    "        if ( n & 1 == 1 ):\n",
    "            count += 1\n",
    "        n >>= 1\n",
    "    return count\n",
    "bitcount( 5 )\n",
    "bitcount( 10 )\n",
    "bitcount( 15 )"
   ]
  },
  {
   "cell_type": "code",
   "execution_count": 24,
   "metadata": {
    "collapsed": false
   },
   "outputs": [
    {
     "data": {
      "text/plain": [
       "False"
      ]
     },
     "execution_count": 24,
     "metadata": {},
     "output_type": "execute_result"
    }
   ],
   "source": [
    "## check the num is power of 2:\n",
    "def pow_2( num ):\n",
    "    num = num & ( num - 1 )\n",
    "    return num == 0\n",
    "pow_2( 2 )\n",
    "pow_2( 4 )\n",
    "pow_2( 3 )"
   ]
  },
  {
   "cell_type": "code",
   "execution_count": null,
   "metadata": {
    "collapsed": true
   },
   "outputs": [],
   "source": []
  }
 ],
 "metadata": {
  "kernelspec": {
   "display_name": "Python 3",
   "language": "python",
   "name": "python3"
  },
  "language_info": {
   "codemirror_mode": {
    "name": "ipython",
    "version": 3
   },
   "file_extension": ".py",
   "mimetype": "text/x-python",
   "name": "python",
   "nbconvert_exporter": "python",
   "pygments_lexer": "ipython3",
   "version": "3.6.0"
  }
 },
 "nbformat": 4,
 "nbformat_minor": 2
}
