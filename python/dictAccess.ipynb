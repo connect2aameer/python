{
 "cells": [
  {
   "cell_type": "code",
   "execution_count": null,
   "metadata": {
    "collapsed": true
   },
   "outputs": [],
   "source": []
  },
  {
   "cell_type": "code",
   "execution_count": 15,
   "metadata": {
    "collapsed": false
   },
   "outputs": [
    {
     "name": "stdout",
     "output_type": "stream",
     "text": [
      "FALSE\n",
      "None\n",
      "TRUE\n",
      "FALSE\n"
     ]
    }
   ],
   "source": [
    "\n",
    "\n",
    "def print_truth(exp):\n",
    "    print( 'TRUE' if exp else 'FALSE')\n",
    "    \n",
    "data=[]\n",
    "\n",
    "print( print_truth(data) )\n",
    "\n",
    "data.append(1)\n",
    "\n",
    "print_truth(data)\n",
    "\n",
    "print_truth( data == True )\n"
   ]
  },
  {
   "cell_type": "code",
   "execution_count": 18,
   "metadata": {
    "collapsed": false
   },
   "outputs": [
    {
     "name": "stdout",
     "output_type": "stream",
     "text": [
      "FALSE\n",
      "TRUE\n"
     ]
    }
   ],
   "source": [
    "\n",
    "\n",
    "class Test:\n",
    "    def __init__(self, value):\n",
    "        self.value = value\n",
    "    def __bool__(self):\n",
    "        return True if self.value else False\n",
    "    \n",
    "print_truth( Test([]))\n",
    "print_truth( Test(11))"
   ]
  },
  {
   "cell_type": "code",
   "execution_count": 20,
   "metadata": {
    "collapsed": false
   },
   "outputs": [
    {
     "name": "stdout",
     "output_type": "stream",
     "text": [
      "yes\n",
      "yesyes\n"
     ]
    }
   ],
   "source": [
    "#Testing for None:\n",
    "a = None\n",
    "\n",
    "if a is None:\n",
    "    print(\"yes\")\n",
    "\n",
    "if not a:\n",
    "    print(\"yesyes\")"
   ]
  },
  {
   "cell_type": "code",
   "execution_count": 22,
   "metadata": {
    "collapsed": false
   },
   "outputs": [
    {
     "name": "stdout",
     "output_type": "stream",
     "text": [
      "yes\n"
     ]
    }
   ],
   "source": [
    "#Multile test on single variable:\n",
    "a = [1,2,3,4]\n",
    "\n",
    "# a == 1 or a == 2\n",
    "if 1 in a:\n",
    "    print('yes')"
   ]
  },
  {
   "cell_type": "code",
   "execution_count": 24,
   "metadata": {
    "collapsed": false
   },
   "outputs": [
    {
     "name": "stdout",
     "output_type": "stream",
     "text": [
      "j\n",
      "c\n"
     ]
    }
   ],
   "source": [
    "#Choosing an item at randoms\n",
    "#Bad: C-style\n",
    "\n",
    "import random\n",
    "letters = 'abcdefghijklmno12345678910'\n",
    "index = random.randint(0, len(letters) - 1 )\n",
    "item = letters[index]\n",
    "print(item)\n",
    "\n",
    "#best way;\n",
    "item = random.choice(letters)\n",
    "print(item)"
   ]
  },
  {
   "cell_type": "code",
   "execution_count": 26,
   "metadata": {
    "collapsed": false
   },
   "outputs": [
    {
     "name": "stdout",
     "output_type": "stream",
     "text": [
      "hell, harsha and number is 32\n",
      "hello, harsha and number is 32\n"
     ]
    }
   ],
   "source": [
    "#String formatting:\n",
    "name='harsha'\n",
    "age=32\n",
    "print('hell, {} and number is {}'.format(name, age))\n",
    "\n",
    "## best \n",
    "print('hello, {name} and number is {age}'.format(name=name, age=age))"
   ]
  },
  {
   "cell_type": "code",
   "execution_count": 27,
   "metadata": {
    "collapsed": false
   },
   "outputs": [
    {
     "name": "stdout",
     "output_type": "stream",
     "text": [
      "On 1 and be 2\n"
     ]
    }
   ],
   "source": [
    "data = { 'a':1, 'b':2}\n",
    "print('On {a} and be {b}'.format(**data))"
   ]
  },
  {
   "cell_type": "code",
   "execution_count": 30,
   "metadata": {
    "collapsed": false
   },
   "outputs": [
    {
     "name": "stdout",
     "output_type": "stream",
     "text": [
      "a b\n"
     ]
    }
   ],
   "source": [
    "print(*data)  ## print only keys"
   ]
  },
  {
   "cell_type": "code",
   "execution_count": 33,
   "metadata": {
    "collapsed": false
   },
   "outputs": [],
   "source": [
    "## care enough to send an exit code:\n",
    "import time\n",
    "import sys\n",
    "\n",
    "def main():\n",
    "    confirm = input('Are you sure you want to format C: [ yes, NO]?')\n",
    "    if not confirm or confirm() != 'yes':\n",
    "        print('Format cancelled')\n",
    "        sys.exit(1)\n",
    "    \n",
    "    for _ in range(40):\n",
    "        time.sleep(.15)\n",
    "        print('.', end='')\n",
    "        sys.stdout.flush()\n",
    "    print()\n",
    "    print('Format completed sucessfully.Enjoy the new hard drive space')\n",
    "    "
   ]
  },
  {
   "cell_type": "code",
   "execution_count": 35,
   "metadata": {
    "collapsed": true
   },
   "outputs": [],
   "source": [
    "#flat is better than nested:\n",
    "def download_flat():\n",
    "    print('lets try to download a file:')\n",
    "    if not s.check_download_url():\n",
    "        print('bad url')\n",
    "        return\n",
    "    \n",
    "    if not s.check_network():\n",
    "        print('No network')\n",
    "        return\n",
    "    \n",
    "    if not s.check_access_allowed():\n",
    "        print('No acces')\n",
    "        return\n",
    "    "
   ]
  },
  {
   "cell_type": "code",
   "execution_count": 36,
   "metadata": {
    "collapsed": true
   },
   "outputs": [],
   "source": [
    "#Why dictionary:\n",
    "#backing store for types,classes and objects;\n",
    "# JSON\n",
    "# keyword arg in methods;\n",
    "# add significant performace to random access\n",
    "# Can add switch like fun to Pyhon\n",
    "# database records ( RDBMS and NoSQL )"
   ]
  },
  {
   "cell_type": "code",
   "execution_count": 37,
   "metadata": {
    "collapsed": false
   },
   "outputs": [
    {
     "name": "stdout",
     "output_type": "stream",
     "text": [
      "{'id': 271, 'render-fat': True, 'email': 'har@gmail.com', 'name': 'vardhana', 'title': 'Fase apps'}\n"
     ]
    }
   ],
   "source": [
    "#Merging dict:\n",
    "route = { 'id': 271, 'title': 'Fase apps'}\n",
    "query = { 'id': 1, 'render-fat': True }\n",
    "post = { 'email': 'har@gmail.com', 'name': 'vardhana'}\n",
    "\n",
    "m2 = query.copy()\n",
    "m2.update(post)\n",
    "m2.update(route)\n",
    "\n",
    "print(m2)"
   ]
  },
  {
   "cell_type": "code",
   "execution_count": 38,
   "metadata": {
    "collapsed": false
   },
   "outputs": [
    {
     "data": {
      "text/plain": [
       "{'email': 'har@gmail.com',\n",
       " 'id': 271,\n",
       " 'name': 'vardhana',\n",
       " 'render-fat': True,\n",
       " 'title': 'Fase apps'}"
      ]
     },
     "execution_count": 38,
     "metadata": {},
     "output_type": "execute_result"
    }
   ],
   "source": [
    "m3 = { k:v for d in [query, post, route ] for k,v in d.items() }\n",
    "m3"
   ]
  },
  {
   "cell_type": "code",
   "execution_count": 39,
   "metadata": {
    "collapsed": false
   },
   "outputs": [
    {
     "data": {
      "text/plain": [
       "{'email': 'har@gmail.com',\n",
       " 'id': 1,\n",
       " 'name': 'vardhana',\n",
       " 'render-fat': True,\n",
       " 'title': 'Fase apps'}"
      ]
     },
     "execution_count": 39,
     "metadata": {},
     "output_type": "execute_result"
    }
   ],
   "source": [
    "#> 3.5\n",
    "\n",
    "m4 = { **route, **post, **query }\n",
    "m4"
   ]
  },
  {
   "cell_type": "code",
   "execution_count": 41,
   "metadata": {
    "collapsed": false
   },
   "outputs": [],
   "source": [
    "## hacking py memory with slots:\n",
    "import collections\n",
    "ImmutableThingTuple = collections.namedtuple('ImmutableThingTuple', 'a b c d')\n",
    "\n",
    "class MutableThing:\n",
    "    def __init__(self,a,b,c,d):\n",
    "        self.a = a\n",
    "        self.b = b\n",
    "        self.c = c\n",
    "        self.d = d\n",
    "        "
   ]
  },
  {
   "cell_type": "code",
   "execution_count": 42,
   "metadata": {
    "collapsed": true
   },
   "outputs": [],
   "source": [
    "class ImmutableThing:\n",
    "    __slots__ = ['a','b','c','d']\n",
    "    def __init__(self,a,b,c,d):\n",
    "        self.a = a\n",
    "        self.b = b\n",
    "        self.c = c\n",
    "        self.d = d\n",
    "        "
   ]
  },
  {
   "cell_type": "code",
   "execution_count": 43,
   "metadata": {
    "collapsed": false
   },
   "outputs": [
    {
     "name": "stdout",
     "output_type": "stream",
     "text": [
      "2001\n"
     ]
    }
   ],
   "source": [
    "#safer dict item access:\n",
    "data = { 'year':2001, 'coutry':'USA', 'title':'Johny 5', 'duration': '119 min'}\n",
    "\n",
    "##optimistic style\n",
    "print( data['year'])"
   ]
  },
  {
   "cell_type": "code",
   "execution_count": 45,
   "metadata": {
    "collapsed": false
   },
   "outputs": [
    {
     "name": "stdout",
     "output_type": "stream",
     "text": [
      "Oops! 'yea'\n"
     ]
    }
   ],
   "source": [
    "#pessimistic style\n",
    "try:\n",
    "    print(data['yea'])\n",
    "except Exception as x:\n",
    "    print('Oops! {}'.format(x))"
   ]
  },
  {
   "cell_type": "code",
   "execution_count": 46,
   "metadata": {
    "collapsed": false
   },
   "outputs": [
    {
     "name": "stdout",
     "output_type": "stream",
     "text": [
      "2001\n"
     ]
    }
   ],
   "source": [
    "## safety first style\n",
    "if 'year' in data:\n",
    "    print(data['year'])\n",
    "else:\n",
    "    print('Oh we didnot find a rating..')"
   ]
  },
  {
   "cell_type": "code",
   "execution_count": 48,
   "metadata": {
    "collapsed": false
   },
   "outputs": [
    {
     "name": "stdout",
     "output_type": "stream",
     "text": [
      "2001\n",
      "None\n"
     ]
    }
   ],
   "source": [
    "#Accept None instead style\n",
    "print( data.get('year'))\n",
    "print(data.get('yea'))"
   ]
  },
  {
   "cell_type": "code",
   "execution_count": 54,
   "metadata": {
    "collapsed": false
   },
   "outputs": [
    {
     "name": "stdout",
     "output_type": "stream",
     "text": [
      "2001\n",
      "-1\n"
     ]
    }
   ],
   "source": [
    "#Explicit alternate value style:\n",
    "print( data.get('year', 0 ))\n",
    "print( data.get('rating', '-1'))"
   ]
  },
  {
   "cell_type": "code",
   "execution_count": 55,
   "metadata": {
    "collapsed": false
   },
   "outputs": [
    {
     "name": "stdout",
     "output_type": "stream",
     "text": [
      "2001\n",
      "MISSING\n"
     ]
    }
   ],
   "source": [
    "#default dict\n",
    "from collections import defaultdict\n",
    "data = defaultdict( lambda: \"MISSING\", data )\n",
    "print( data['year'])\n",
    "print( data['eya'])"
   ]
  },
  {
   "cell_type": "code",
   "execution_count": null,
   "metadata": {
    "collapsed": true
   },
   "outputs": [],
   "source": [
    "\n",
    "\n"
   ]
  }
 ],
 "metadata": {
  "kernelspec": {
   "display_name": "Python 3",
   "language": "python",
   "name": "python3"
  },
  "language_info": {
   "codemirror_mode": {
    "name": "ipython",
    "version": 3
   },
   "file_extension": ".py",
   "mimetype": "text/x-python",
   "name": "python",
   "nbconvert_exporter": "python",
   "pygments_lexer": "ipython3",
   "version": "3.6.0"
  }
 },
 "nbformat": 4,
 "nbformat_minor": 2
}
