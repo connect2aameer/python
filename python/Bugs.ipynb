{
 "cells": [
  {
   "cell_type": "code",
   "execution_count": 14,
   "metadata": {},
   "outputs": [
    {
     "name": "stdout",
     "output_type": "stream",
     "text": [
      "1743350848\n",
      "1743350848\n",
      "True\n",
      "2234955119000\n",
      "2234955120120\n"
     ]
    }
   ],
   "source": [
    "a = 1\n",
    "b = 1\n",
    "print(id(a))\n",
    "print(id(b))\n",
    "\n",
    "print( a is b )\n",
    "\n",
    "#while interned, ASCII letters are not part of strings\n",
    "a = \"hi!\"\n",
    "b = \"hi!\"\n",
    "print(id(a))\n",
    "print(id(b))\n",
    "\n"
   ]
  },
  {
   "cell_type": "code",
   "execution_count": 15,
   "metadata": {},
   "outputs": [
    {
     "name": "stdout",
     "output_type": "stream",
     "text": [
      "2234955120232\n",
      "2234955120232\n"
     ]
    }
   ],
   "source": [
    "#Compiler Optimizations\n",
    "a,b = \"hi!\", \"hi!\"\n",
    "print(id(a))\n",
    "print(id(b))"
   ]
  },
  {
   "cell_type": "code",
   "execution_count": 18,
   "metadata": {},
   "outputs": [
    {
     "name": "stdout",
     "output_type": "stream",
     "text": [
      "{1.1: 'a', 1.0: 'c'}\n",
      "True\n",
      "True\n",
      "\n",
      "[(1, 'a'), (1.0, 'b'), (2, 'c')]\n",
      "{'a': 1}\n",
      "[('a', 1), ('b', 'missing value')]\n"
     ]
    }
   ],
   "source": [
    "#Dict are implemented with hash table.\n",
    "# Practical Keys are never float or int.\n",
    "\n",
    "#Problem_1: if the keys are float or int\n",
    "d = {}\n",
    "d[1.1] = 'a'\n",
    "d[1.0] = 'b'\n",
    "d[1] = 'c'\n",
    "print(d) #filtered key 1.\n",
    "\n",
    "print( 1 == 1.0 )\n",
    "print( hash(1) == hash(1.0)) ## hash collision: Objects with different values may also have same keys.\n",
    "\n",
    "#Solution\n",
    "from itertools import zip_longest\n",
    "k = [ 1, 1.0, 2 ]\n",
    "v = [ 'a', 'b','c']\n",
    "\n",
    "print()\n",
    "z = zip_longest( k,v, fillvalue='blank')\n",
    "print( list(z) )\n",
    "\n",
    "#Problem_2: Missing keys or values in the dict\n",
    "k = [ 'a', 'b']\n",
    "v = [ 1 ]\n",
    "d = dict(zip(k,v))\n",
    "print(d) # Missing key 'b' without notify. \n",
    "\n",
    "#Solution:\n",
    "z = zip_longest(k,v, fillvalue='missing value')\n",
    "print(list(z))\n",
    "\n",
    "#Problem3:  Dict memories are costly due to avoid Collision's.\n",
    "\n",
    "#Ref: https://github.com/harshavl/python/blob/master/dictWorks.ipynb\n"
   ]
  },
  {
   "cell_type": "code",
   "execution_count": 25,
   "metadata": {},
   "outputs": [
    {
     "name": "stdout",
     "output_type": "stream",
     "text": [
      "In try\n"
     ]
    },
    {
     "data": {
      "text/plain": [
       "'from_finally'"
      ]
     },
     "execution_count": 25,
     "metadata": {},
     "output_type": "execute_result"
    }
   ],
   "source": [
    "#return: when a return, break or continue statement executes in try. finally also executed.\n",
    "# careful while using finally\n",
    "def some_func():\n",
    "    try:\n",
    "        print(\"In try\")\n",
    "        return 'from_try'\n",
    "    finally:\n",
    "        return 'from_finally'\n",
    "    \n",
    "some_func()"
   ]
  },
  {
   "cell_type": "code",
   "execution_count": 31,
   "metadata": {},
   "outputs": [
    {
     "name": "stdout",
     "output_type": "stream",
     "text": [
      "False\n",
      "False\n",
      "True\n",
      "True\n"
     ]
    }
   ],
   "source": [
    "#simple objects and Container objects:\n",
    "\n",
    "class Test(object):\n",
    "    pass\n",
    "\n",
    "print( Test() == Test() ) # Due to container objects\n",
    "print ( Test() == Test() ) # Identities are also different\n",
    "print( hash(Test() ) == hash(Test() )) #keys are same\n",
    "print( id(Test()) == id(Test() )) # as given below example, Initialized and destroyed in the same memory allocation."
   ]
  },
  {
   "cell_type": "code",
   "execution_count": 28,
   "metadata": {},
   "outputs": [],
   "source": [
    "class WTF(object):\n",
    "  def __init__(self): print(\"I\")\n",
    "  def __del__(self): print(\"D\")"
   ]
  },
  {
   "cell_type": "code",
   "execution_count": 29,
   "metadata": {},
   "outputs": [
    {
     "name": "stdout",
     "output_type": "stream",
     "text": [
      "I\n",
      "I\n",
      "D\n",
      "D\n"
     ]
    },
    {
     "data": {
      "text/plain": [
       "False"
      ]
     },
     "execution_count": 29,
     "metadata": {},
     "output_type": "execute_result"
    }
   ],
   "source": [
    "WTF() is WTF() #Both class object Intialized and destroyed."
   ]
  },
  {
   "cell_type": "code",
   "execution_count": 30,
   "metadata": {},
   "outputs": [
    {
     "name": "stdout",
     "output_type": "stream",
     "text": [
      "I\n",
      "D\n",
      "I\n",
      "D\n"
     ]
    },
    {
     "data": {
      "text/plain": [
       "True"
      ]
     },
     "execution_count": 30,
     "metadata": {},
     "output_type": "execute_result"
    }
   ],
   "source": [
    "id(WTF()) == id(WTF())"
   ]
  },
  {
   "cell_type": "code",
   "execution_count": 38,
   "metadata": {},
   "outputs": [
    {
     "name": "stdout",
     "output_type": "stream",
     "text": [
      "{0: 't', 1: 'e', 2: 's', 3: 't'}\n",
      "{0: 't', 1: 'e'}\n"
     ]
    }
   ],
   "source": [
    "a = 'test'\n",
    "d = {}\n",
    "for i,d[i] in enumerate(a):\n",
    "    pass\n",
    "\n",
    "print(d)\n",
    "#same as below\n",
    "d1 = {}\n",
    "i,d1[i] = (0,'t')\n",
    "i,d1[i] = (1,'e')\n",
    "print(d1)"
   ]
  },
  {
   "cell_type": "code",
   "execution_count": 49,
   "metadata": {},
   "outputs": [
    {
     "name": "stdout",
     "output_type": "stream",
     "text": [
      "[1, 2, 3, 4]\n",
      "[1, 2, 3, 4, 5]\n"
     ]
    }
   ],
   "source": [
    "#Difference between slice assignment [:] means entire list and = means doesn't replace to new elements.\n",
    "array_1 = [1,2,3,4]\n",
    "g1 = (x for x in array_1) #in pointed to old object\n",
    "array_1 = [1,2,3,4,5] \n",
    "\n",
    "array_2 = [1,2,3,4]\n",
    "g2 = (x for x in array_2) # both variables are pointed to same object\n",
    "array_2[:] = [1,2,3,4,5] \n",
    "\n",
    "print( list(g1) )\n",
    "print( list(g2) )"
   ]
  },
  {
   "cell_type": "code",
   "execution_count": 53,
   "metadata": {},
   "outputs": [
    {
     "name": "stdout",
     "output_type": "stream",
     "text": [
      "True\n",
      "False\n",
      "True\n",
      "False\n"
     ]
    }
   ],
   "source": [
    "#Difference between is ( strings match ) and == ( numric match )\n",
    "\n",
    "a = 256\n",
    "b = 256\n",
    "print( a is b )\n",
    "\n",
    "a = 257\n",
    "b = 257\n",
    "print( a is b )\n",
    "\n",
    "#is checks belongs to same objects(reference) or not\n",
    "#== checks belongs to value or not\n",
    "print( [] == [])\n",
    "print( [] is []) # empty list at different memory address"
   ]
  },
  {
   "cell_type": "code",
   "execution_count": 61,
   "metadata": {},
   "outputs": [
    {
     "name": "stdout",
     "output_type": "stream",
     "text": [
      "1743359008\n",
      "1743359008\n",
      "\n",
      "1978733120240\n",
      "1978733119728\n",
      "\n",
      "1978733120336\n",
      "1978733120336\n"
     ]
    }
   ],
   "source": [
    "print(id(256))\n",
    "print(id(256)) # both id are same\n",
    "print()\n",
    "print(id(257)) # this is due to int ranges\n",
    "print(id(257)) # both are different id\n",
    "\n",
    "print()\n",
    "a,b = 257,257\n",
    "print(id(a))\n",
    "print(id(b)) #same id due to compiler Optimization."
   ]
  },
  {
   "cell_type": "code",
   "execution_count": 66,
   "metadata": {},
   "outputs": [
    {
     "name": "stdout",
     "output_type": "stream",
     "text": [
      "True\n",
      "False\n",
      "True\n"
     ]
    }
   ],
   "source": [
    "# is not vs is (not ..)\n",
    "\n",
    "print( 'test' is not None )\n",
    "\n",
    "print( 'test' is ( not None ))\n",
    "\n",
    "print( not None )"
   ]
  },
  {
   "cell_type": "code",
   "execution_count": 75,
   "metadata": {},
   "outputs": [
    {
     "name": "stdout",
     "output_type": "stream",
     "text": [
      "\\ C:\\\n",
      "\\ C:\n"
     ]
    }
   ],
   "source": [
    "print(\"\\\\ C:\\\\\")\n",
    "print(r\"\\ C:\")"
   ]
  },
  {
   "cell_type": "code",
   "execution_count": 89,
   "metadata": {},
   "outputs": [
    {
     "ename": "SyntaxError",
     "evalue": "invalid syntax (<ipython-input-89-9fe56a4e9a5f>, line 5)",
     "output_type": "error",
     "traceback": [
      "\u001b[1;36m  File \u001b[1;32m\"<ipython-input-89-9fe56a4e9a5f>\"\u001b[1;36m, line \u001b[1;32m5\u001b[0m\n\u001b[1;33m    print( 1 == not 2 ) # not works due == is higher precedence than not\u001b[0m\n\u001b[1;37m                  ^\u001b[0m\n\u001b[1;31mSyntaxError\u001b[0m\u001b[1;31m:\u001b[0m invalid syntax\n"
     ]
    }
   ],
   "source": [
    "print( \"test\" not in \"har\" )\n",
    "print ( \"test\" != \"har\" ) #both are same precedence\n",
    "\n",
    "print ( not 2 )\n",
    "print( 1 == not 2 ) # not works due == is higher precedence than not"
   ]
  },
  {
   "cell_type": "code",
   "execution_count": 97,
   "metadata": {},
   "outputs": [
    {
     "ename": "SyntaxError",
     "evalue": "EOF while scanning triple-quoted string literal (<ipython-input-97-40da9d25ec3b>, line 5)",
     "output_type": "error",
     "traceback": [
      "\u001b[1;36m  File \u001b[1;32m\"<ipython-input-97-40da9d25ec3b>\"\u001b[1;36m, line \u001b[1;32m5\u001b[0m\n\u001b[1;33m    print(''' test')#syntax ERROR\u001b[0m\n\u001b[1;37m                                 ^\u001b[0m\n\u001b[1;31mSyntaxError\u001b[0m\u001b[1;31m:\u001b[0m EOF while scanning triple-quoted string literal\n"
     ]
    }
   ],
   "source": [
    "print('test''')\n",
    "print(\"test\"\"\")\n",
    "\n",
    "print()\n",
    "print(''' test')#syntax ERROR\n",
    "\n"
   ]
  },
  {
   "cell_type": "code",
   "execution_count": 102,
   "metadata": {},
   "outputs": [
    {
     "name": "stdout",
     "output_type": "stream",
     "text": [
      "welcomeHome\n"
     ]
    }
   ],
   "source": [
    "a = \"welcome\" \"Home\"\n",
    "print(a) # works without + operators\n"
   ]
  },
  {
   "cell_type": "code",
   "execution_count": 105,
   "metadata": {},
   "outputs": [
    {
     "data": {
      "text/plain": [
       "True"
      ]
     },
     "execution_count": 105,
     "metadata": {},
     "output_type": "execute_result"
    }
   ],
   "source": [
    "#difference bool and int\n",
    "True == 1\n",
    "False == 0"
   ]
  },
  {
   "cell_type": "code",
   "execution_count": 106,
   "metadata": {},
   "outputs": [
    {
     "name": "stdout",
     "output_type": "stream",
     "text": [
      "4\n",
      "0\n"
     ]
    }
   ],
   "source": [
    "mixed_list = [False, 1.0, \"some_string\", 3, True, [], False]\n",
    "integers_found_so_far = 0\n",
    "booleans_found_so_far = 0\n",
    "\n",
    "for item in mixed_list:\n",
    "    if isinstance(item, int):\n",
    "        integers_found_so_far += 1\n",
    "    elif isinstance(item, bool):\n",
    "        booleans_found_so_far += 1\n",
    "        \n",
    "print(integers_found_so_far)\n",
    "print(booleans_found_so_far)"
   ]
  },
  {
   "cell_type": "code",
   "execution_count": 109,
   "metadata": {},
   "outputs": [
    {
     "data": {
      "text/plain": [
       "'Python'"
      ]
     },
     "execution_count": 109,
     "metadata": {},
     "output_type": "execute_result"
    }
   ],
   "source": [
    "another_dict = {}\n",
    "another_dict[True] = \"JavaScript\"\n",
    "another_dict[1] = \"Ruby\"\n",
    "another_dict[1.0] = \"Python\"\n",
    "\n",
    "another_dict[True] # as above"
   ]
  },
  {
   "cell_type": "code",
   "execution_count": 112,
   "metadata": {},
   "outputs": [
    {
     "name": "stdout",
     "output_type": "stream",
     "text": [
      "test\n",
      "\n"
     ]
    }
   ],
   "source": [
    "a = True\n",
    "print( 'test' * a)\n",
    "b = False\n",
    "print( 'test' * b) #empty"
   ]
  },
  {
   "cell_type": "code",
   "execution_count": 115,
   "metadata": {},
   "outputs": [
    {
     "name": "stdout",
     "output_type": "stream",
     "text": [
      "True\n",
      "True\n"
     ]
    }
   ],
   "source": [
    "print ( isinstance(True, int) )\n",
    "print( isinstance(False, int)) # bool are subclass of int"
   ]
  },
  {
   "cell_type": "code",
   "execution_count": 116,
   "metadata": {},
   "outputs": [
    {
     "data": {
      "text/plain": [
       "True"
      ]
     },
     "execution_count": 116,
     "metadata": {},
     "output_type": "execute_result"
    }
   ],
   "source": [
    "True == 1 == 1.0 and False == 0 == 0.0"
   ]
  },
  {
   "cell_type": "code",
   "execution_count": 120,
   "metadata": {},
   "outputs": [
    {
     "ename": "SyntaxError",
     "evalue": "can't assign to keyword (<ipython-input-120-add659797359>, line 1)",
     "output_type": "error",
     "traceback": [
      "\u001b[1;36m  File \u001b[1;32m\"<ipython-input-120-add659797359>\"\u001b[1;36m, line \u001b[1;32m1\u001b[0m\n\u001b[1;33m    True = False #\u001b[0m\n\u001b[1;37m                   ^\u001b[0m\n\u001b[1;31mSyntaxError\u001b[0m\u001b[1;31m:\u001b[0m can't assign to keyword\n"
     ]
    }
   ],
   "source": [
    "True = False # "
   ]
  },
  {
   "cell_type": "code",
   "execution_count": 21,
   "metadata": {},
   "outputs": [
    {
     "name": "stdout",
     "output_type": "stream",
     "text": [
      "None\n"
     ]
    }
   ],
   "source": [
    "some_list = [1, 2, 3]\n",
    "some_list = some_list.append(4) #avoid assigning while append/update \n",
    "\n",
    "print(some_list)"
   ]
  },
  {
   "cell_type": "code",
   "execution_count": 25,
   "metadata": {},
   "outputs": [
    {
     "data": {
      "text/plain": [
       "([1, 2], [3, 4], [5, 6, 1000])"
      ]
     },
     "execution_count": 25,
     "metadata": {},
     "output_type": "execute_result"
    }
   ],
   "source": [
    "#List in the Tuple\n",
    "some_tuple = (\"A\", \"tuple\", \"with\", \"values\")\n",
    "another_tuple = ([1, 2], [3, 4], [5, 6])\n",
    "#Tuple\n",
    "another_tuple[2].append(1000) # works due to list\n",
    "another_tuple"
   ]
  },
  {
   "cell_type": "code",
   "execution_count": 26,
   "metadata": {},
   "outputs": [
    {
     "ename": "AttributeError",
     "evalue": "'tuple' object has no attribute 'append'",
     "output_type": "error",
     "traceback": [
      "\u001b[1;31m---------------------------------------------------------------------------\u001b[0m",
      "\u001b[1;31mAttributeError\u001b[0m                            Traceback (most recent call last)",
      "\u001b[1;32m<ipython-input-26-92247f834ebc>\u001b[0m in \u001b[0;36m<module>\u001b[1;34m()\u001b[0m\n\u001b[0;32m      1\u001b[0m \u001b[0mt2\u001b[0m \u001b[1;33m=\u001b[0m \u001b[1;33m(\u001b[0m \u001b[1;33m(\u001b[0m\u001b[1;36m1\u001b[0m\u001b[1;33m,\u001b[0m\u001b[1;36m2\u001b[0m\u001b[1;33m)\u001b[0m\u001b[1;33m,\u001b[0m \u001b[1;33m(\u001b[0m\u001b[1;36m3\u001b[0m\u001b[1;33m,\u001b[0m\u001b[1;36m4\u001b[0m\u001b[1;33m)\u001b[0m\u001b[1;33m)\u001b[0m\u001b[1;33m\u001b[0m\u001b[0m\n\u001b[1;32m----> 2\u001b[1;33m \u001b[0mt2\u001b[0m\u001b[1;33m[\u001b[0m\u001b[1;36m1\u001b[0m\u001b[1;33m]\u001b[0m\u001b[1;33m.\u001b[0m\u001b[0mappend\u001b[0m\u001b[1;33m(\u001b[0m\u001b[1;36m10\u001b[0m\u001b[1;33m)\u001b[0m \u001b[1;31m# tuple don't have append\u001b[0m\u001b[1;33m\u001b[0m\u001b[0m\n\u001b[0m",
      "\u001b[1;31mAttributeError\u001b[0m: 'tuple' object has no attribute 'append'"
     ]
    }
   ],
   "source": [
    "t2 = ( (1,2), (3,4))\n",
    "t2[1].append(10) # tuple don't have append"
   ]
  },
  {
   "cell_type": "code",
   "execution_count": 29,
   "metadata": {},
   "outputs": [
    {
     "ename": "NameError",
     "evalue": "name 'e' is not defined",
     "output_type": "error",
     "traceback": [
      "\u001b[1;31m---------------------------------------------------------------------------\u001b[0m",
      "\u001b[1;31mNameError\u001b[0m                                 Traceback (most recent call last)",
      "\u001b[1;32m<ipython-input-29-a17562a073c7>\u001b[0m in \u001b[0;36m<module>\u001b[1;34m()\u001b[0m\n\u001b[0;32m      5\u001b[0m     \u001b[1;32mpass\u001b[0m\u001b[1;33m\u001b[0m\u001b[0m\n\u001b[0;32m      6\u001b[0m \u001b[1;33m\u001b[0m\u001b[0m\n\u001b[1;32m----> 7\u001b[1;33m \u001b[0mprint\u001b[0m\u001b[1;33m(\u001b[0m\u001b[0me\u001b[0m\u001b[1;33m)\u001b[0m\u001b[1;33m\u001b[0m\u001b[0m\n\u001b[0m",
      "\u001b[1;31mNameError\u001b[0m: name 'e' is not defined"
     ]
    }
   ],
   "source": [
    "e = 7\n",
    "try:\n",
    "    raise Exception()\n",
    "except Exception as e: # e defined as Exception\n",
    "    pass\n",
    "\n",
    "print(e)"
   ]
  },
  {
   "cell_type": "code",
   "execution_count": 31,
   "metadata": {},
   "outputs": [
    {
     "ename": "UnboundLocalError",
     "evalue": "local variable 'x' referenced before assignment",
     "output_type": "error",
     "traceback": [
      "\u001b[1;31m---------------------------------------------------------------------------\u001b[0m",
      "\u001b[1;31mUnboundLocalError\u001b[0m                         Traceback (most recent call last)",
      "\u001b[1;32m<ipython-input-31-4253d44e038a>\u001b[0m in \u001b[0;36m<module>\u001b[1;34m()\u001b[0m\n\u001b[0;32m      3\u001b[0m     \u001b[0mprint\u001b[0m \u001b[1;33m(\u001b[0m\u001b[0mx\u001b[0m\u001b[1;33m)\u001b[0m\u001b[1;33m\u001b[0m\u001b[0m\n\u001b[0;32m      4\u001b[0m \u001b[1;33m\u001b[0m\u001b[0m\n\u001b[1;32m----> 5\u001b[1;33m \u001b[0mf\u001b[0m\u001b[1;33m(\u001b[0m\u001b[1;36m2\u001b[0m\u001b[1;33m)\u001b[0m\u001b[1;33m\u001b[0m\u001b[0m\n\u001b[0m",
      "\u001b[1;32m<ipython-input-31-4253d44e038a>\u001b[0m in \u001b[0;36mf\u001b[1;34m(***failed resolving arguments***)\u001b[0m\n\u001b[0;32m      1\u001b[0m \u001b[1;32mdef\u001b[0m \u001b[0mf\u001b[0m\u001b[1;33m(\u001b[0m\u001b[0mx\u001b[0m\u001b[1;33m)\u001b[0m\u001b[1;33m:\u001b[0m\u001b[1;33m\u001b[0m\u001b[0m\n\u001b[0;32m      2\u001b[0m     \u001b[1;32mdel\u001b[0m \u001b[1;33m(\u001b[0m\u001b[0mx\u001b[0m\u001b[1;33m)\u001b[0m\u001b[1;33m\u001b[0m\u001b[0m\n\u001b[1;32m----> 3\u001b[1;33m     \u001b[0mprint\u001b[0m \u001b[1;33m(\u001b[0m\u001b[0mx\u001b[0m\u001b[1;33m)\u001b[0m\u001b[1;33m\u001b[0m\u001b[0m\n\u001b[0m\u001b[0;32m      4\u001b[0m \u001b[1;33m\u001b[0m\u001b[0m\n\u001b[0;32m      5\u001b[0m \u001b[0mf\u001b[0m\u001b[1;33m(\u001b[0m\u001b[1;36m2\u001b[0m\u001b[1;33m)\u001b[0m\u001b[1;33m\u001b[0m\u001b[0m\n",
      "\u001b[1;31mUnboundLocalError\u001b[0m: local variable 'x' referenced before assignment"
     ]
    }
   ],
   "source": [
    "def f(x):\n",
    "    del (x)\n",
    "    print (x)\n",
    "    \n",
    "f(2)"
   ]
  },
  {
   "cell_type": "code",
   "execution_count": 54,
   "metadata": {},
   "outputs": [
    {
     "name": "stdout",
     "output_type": "stream",
     "text": [
      "[1, 2, 3, 4]\n",
      "-------\n",
      "[2, 4]\n",
      "[]\n",
      "[2, 4]\n"
     ]
    }
   ],
   "source": [
    "#difference between del, remove and pop\n",
    "list_1 = [1, 2, 3, 4]\n",
    "list_2 = [1, 2, 3, 4]\n",
    "list_3 = [1, 2, 3, 4]\n",
    "list_4 = [1, 2, 3, 4]\n",
    "\n",
    "for idx, item in enumerate(list_1):\n",
    "    del item\n",
    "    \n",
    "for idx, item in enumerate(list_2):\n",
    "    #print(item) \n",
    "    list_2.remove(item) # 0 index removed and value 2 is at 0 index and 3 is at 1 index.\n",
    "    \n",
    "for idx, item in enumerate(list_3[:]): # slice creates new Object.So, don't use while iterate\n",
    "    #print(item)\n",
    "    list_3.remove(item) \n",
    "    \n",
    "for idx,item in enumerate( list_4 ):\n",
    "    list_4.pop(idx) # same as above remove\n",
    "\n",
    "\n",
    "    \n",
    "print(list_1)\n",
    "print(\"-------\")\n",
    "print( list_2)\n",
    "print(list_3)\n",
    "print( list_4 )\n"
   ]
  },
  {
   "cell_type": "code",
   "execution_count": 59,
   "metadata": {},
   "outputs": [
    {
     "name": "stdout",
     "output_type": "stream",
     "text": [
      " value: 6\n",
      "value outside the loop:6\n"
     ]
    }
   ],
   "source": [
    "\n",
    "\n",
    "for i in range(7):\n",
    "    if i == 6:\n",
    "        print(\" value: %r\"%(i))\n",
    "print(\"value outside the loop:%r\"%(i)) # i is global value"
   ]
  },
  {
   "cell_type": "code",
   "execution_count": 67,
   "metadata": {},
   "outputs": [
    {
     "name": "stdout",
     "output_type": "stream",
     "text": [
      "[0, 1, 2, 3, 4]\n",
      "1 : x in global\n"
     ]
    }
   ],
   "source": [
    "x = 1\n",
    "print([x for x in range(5)])\n",
    "print(x, ': x in global') # takes defined one"
   ]
  },
  {
   "cell_type": "code",
   "execution_count": 71,
   "metadata": {},
   "outputs": [
    {
     "name": "stdout",
     "output_type": "stream",
     "text": [
      "['test']\n",
      "['test', 'test']\n"
     ]
    }
   ],
   "source": [
    "\n",
    "def fun( default_arg = [] ):\n",
    "    default_arg.append(\"test\")\n",
    "    return default_arg\n",
    "    \n",
    "print( fun())\n",
    "print( fun() ) ## added twice"
   ]
  },
  {
   "cell_type": "code",
   "execution_count": 75,
   "metadata": {},
   "outputs": [
    {
     "name": "stdout",
     "output_type": "stream",
     "text": [
      "['test']\n",
      "['test']\n"
     ]
    }
   ],
   "source": [
    "def fun( default_arg=None):\n",
    "    default_arg = []\n",
    "    default_arg.append(\"test\")\n",
    "    return default_arg\n",
    "\n",
    "\n",
    "print( fun())\n",
    "print( fun())"
   ]
  },
  {
   "cell_type": "code",
   "execution_count": 78,
   "metadata": {},
   "outputs": [
    {
     "name": "stdout",
     "output_type": "stream",
     "text": [
      "Caught again!\n",
      "list.remove(x): x not in list\n"
     ]
    }
   ],
   "source": [
    "#Exception\n",
    "some_list = [1, 2, 3]\n",
    "try:\n",
    "   # This should raise a ``ValueError``\n",
    "   some_list.remove(4)\n",
    "except (IndexError, ValueError) as e:\n",
    "   print(\"Caught again!\")\n",
    "   print(e)"
   ]
  },
  {
   "cell_type": "code",
   "execution_count": 81,
   "metadata": {},
   "outputs": [],
   "source": [
    "try:\n",
    "    pass\n",
    "except:\n",
    "    print(\"Exception\")\n"
   ]
  },
  {
   "cell_type": "code",
   "execution_count": 86,
   "metadata": {},
   "outputs": [
    {
     "name": "stdout",
     "output_type": "stream",
     "text": [
      "5\n",
      "5\n"
     ]
    }
   ],
   "source": [
    "a = 5\n",
    "print( ++a ) # In C, a = a and assign 1 value a = a + 1. But, thre is no ++ in python and It's + + operators\n",
    "print( --a ) # - * - = +"
   ]
  },
  {
   "cell_type": "code",
   "execution_count": null,
   "metadata": {},
   "outputs": [],
   "source": []
  }
 ],
 "metadata": {
  "kernelspec": {
   "display_name": "Python 3",
   "language": "python",
   "name": "python3"
  },
  "language_info": {
   "codemirror_mode": {
    "name": "ipython",
    "version": 3
   },
   "file_extension": ".py",
   "mimetype": "text/x-python",
   "name": "python",
   "nbconvert_exporter": "python",
   "pygments_lexer": "ipython3",
   "version": "3.6.5"
  }
 },
 "nbformat": 4,
 "nbformat_minor": 2
}
