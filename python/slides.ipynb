{
 "cells": [
  {
   "cell_type": "markdown",
   "metadata": {
    "slideshow": {
     "slide_type": "slide"
    }
   },
   "source": [
    "** Practical Python programming.** <br>\n",
    "\n",
    "by Automation Team"
   ]
  },
  {
   "cell_type": "markdown",
   "metadata": {
    "slideshow": {
     "slide_type": "slide"
    }
   },
   "source": [
    "**1. Applications** <br>\n",
    "<br>\n",
    "Shell Tools: system admin, command line programs. <br>\n",
    "Language-based modules: using frameworks or modules. <br>\n",
    "GUI:\n",
    "Database access: MongoDB, Cassandra, MySQL. <br>\n",
    "Parallel and Distributing programming: GPU, OpenCL, CUDA. <br>\n",
    "Network programming: Any OSI Layers. <br>\n",
    "Machine/Deep Learning: Tensor flow and XGBoost.<br>\n",
    "Computer Vision and Image processing. <br>\n",
    "Dev ops and Cloud: Open-Stack. <br>\n",
    "Data Science: Analysis, Dashboard, Manipulations. <br>\n",
    "\n"
   ]
  },
  {
   "cell_type": "markdown",
   "metadata": {
    "slideshow": {
     "slide_type": "slide"
    }
   },
   "source": [
    "**Features** <br>\n",
    "<br>\n",
    "No Compiling or Linking <br>\n",
    "No type declarations <br>\n",
    "Object-Oriented Programming <br>\n",
    "Embedding and extending C <br>\n",
    "Dynamic loading of C modules <br>\n",
    "Garbage collection <br>\n",
    "Mixed language systems <br>\n",
    "Simpler, shorter, more flexible <br>\n"
   ]
  },
  {
   "cell_type": "markdown",
   "metadata": {
    "slideshow": {
     "slide_type": "slide"
    }
   },
   "source": [
    "**When not to use Python!! ** <br>\n",
    "<br>\n",
    "Not efficient as C. <br>\n",
    "Memory Consumption due to the flexibility of the data type’s. <br>\n",
    "\n"
   ]
  },
  {
   "cell_type": "markdown",
   "metadata": {
    "slideshow": {
     "slide_type": "slide"
    }
   },
   "source": [
    "** What IDE to use ** <br>\n",
    "<br>\n",
    "Jupyter notebook <br>\n",
    "PyCharm <br>\n",
    "PyDev by Eclipse <br>\n",
    "Komodo <br>\n",
    "Atom <br>\n",
    "Vim <br>\n",
    "PIDA(Linux) <br>\n",
    "BlueFish <br>\n"
   ]
  },
  {
   "cell_type": "markdown",
   "metadata": {
    "slideshow": {
     "slide_type": "slide"
    }
   },
   "source": [
    "**2. Basics **"
   ]
  },
  {
   "cell_type": "markdown",
   "metadata": {
    "slideshow": {
     "slide_type": "slide"
    }
   },
   "source": [
    "• How to create strings<br>\n",
    "• String concatenation<br>\n",
    "• String methods<br>\n",
    "• String slicing<br>\n",
    "• String substitution<br>"
   ]
  },
  {
   "cell_type": "code",
   "execution_count": 4,
   "metadata": {
    "slideshow": {
     "slide_type": "slide"
    }
   },
   "outputs": [
    {
     "name": "stdout",
     "output_type": "stream",
     "text": [
      "welcome to  programming\n",
      "Welcome to programming\n",
      "Welcome to programming\n",
      "Welcome to programming\n"
     ]
    },
    {
     "data": {
      "text/plain": [
       "'Welcome to programming'"
      ]
     },
     "execution_count": 4,
     "metadata": {},
     "output_type": "execute_result"
    }
   ],
   "source": [
    "#print statements\n",
    "\n",
    "text_str=\"programming\"\n",
    "\n",
    "print(\"welcome to \", text_str)\n",
    "print('Welcome to %s'%(text_str))  ## C style\n",
    "print('Welcome to {}'.format(text_str))\n",
    "print('Welcome to {0}'.format(text_str))\n",
    "f\"Welcome to {text_str}\"\n"
   ]
  },
  {
   "cell_type": "code",
   "execution_count": 15,
   "metadata": {
    "slideshow": {
     "slide_type": "slide"
    }
   },
   "outputs": [
    {
     "name": "stdout",
     "output_type": "stream",
     "text": [
      " Welcome \n",
      "2\n",
      "22\n",
      "3\n",
      "222\n"
     ]
    }
   ],
   "source": [
    "#Create strings\n",
    "\n",
    "my_str = 'Welcome'\n",
    "my_str = \"Welcome\"\n",
    "my_str = ''' Welcome '''\n",
    "\n",
    "print(my_str)\n",
    "\n",
    "#Difference between int and str assignment\n",
    "num_int = 1\n",
    "num_str = '2'\n",
    "\n",
    "#int\n",
    "print( num_int + num_int )\n",
    "print( num_str + num_str )\n",
    "\n",
    "#str\n",
    "print(num_int * 3 )\n",
    "print( num_str * 3)\n",
    "\n",
    "\n"
   ]
  },
  {
   "cell_type": "code",
   "execution_count": 22,
   "metadata": {
    "slideshow": {
     "slide_type": "slide"
    }
   },
   "outputs": [
    {
     "name": "stdout",
     "output_type": "stream",
     "text": [
      "1\n",
      "2\n"
     ]
    },
    {
     "ename": "ValueError",
     "evalue": "invalid literal for int() with base 10: '1.1'",
     "output_type": "error",
     "traceback": [
      "\u001b[1;31m---------------------------------------------------------------------------\u001b[0m",
      "\u001b[1;31mValueError\u001b[0m                                Traceback (most recent call last)",
      "\u001b[1;32m<ipython-input-22-1b39555347ce>\u001b[0m in \u001b[0;36m<module>\u001b[1;34m()\u001b[0m\n\u001b[0;32m      7\u001b[0m \u001b[1;33m\u001b[0m\u001b[0m\n\u001b[0;32m      8\u001b[0m \u001b[0mnum_float\u001b[0m \u001b[1;33m=\u001b[0m \u001b[1;34m\"1.1\"\u001b[0m\u001b[1;33m\u001b[0m\u001b[0m\n\u001b[1;32m----> 9\u001b[1;33m \u001b[0mprint\u001b[0m\u001b[1;33m(\u001b[0m \u001b[0mint\u001b[0m\u001b[1;33m(\u001b[0m \u001b[0mnum_float\u001b[0m\u001b[1;33m)\u001b[0m \u001b[1;33m)\u001b[0m\u001b[1;33m\u001b[0m\u001b[0m\n\u001b[0m\u001b[0;32m     10\u001b[0m \u001b[1;33m\u001b[0m\u001b[0m\n\u001b[0;32m     11\u001b[0m \u001b[1;31m# Why cann't type cast float to str\u001b[0m\u001b[1;33m\u001b[0m\u001b[1;33m\u001b[0m\u001b[0m\n",
      "\u001b[1;31mValueError\u001b[0m: invalid literal for int() with base 10: '1.1'"
     ]
    }
   ],
   "source": [
    "#type casting\n",
    "print(str(num_int))\n",
    "print(str(num_str))\n",
    "\n",
    "num_float = 1.1\n",
    "\n",
    "\n",
    "num_float = \"1.1\"\n",
    "print( int( num_float) ) \n",
    "\n",
    "# Why cann't type cast a string look like floating-number  into an integer.\n",
    "print( int( num_float) )"
   ]
  },
  {
   "cell_type": "code",
   "execution_count": 29,
   "metadata": {
    "slideshow": {
     "slide_type": "slide"
    }
   },
   "outputs": [
    {
     "name": "stdout",
     "output_type": "stream",
     "text": [
      "11\n"
     ]
    },
    {
     "ename": "TypeError",
     "evalue": "must be str, not int",
     "output_type": "error",
     "traceback": [
      "\u001b[1;31m---------------------------------------------------------------------------\u001b[0m",
      "\u001b[1;31mTypeError\u001b[0m                                 Traceback (most recent call last)",
      "\u001b[1;32m<ipython-input-29-4ce32d32df09>\u001b[0m in \u001b[0;36m<module>\u001b[1;34m()\u001b[0m\n\u001b[0;32m      3\u001b[0m \u001b[1;33m\u001b[0m\u001b[0m\n\u001b[0;32m      4\u001b[0m \u001b[1;31m#python doesn't know, how to add  different objects.\u001b[0m\u001b[1;33m\u001b[0m\u001b[1;33m\u001b[0m\u001b[0m\n\u001b[1;32m----> 5\u001b[1;33m \u001b[0mprint\u001b[0m\u001b[1;33m(\u001b[0m \u001b[1;34m'1'\u001b[0m \u001b[1;33m+\u001b[0m \u001b[1;36m1\u001b[0m \u001b[1;33m)\u001b[0m\u001b[1;33m\u001b[0m\u001b[0m\n\u001b[0m",
      "\u001b[1;31mTypeError\u001b[0m: must be str, not int"
     ]
    }
   ],
   "source": [
    "#Add same objects\n",
    "print( '1' + str(1))\n",
    "\n",
    "#python doesn't know, how to add  different objects.\n",
    "print( '1' + 1 )\n",
    "\n"
   ]
  },
  {
   "cell_type": "code",
   "execution_count": 40,
   "metadata": {
    "slideshow": {
     "slide_type": "slide"
    }
   },
   "outputs": [
    {
     "name": "stdout",
     "output_type": "stream",
     "text": [
      "True\n",
      "True\n",
      "['python', 'program']\n",
      "PROGRAM\n"
     ]
    }
   ],
   "source": [
    "#string functions.\n",
    "a = \"program\"\n",
    "b = \"python_program\"\n",
    "\n",
    "# startswith, endswith, repalce, split and so on.\n",
    "print( a.startswith(\"pro\"))\n",
    "print( a.endswith('gram'))\n",
    "print(b.split('_')) #observe the data type\n",
    "print( a.upper())\n",
    "\n"
   ]
  },
  {
   "cell_type": "code",
   "execution_count": 44,
   "metadata": {
    "slideshow": {
     "slide_type": "slide"
    }
   },
   "outputs": [
    {
     "name": "stdout",
     "output_type": "stream",
     "text": [
      "['__add__', '__class__', '__contains__', '__delattr__', '__dir__', '__doc__', '__eq__', '__format__', '__ge__', '__getattribute__', '__getitem__', '__getnewargs__', '__gt__', '__hash__', '__init__', '__init_subclass__', '__iter__', '__le__', '__len__', '__lt__', '__mod__', '__mul__', '__ne__', '__new__', '__reduce__', '__reduce_ex__', '__repr__', '__rmod__', '__rmul__', '__setattr__', '__sizeof__', '__str__', '__subclasshook__', 'capitalize', 'casefold', 'center', 'count', 'encode', 'endswith', 'expandtabs', 'find', 'format', 'format_map', 'index', 'isalnum', 'isalpha', 'isdecimal', 'isdigit', 'isidentifier', 'islower', 'isnumeric', 'isprintable', 'isspace', 'istitle', 'isupper', 'join', 'ljust', 'lower', 'lstrip', 'maketrans', 'partition', 'replace', 'rfind', 'rindex', 'rjust', 'rpartition', 'rsplit', 'rstrip', 'split', 'splitlines', 'startswith', 'strip', 'swapcase', 'title', 'translate', 'upper', 'zfill']\n",
      "Help on built-in function split:\n",
      "\n",
      "split(...) method of builtins.str instance\n",
      "    S.split(sep=None, maxsplit=-1) -> list of strings\n",
      "    \n",
      "    Return a list of the words in S, using sep as the\n",
      "    delimiter string.  If maxsplit is given, at most maxsplit\n",
      "    splits are done. If sep is not specified or is None, any\n",
      "    whitespace string is a separator and empty strings are\n",
      "    removed from the result.\n",
      "\n",
      "None\n"
     ]
    }
   ],
   "source": [
    "print( dir(a) ) # all strings built-in methods\n",
    "\n",
    "print( help( a.split ))"
   ]
  },
  {
   "cell_type": "markdown",
   "metadata": {
    "slideshow": {
     "slide_type": "slide"
    }
   },
   "source": [
    "**3.Coditions**"
   ]
  },
  {
   "cell_type": "code",
   "execution_count": 55,
   "metadata": {
    "slideshow": {
     "slide_type": "slide"
    }
   },
   "outputs": [
    {
     "name": "stdout",
     "output_type": "stream",
     "text": [
      "True\n",
      "False\n",
      "True\n"
     ]
    }
   ],
   "source": [
    "#strings comparisions\n",
    "\n",
    "name = \"welcome\"\n",
    "num = 10\n",
    "\n",
    "print ( name == \"welcome\" )\n",
    "print ( name == \"Welcome\" ) ## why False ?\n",
    "\n",
    "# is and == are same.\n",
    "\n",
    "print ( name is 'welcome')\n",
    "\n",
    "\n",
    "\n"
   ]
  },
  {
   "cell_type": "code",
   "execution_count": 56,
   "metadata": {
    "slideshow": {
     "slide_type": "slide"
    }
   },
   "outputs": [
    {
     "name": "stdout",
     "output_type": "stream",
     "text": [
      "yes\n"
     ]
    }
   ],
   "source": [
    "if name is 'welcome':\n",
    "    print(\"yes\")\n",
    "else:\n",
    "    print(\"No\")"
   ]
  },
  {
   "cell_type": "code",
   "execution_count": 60,
   "metadata": {
    "slideshow": {
     "slide_type": "slide"
    }
   },
   "outputs": [
    {
     "name": "stdout",
     "output_type": "stream",
     "text": [
      "Both are matched\n"
     ]
    }
   ],
   "source": [
    "#multiple conditions using: and, or\n",
    "#same as bit-wise operator\n",
    "\n",
    "if ( name is 'welcome') and (num is 10 ):\n",
    "    print(\"Both are matched\")\n",
    "else:\n",
    "    print(\"Both are not matched\")"
   ]
  },
  {
   "cell_type": "code",
   "execution_count": 61,
   "metadata": {
    "slideshow": {
     "slide_type": "slide"
    }
   },
   "outputs": [
    {
     "name": "stdout",
     "output_type": "stream",
     "text": [
      "Any one is matched\n"
     ]
    }
   ],
   "source": [
    "if ( name is 'welcome') or (num is 10 ):\n",
    "    print(\"Any one is matched\")\n",
    "else:\n",
    "    print(\"No one matched\")"
   ]
  },
  {
   "cell_type": "markdown",
   "metadata": {
    "slideshow": {
     "slide_type": "slide"
    }
   },
   "source": [
    "**Assignments** <br>\n",
    "\n",
    "1. Print(“1” + 1 ) #Why TypeError ? <br>\n",
    "2. if s = '1.1'; s.isdigit() . Why false ? <br>\n",
    "3. Practice all strings functions ? <br>\n",
    "4. 'hey' < 'hi' ; True why ? <br>\n",
    "5. Difference between is and == and = ? <br>\n",
    "6. Is there any difference between string and decimal bit operators ? <br>\n",
    "7. difference between if num: and if num != 0: <br>\n",
    "8. is there a EX-OR operator ? <br>\n",
    "9. How floating-number stores in memory ? <br>"
   ]
  },
  {
   "cell_type": "markdown",
   "metadata": {
    "slideshow": {
     "slide_type": "slide"
    }
   },
   "source": [
    "**4.Loops: for and while**"
   ]
  },
  {
   "cell_type": "code",
   "execution_count": 67,
   "metadata": {
    "slideshow": {
     "slide_type": "slide"
    }
   },
   "outputs": [
    {
     "name": "stdout",
     "output_type": "stream",
     "text": [
      "0\n",
      "1\n",
      "2\n",
      "3\n",
      "4\n"
     ]
    }
   ],
   "source": [
    "#for-loop: uses range()\n",
    "\n",
    "# range( start, end, step )\n",
    "\n",
    "#prints 0 to 4\n",
    "for i in range(0,5,1):\n",
    "    print(i)\n",
    "   "
   ]
  },
  {
   "cell_type": "code",
   "execution_count": 68,
   "metadata": {
    "slideshow": {
     "slide_type": "slide"
    }
   },
   "outputs": [
    {
     "name": "stdout",
     "output_type": "stream",
     "text": [
      "5\n",
      "4\n",
      "3\n",
      "2\n",
      "1\n"
     ]
    }
   ],
   "source": [
    "\n",
    "#reverse\n",
    "for i in range(5,0,-1):\n",
    "    print(i)"
   ]
  },
  {
   "cell_type": "code",
   "execution_count": null,
   "metadata": {
    "slideshow": {
     "slide_type": "slide"
    }
   },
   "outputs": [],
   "source": [
    "#While-loop:\n",
    "i = 0\n",
    "while ( i < 5 ):\n",
    "    print(i)\n",
    "    i = i + 1"
   ]
  },
  {
   "cell_type": "code",
   "execution_count": 1,
   "metadata": {
    "slideshow": {
     "slide_type": "slide"
    }
   },
   "outputs": [
    {
     "name": "stdout",
     "output_type": "stream",
     "text": [
      "0\n",
      "1\n"
     ]
    }
   ],
   "source": [
    "#Difference between break, continue and pass\n",
    "for i in range(0,5):\n",
    "    if i is 2:\n",
    "        break\n",
    "    print(i)"
   ]
  },
  {
   "cell_type": "code",
   "execution_count": 4,
   "metadata": {
    "slideshow": {
     "slide_type": "slide"
    }
   },
   "outputs": [
    {
     "name": "stdout",
     "output_type": "stream",
     "text": [
      "0\n",
      "1\n",
      "3\n",
      "4\n"
     ]
    }
   ],
   "source": [
    "for i in  range(0,5):\n",
    "    if i is 2:\n",
    "        continue\n",
    "    print(i)"
   ]
  },
  {
   "cell_type": "code",
   "execution_count": 7,
   "metadata": {
    "slideshow": {
     "slide_type": "slide"
    }
   },
   "outputs": [
    {
     "name": "stdout",
     "output_type": "stream",
     "text": [
      "0\n",
      "1\n",
      "2\n",
      "3\n",
      "4\n"
     ]
    }
   ],
   "source": [
    "#what is the purpose of pass? to create empty functions/Class in Designing\n",
    "for i in range(0,5):\n",
    "    if i is 2:\n",
    "        pass\n",
    "    print(i)"
   ]
  },
  {
   "cell_type": "markdown",
   "metadata": {
    "slideshow": {
     "slide_type": "slide"
    }
   },
   "source": [
    "**5.Functions** <br>\n",
    "Re-use mechanism<br>"
   ]
  },
  {
   "cell_type": "code",
   "execution_count": 8,
   "metadata": {
    "slideshow": {
     "slide_type": "slide"
    }
   },
   "outputs": [],
   "source": [
    "#Empty functions\n",
    "def fun():\n",
    "    pass"
   ]
  },
  {
   "cell_type": "code",
   "execution_count": 11,
   "metadata": {
    "slideshow": {
     "slide_type": "slide"
    }
   },
   "outputs": [
    {
     "name": "stdout",
     "output_type": "stream",
     "text": [
      "11\n"
     ]
    },
    {
     "ename": "TypeError",
     "evalue": "add() missing 1 required positional argument: 'b'",
     "output_type": "error",
     "traceback": [
      "\u001b[1;31m---------------------------------------------------------------------------\u001b[0m",
      "\u001b[1;31mTypeError\u001b[0m                                 Traceback (most recent call last)",
      "\u001b[1;32m<ipython-input-11-7017482d9835>\u001b[0m in \u001b[0;36m<module>\u001b[1;34m()\u001b[0m\n\u001b[0;32m      6\u001b[0m \u001b[0mprint\u001b[0m \u001b[1;33m(\u001b[0m \u001b[0madd\u001b[0m\u001b[1;33m(\u001b[0m\u001b[1;36m1\u001b[0m\u001b[1;33m,\u001b[0m\u001b[1;36m10\u001b[0m \u001b[1;33m)\u001b[0m \u001b[1;33m)\u001b[0m\u001b[1;33m\u001b[0m\u001b[0m\n\u001b[0;32m      7\u001b[0m \u001b[1;33m\u001b[0m\u001b[0m\n\u001b[1;32m----> 8\u001b[1;33m \u001b[0mprint\u001b[0m \u001b[1;33m(\u001b[0m \u001b[0madd\u001b[0m\u001b[1;33m(\u001b[0m\u001b[1;36m1\u001b[0m\u001b[1;33m)\u001b[0m\u001b[1;33m)\u001b[0m\u001b[1;33m\u001b[0m\u001b[0m\n\u001b[0m",
      "\u001b[1;31mTypeError\u001b[0m: add() missing 1 required positional argument: 'b'"
     ]
    }
   ],
   "source": [
    "#Argument passing functions\n",
    "\n",
    "def add(a,b):\n",
    "    return a + b\n",
    "\n",
    "print ( add(1,10 ) )\n",
    "\n",
    "print ( add(1)) # How to avoid this ? By assigning, default value."
   ]
  },
  {
   "cell_type": "code",
   "execution_count": 16,
   "metadata": {
    "slideshow": {
     "slide_type": "slide"
    }
   },
   "outputs": [
    {
     "data": {
      "text/plain": [
       "0"
      ]
     },
     "execution_count": 16,
     "metadata": {},
     "output_type": "execute_result"
    }
   ],
   "source": [
    "#Please note, there is no NULL in python\n",
    "\n",
    "def add( a= 0, b = 0 ):\n",
    "    return a + b\n",
    "\n",
    "add( )\n",
    "    "
   ]
  },
  {
   "cell_type": "code",
   "execution_count": 17,
   "metadata": {
    "slideshow": {
     "slide_type": "slide"
    }
   },
   "outputs": [
    {
     "ename": "TypeError",
     "evalue": "unsupported operand type(s) for +: 'NoneType' and 'NoneType'",
     "output_type": "error",
     "traceback": [
      "\u001b[1;31m---------------------------------------------------------------------------\u001b[0m",
      "\u001b[1;31mTypeError\u001b[0m                                 Traceback (most recent call last)",
      "\u001b[1;32m<ipython-input-17-c6430bfbea9c>\u001b[0m in \u001b[0;36m<module>\u001b[1;34m()\u001b[0m\n\u001b[0;32m      4\u001b[0m     \u001b[1;32mreturn\u001b[0m \u001b[0ma\u001b[0m \u001b[1;33m+\u001b[0m \u001b[0mb\u001b[0m\u001b[1;33m\u001b[0m\u001b[0m\n\u001b[0;32m      5\u001b[0m \u001b[1;33m\u001b[0m\u001b[0m\n\u001b[1;32m----> 6\u001b[1;33m \u001b[0madd\u001b[0m\u001b[1;33m(\u001b[0m\u001b[1;33m)\u001b[0m\u001b[1;33m\u001b[0m\u001b[0m\n\u001b[0m",
      "\u001b[1;32m<ipython-input-17-c6430bfbea9c>\u001b[0m in \u001b[0;36madd\u001b[1;34m(a, b)\u001b[0m\n\u001b[0;32m      2\u001b[0m \u001b[1;33m\u001b[0m\u001b[0m\n\u001b[0;32m      3\u001b[0m \u001b[1;32mdef\u001b[0m \u001b[0madd\u001b[0m \u001b[1;33m(\u001b[0m \u001b[0ma\u001b[0m \u001b[1;33m=\u001b[0m \u001b[1;32mNone\u001b[0m\u001b[1;33m,\u001b[0m \u001b[0mb\u001b[0m \u001b[1;33m=\u001b[0m \u001b[1;32mNone\u001b[0m \u001b[1;33m)\u001b[0m\u001b[1;33m:\u001b[0m\u001b[1;33m\u001b[0m\u001b[0m\n\u001b[1;32m----> 4\u001b[1;33m     \u001b[1;32mreturn\u001b[0m \u001b[0ma\u001b[0m \u001b[1;33m+\u001b[0m \u001b[0mb\u001b[0m\u001b[1;33m\u001b[0m\u001b[0m\n\u001b[0m\u001b[0;32m      5\u001b[0m \u001b[1;33m\u001b[0m\u001b[0m\n\u001b[0;32m      6\u001b[0m \u001b[0madd\u001b[0m\u001b[1;33m(\u001b[0m\u001b[1;33m)\u001b[0m\u001b[1;33m\u001b[0m\u001b[0m\n",
      "\u001b[1;31mTypeError\u001b[0m: unsupported operand type(s) for +: 'NoneType' and 'NoneType'"
     ]
    }
   ],
   "source": [
    "#When to use None?\n",
    "\n",
    "def add ( a = None, b = None ):\n",
    "    return a + b\n",
    "\n",
    "add() ## Why Error ? Usally None using at strings.But, not in integer"
   ]
  },
  {
   "cell_type": "code",
   "execution_count": 21,
   "metadata": {
    "slideshow": {
     "slide_type": "slide"
    }
   },
   "outputs": [
    {
     "ename": "SyntaxError",
     "evalue": "non-default argument follows default argument (<ipython-input-21-6dad335dae88>, line 3)",
     "output_type": "error",
     "traceback": [
      "\u001b[1;36m  File \u001b[1;32m\"<ipython-input-21-6dad335dae88>\"\u001b[1;36m, line \u001b[1;32m3\u001b[0m\n\u001b[1;33m    def add(  b=0, c=0, a ):\u001b[0m\n\u001b[1;37m             ^\u001b[0m\n\u001b[1;31mSyntaxError\u001b[0m\u001b[1;31m:\u001b[0m non-default argument follows default argument\n"
     ]
    }
   ],
   "source": [
    "# Mulitple arguments\n",
    "\n",
    "def add(  b=0, c=0, a ):\n",
    "    return a + b + c\n",
    "\n",
    "add( 3) # Error due to Order matter while calling regular args and keyword args\n"
   ]
  },
  {
   "cell_type": "code",
   "execution_count": 22,
   "metadata": {
    "slideshow": {
     "slide_type": "slide"
    }
   },
   "outputs": [
    {
     "data": {
      "text/plain": [
       "3"
      ]
     },
     "execution_count": 22,
     "metadata": {},
     "output_type": "execute_result"
    }
   ],
   "source": [
    "def add( a, b=0, c=0 ):\n",
    "    return a + b + c\n",
    "\n",
    "add( 3)"
   ]
  },
  {
   "cell_type": "markdown",
   "metadata": {
    "slideshow": {
     "slide_type": "slide"
    }
   },
   "source": [
    "**6.Basic Data Structures ** <br>\n",
    "List,Tuple,Dictionaries,Set"
   ]
  },
  {
   "cell_type": "markdown",
   "metadata": {
    "slideshow": {
     "slide_type": "slide"
    }
   },
   "source": [
    "*List* is a type of an object and which holds different objects like str or int. <br>\n",
    "Built-in functions: append, extend,remove, sort, index <br>\n",
    "\n",
    "Usage: data manupulations and reading files. <br>\n",
    "\n",
    "Python supprots *Arrays* using the module called numpy. Usage of numpy at mathematical manipulations in Machine Learning/Deep Learning. <br>\n"
   ]
  },
  {
   "cell_type": "code",
   "execution_count": 48,
   "metadata": {
    "slideshow": {
     "slide_type": "slide"
    }
   },
   "outputs": [
    {
     "name": "stdout",
     "output_type": "stream",
     "text": [
      "['one', 33, 44]\n",
      "['one']\n",
      "one\n"
     ]
    }
   ],
   "source": [
    "#empty list\n",
    "my_empty = list()\n",
    "\n",
    "colors = ['red', 'green']\n",
    "scores = [ 1,2]\n",
    "my_list = [ 'one', 33, 44 ]\n",
    "\n",
    "#read\n",
    "print( my_list)\n",
    "\n",
    "#slicing: \n",
    "print(my_list[0:1])\n",
    "\n",
    "#index base print\n",
    "print(my_list[0]) #Observe the type"
   ]
  },
  {
   "cell_type": "code",
   "execution_count": 52,
   "metadata": {
    "slideshow": {
     "slide_type": "slide"
    }
   },
   "outputs": [
    {
     "name": "stdout",
     "output_type": "stream",
     "text": [
      "Create [0, 1, 2, 3]\n",
      "After Removed [0, 1, 3]\n"
     ]
    },
    {
     "data": {
      "text/plain": [
       "2"
      ]
     },
     "execution_count": 52,
     "metadata": {},
     "output_type": "execute_result"
    }
   ],
   "source": [
    "#create a list\n",
    "animals = []\n",
    "\n",
    "for i in range(0,4):\n",
    "    animals.append(i)\n",
    "    \n",
    "print(\"Create\",animals)\n",
    "\n",
    "#Remove element in the list\n",
    "animals.remove(2)\n",
    "print(\"After Removed\",animals)\n",
    "\n",
    "#get index\n",
    "animals.index(3)"
   ]
  },
  {
   "cell_type": "code",
   "execution_count": 50,
   "metadata": {
    "slideshow": {
     "slide_type": "slide"
    }
   },
   "outputs": [
    {
     "name": "stdout",
     "output_type": "stream",
     "text": [
      "['red', 'green', 0, 1, 3]\n",
      "['red', 'green', 0, 1, 3]\n"
     ]
    }
   ],
   "source": [
    "#Concatenate lists\n",
    "#Method 1:\n",
    "print( colors + animals )\n",
    "\n",
    "#Method 2:\n",
    "colors.extend(animals)\n",
    "print(colors)\n"
   ]
  },
  {
   "cell_type": "code",
   "execution_count": 55,
   "metadata": {
    "slideshow": {
     "slide_type": "slide"
    }
   },
   "outputs": [
    {
     "data": {
      "text/plain": [
       "[1, 2, 3]"
      ]
     },
     "execution_count": 55,
     "metadata": {},
     "output_type": "execute_result"
    }
   ],
   "source": [
    "#Nested lists\n",
    "nested = [ [ 1,2,3], ['a','b','c']]\n",
    "nested[0]"
   ]
  },
  {
   "cell_type": "markdown",
   "metadata": {
    "slideshow": {
     "slide_type": "slide"
    }
   },
   "source": [
    "*Dictionaries* are used to store a collections of objects and which holds information in pairs of data, called key-value pairs.<br>\n",
    "The order of the objects is unimportant.<br>\n",
    "Order: O(1) <br>\n",
    "\n",
    "Execption: key missing. <br>\n"
   ]
  },
  {
   "cell_type": "code",
   "execution_count": 5,
   "metadata": {
    "slideshow": {
     "slide_type": "slide"
    }
   },
   "outputs": [
    {
     "name": "stdout",
     "output_type": "stream",
     "text": [
      "dict_keys(['a', 'b'])\n",
      "dict_values([1, 2])\n",
      "\n",
      "\n",
      "Keys: a and values: 1\n",
      "Keys: b and values: 2\n"
     ]
    }
   ],
   "source": [
    "#create dictionary.\n",
    "\n",
    "#empty dict\n",
    "d = {}\n",
    "d = dict()\n",
    "\n",
    "d = { 'a': 1, 'b': 2 }\n",
    "\n",
    "#print keys\n",
    "print( d.keys())\n",
    "\n",
    "#print values\n",
    "print( d.values() )\n",
    "\n",
    "#print Both keys and values\n",
    "print('\\n')\n",
    "for key,value in d.items():\n",
    "    print(\"Keys: {} and values: {}\".format(key,value))"
   ]
  },
  {
   "cell_type": "markdown",
   "metadata": {
    "slideshow": {
     "slide_type": "slide"
    }
   },
   "source": [
    "*Sets* is an unordered collection of items and every element is unique ( no duplicates ). <br>\n",
    "Usage: Set theory or intersection,difference,union.\n",
    "\n",
    "\n"
   ]
  },
  {
   "cell_type": "code",
   "execution_count": 37,
   "metadata": {
    "slideshow": {
     "slide_type": "slide"
    }
   },
   "outputs": [
    {
     "name": "stdout",
     "output_type": "stream",
     "text": [
      "<class 'set'>\n",
      "{'a', 'b', 'c', 'd'}\n",
      "{'a', 'b', 'c', 'd'}\n",
      "\n",
      "\n",
      "{'c'}\n",
      "{'c'}\n",
      "\n",
      "\n",
      "{'b', 'a'}\n",
      "{'b', 'a'}\n",
      "\n",
      "\n",
      "{'b', 'a', 'd'}\n",
      "{'b', 'a', 'd'}\n",
      "\n",
      "\n",
      "{'c'}\n",
      "False\n",
      "\n",
      "\n",
      "False\n",
      "False\n"
     ]
    }
   ],
   "source": [
    "s = set() #empty set\n",
    "s = set(['a','b','c'])\n",
    "\n",
    "print ( type(s) )\n",
    "\n",
    "x1 = { 'a', 'b', 'c' }\n",
    "x2 = { 'c', 'd' }\n",
    "# set union\n",
    "print( x1 | x2 ) #Operators\n",
    "print( x1.union(x2)) #methods\n",
    "print('\\n')\n",
    "# set intersection\n",
    "print( x1.intersection(x2) )\n",
    "print( x1 & x2 )\n",
    "print('\\n')\n",
    "\n",
    "#set difference\n",
    "print( x1 - x2 )\n",
    "print( x1.difference(x2))\n",
    "\n",
    "print('\\n')\n",
    "#Symmetric difference: returns all elements in x1 and x2. But, not both.\n",
    "print( x1 ^ x2)\n",
    "print(x1.symmetric_difference(x2))\n",
    "\n",
    "print('\\n')\n",
    "#Disjoint: return True if x1 and x2 have no elements in common.\n",
    "\n",
    "print(x1 & x2 )\n",
    "print(x1.isdisjoint(x2)) # common elements so, False\n",
    "\n",
    "print('\\n')\n",
    "#Subset: Determine subset of another set.\n",
    "print( x1 <= x2 )\n",
    "print(x1.issubset(x2))"
   ]
  },
  {
   "cell_type": "code",
   "execution_count": 38,
   "metadata": {
    "slideshow": {
     "slide_type": "slide"
    }
   },
   "outputs": [
    {
     "name": "stdout",
     "output_type": "stream",
     "text": [
      "{'a', 'b', 'c', 'd'}\n",
      "\n",
      "\n"
     ]
    },
    {
     "ename": "TypeError",
     "evalue": "unsupported operand type(s) for |: 'set' and 'tuple'",
     "output_type": "error",
     "traceback": [
      "\u001b[1;31m---------------------------------------------------------------------------\u001b[0m",
      "\u001b[1;31mTypeError\u001b[0m                                 Traceback (most recent call last)",
      "\u001b[1;32m<ipython-input-38-f4f5c1aec4c0>\u001b[0m in \u001b[0;36m<module>\u001b[1;34m()\u001b[0m\n\u001b[0;32m      3\u001b[0m \u001b[0mprint\u001b[0m\u001b[1;33m(\u001b[0m \u001b[0mx1\u001b[0m\u001b[1;33m.\u001b[0m\u001b[0munion\u001b[0m\u001b[1;33m(\u001b[0m\u001b[0mx2\u001b[0m\u001b[1;33m)\u001b[0m\u001b[1;33m)\u001b[0m \u001b[1;31m# Method convert tuple to set\u001b[0m\u001b[1;33m\u001b[0m\u001b[0m\n\u001b[0;32m      4\u001b[0m \u001b[0mprint\u001b[0m\u001b[1;33m(\u001b[0m\u001b[1;34m'\\n'\u001b[0m\u001b[1;33m)\u001b[0m\u001b[1;33m\u001b[0m\u001b[0m\n\u001b[1;32m----> 5\u001b[1;33m \u001b[0mprint\u001b[0m\u001b[1;33m(\u001b[0m \u001b[0mx1\u001b[0m \u001b[1;33m|\u001b[0m \u001b[1;33m(\u001b[0m\u001b[1;34m'e'\u001b[0m\u001b[1;33m,\u001b[0m\u001b[1;34m'f'\u001b[0m\u001b[1;33m)\u001b[0m\u001b[1;33m)\u001b[0m \u001b[1;31m# operator won't convert tuple to set\u001b[0m\u001b[1;33m\u001b[0m\u001b[0m\n\u001b[0m",
      "\u001b[1;31mTypeError\u001b[0m: unsupported operand type(s) for |: 'set' and 'tuple'"
     ]
    }
   ],
   "source": [
    "#difference between operators and methods\n",
    "#1\n",
    "print( x1.union(x2)) # Method convert tuple to set\n",
    "print('\\n')\n",
    "print( x1 | ('e','f')) # operator won't convert tuple to set\n",
    "\n"
   ]
  },
  {
   "cell_type": "code",
   "execution_count": 39,
   "metadata": {
    "slideshow": {
     "slide_type": "slide"
    }
   },
   "outputs": [
    {
     "name": "stdout",
     "output_type": "stream",
     "text": [
      "{10, 100, 5}\n"
     ]
    },
    {
     "ename": "TypeError",
     "evalue": "symmetric_difference() takes exactly one argument (2 given)",
     "output_type": "error",
     "traceback": [
      "\u001b[1;31m---------------------------------------------------------------------------\u001b[0m",
      "\u001b[1;31mTypeError\u001b[0m                                 Traceback (most recent call last)",
      "\u001b[1;32m<ipython-input-39-e96c10565428>\u001b[0m in \u001b[0;36m<module>\u001b[1;34m()\u001b[0m\n\u001b[0;32m      6\u001b[0m \u001b[1;33m\u001b[0m\u001b[0m\n\u001b[0;32m      7\u001b[0m \u001b[0mprint\u001b[0m\u001b[1;33m(\u001b[0m \u001b[0ma\u001b[0m \u001b[1;33m^\u001b[0m \u001b[0mb\u001b[0m \u001b[1;33m^\u001b[0m \u001b[0mc\u001b[0m \u001b[1;33m)\u001b[0m \u001b[1;31m#operators works for multiple sets\u001b[0m\u001b[1;33m\u001b[0m\u001b[0m\n\u001b[1;32m----> 8\u001b[1;33m \u001b[0mprint\u001b[0m\u001b[1;33m(\u001b[0m \u001b[0ma\u001b[0m\u001b[1;33m.\u001b[0m\u001b[0msymmetric_difference\u001b[0m\u001b[1;33m(\u001b[0m\u001b[0mb\u001b[0m\u001b[1;33m,\u001b[0m\u001b[0mc\u001b[0m\u001b[1;33m)\u001b[0m\u001b[1;33m)\u001b[0m \u001b[1;31m# not works for multiple sets\u001b[0m\u001b[1;33m\u001b[0m\u001b[0m\n\u001b[0m",
      "\u001b[1;31mTypeError\u001b[0m: symmetric_difference() takes exactly one argument (2 given)"
     ]
    }
   ],
   "source": [
    "#2\n",
    "\n",
    "a = {1, 2, 3, 4, 5}\n",
    "b = {10, 2, 3, 4, 50}\n",
    "c = {1, 50, 100}\n",
    "\n",
    "print( a ^ b ^ c ) #operators works for multiple sets\n",
    "print( a.symmetric_difference(b,c)) # not works for multiple sets"
   ]
  },
  {
   "cell_type": "markdown",
   "metadata": {
    "slideshow": {
     "slide_type": "slide"
    }
   },
   "source": [
    "**Summary**\n",
    "\n",
    "You should use lists when: \n",
    "1. A mixed collection of data,<br>\n",
    "2. The data needs to be ordered, <br>\n",
    "3. The data may need to be changed (lists are mutable), and <br>\n",
    "4. usage of a stack or a queue. <br>\n",
    "\n",
    "\n",
    "You should use tuples when: <br>\n",
    "1. The data won't need to be changed (tuples are immutable), and <br>\n",
    "2. Performance is an issue. <br>\n",
    "\n",
    "You should use dictionaries when: <br>\n",
    "1. There is a logical association between a key/value pairs, <br>\n",
    "2. Lookup data quickly (via keys), and <br>\n",
    "3. The data may need to be changed (dictionaries are mutable). <br>\n",
    "\n",
    "You should use sets when:\n",
    "1. Set theory applications like comparing files/data, and<br>\n",
    "2. When worling duplicate data in the files.<br>"
   ]
  },
  {
   "cell_type": "markdown",
   "metadata": {
    "slideshow": {
     "slide_type": "slide"
    }
   },
   "source": [
    "**7. List and Dictionary comprehensions** <br>\n",
    "    1. One-liner code.\n",
    "    2. helps to understand Generator. \n",
    "    3. Very powerful using with Itertools.\n",
    "    \n"
   ]
  },
  {
   "cell_type": "code",
   "execution_count": 121,
   "metadata": {
    "slideshow": {
     "slide_type": "slide"
    }
   },
   "outputs": [
    {
     "name": "stdout",
     "output_type": "stream",
     "text": [
      "[0, 1, 2]\n",
      "[0.0, 1.0, 2.0]\n",
      "['even', 'Odd', 'even', 'Odd', 'even', 'Odd']\n",
      "\n",
      "\n",
      "{'a': 1, 'b': 2}\n"
     ]
    }
   ],
   "source": [
    "\n",
    "#create a list\n",
    "l = []\n",
    "for i in range(0,3):\n",
    "    l.append(i)\n",
    "    \n",
    "print(l)\n",
    "\n",
    "#Replace whole to code to one-liner;\n",
    "l= [ float(i) for i in range(0,3)]\n",
    "print(l)\n",
    "\n",
    "#find even or odd elements;\n",
    "\n",
    "print( [ \"even\" if i & 1 == 0 else \"Odd\" for i in range(0,6)] ) #prints from 0\n",
    "\n",
    "print(\"\\n\")\n",
    "#Dictionary comprehensions\n",
    "keys = [ 'a','b']\n",
    "values = [ 1,2 ]\n",
    "my_dict = { k:v for (k,v) in zip(keys,values)}\n",
    "print(my_dict)"
   ]
  },
  {
   "cell_type": "markdown",
   "metadata": {
    "slideshow": {
     "slide_type": "slide"
    }
   },
   "source": [
    "**8. Exception Handling **"
   ]
  },
  {
   "cell_type": "markdown",
   "metadata": {
    "slideshow": {
     "slide_type": "slide"
    }
   },
   "source": [
    "\n",
    "• Exception - For all exceptions.<br>\n",
    "• AttributeError - Raised when an attribute reference or assignment fails. <br>\n",
    "• IOError - Raised when an I/O operation (such as a print statement, the built-in open() function or a method of a file object) fails for an I/O-related reason, e.g., “file not found” or “disk full”. <br>\n",
    "• ImportError - Raised when an import statement fails to find the module definition or when a from … import fails to find a name that is to be imported. <br>\n",
    "• IndexError - Raised when a sequence subscript is out of range. <br>\n",
    "• KeyError - Raised when a mapping (dictionary) key is not found in the set of existing keys. <br>\n",
    "• KeyboardInterrupt - Raised when the user hits the interrupt key (normally Control-C or Delete). <br>\n",
    "• NameError - Raised when a local or global name is not found. <br>\n",
    "• OSError - Raised when a function returns a system-related error. <br>\n",
    "• SyntaxError - Raised when the parser encounters a syntax error. <br>"
   ]
  },
  {
   "cell_type": "code",
   "execution_count": 57,
   "metadata": {
    "slideshow": {
     "slide_type": "slide"
    }
   },
   "outputs": [
    {
     "ename": "ZeroDivisionError",
     "evalue": "division by zero",
     "output_type": "error",
     "traceback": [
      "\u001b[1;31m---------------------------------------------------------------------------\u001b[0m",
      "\u001b[1;31mZeroDivisionError\u001b[0m                         Traceback (most recent call last)",
      "\u001b[1;32m<ipython-input-57-9a3d7f64069b>\u001b[0m in \u001b[0;36m<module>\u001b[1;34m()\u001b[0m\n\u001b[0;32m      1\u001b[0m \u001b[1;31m#How to handle exceptions\u001b[0m\u001b[1;33m\u001b[0m\u001b[1;33m\u001b[0m\u001b[0m\n\u001b[0;32m      2\u001b[0m \u001b[1;33m\u001b[0m\u001b[0m\n\u001b[1;32m----> 3\u001b[1;33m \u001b[1;36m1\u001b[0m\u001b[1;33m/\u001b[0m\u001b[1;36m0\u001b[0m\u001b[1;33m\u001b[0m\u001b[0m\n\u001b[0m",
      "\u001b[1;31mZeroDivisionError\u001b[0m: division by zero"
     ]
    }
   ],
   "source": [
    "#How to handle exceptions\n",
    "\n",
    "1/0"
   ]
  },
  {
   "cell_type": "code",
   "execution_count": 64,
   "metadata": {
    "slideshow": {
     "slide_type": "slide"
    }
   },
   "outputs": [
    {
     "name": "stdout",
     "output_type": "stream",
     "text": [
      "works\n",
      "works\n",
      "Cannot divide by zer0! \n",
      "works\n"
     ]
    }
   ],
   "source": [
    "for i in [ 1,2,0, 3 ]:\n",
    "    try:\n",
    "        a = ( 1/i )\n",
    "        print(\"works\")\n",
    "    except ZeroDivisionError:\n",
    "        print(\"Cannot divide by zer0! \") "
   ]
  },
  {
   "cell_type": "code",
   "execution_count": 67,
   "metadata": {
    "slideshow": {
     "slide_type": "slide"
    }
   },
   "outputs": [
    {
     "name": "stdout",
     "output_type": "stream",
     "text": [
      "index not in the list \n",
      "\n",
      "\n",
      "key does not exist! \n"
     ]
    }
   ],
   "source": [
    "#Testing for List's and Dict\n",
    "\n",
    "my_list = [ 1,2,3 ]\n",
    "my_dict = { 'a':1, 'b': 2 }\n",
    "\n",
    "try:\n",
    "    my_list[4]\n",
    "except IndexError:\n",
    "    print(\"index not in the list \")\n",
    "    \n",
    "print(\"\\n\")\n",
    "\n",
    "try:\n",
    "    my_dict['c']\n",
    "except KeyError:\n",
    "    print(\"key does not exist! \")\n",
    "except:\n",
    "    print(\"some error\")"
   ]
  },
  {
   "cell_type": "markdown",
   "metadata": {
    "slideshow": {
     "slide_type": "slide"
    }
   },
   "source": [
    "**9. Working with files **"
   ]
  },
  {
   "cell_type": "code",
   "execution_count": 82,
   "metadata": {
    "slideshow": {
     "slide_type": "slide"
    }
   },
   "outputs": [
    {
     "data": {
      "text/plain": [
       "<_io.TextIOWrapper name='file.txt' mode='r' encoding='cp1252'>"
      ]
     },
     "execution_count": 82,
     "metadata": {},
     "output_type": "execute_result"
    }
   ],
   "source": [
    "#How to read files.\n",
    "filehandle = open(\"file.txt\" ,'r')\n",
    "filehandle "
   ]
  },
  {
   "cell_type": "code",
   "execution_count": 89,
   "metadata": {
    "slideshow": {
     "slide_type": "slide"
    }
   },
   "outputs": [
    {
     "name": "stdout",
     "output_type": "stream",
     "text": [
      "['test\\n', 'test1\\n', 'test2']\n"
     ]
    }
   ],
   "source": [
    "handle = open('file.txt', 'r')\n",
    "data = handle.readlines() #one line\n",
    "print(data)\n",
    "handle.close()\n",
    "\n"
   ]
  },
  {
   "cell_type": "code",
   "execution_count": 92,
   "metadata": {
    "slideshow": {
     "slide_type": "slide"
    }
   },
   "outputs": [
    {
     "name": "stdout",
     "output_type": "stream",
     "text": [
      "test\n",
      "\n",
      "test1\n",
      "\n",
      "test2\n"
     ]
    }
   ],
   "source": [
    "#using with operator\n",
    "\n",
    "try:   \n",
    "    with open(\"file.txt\", 'r') as fh:\n",
    "        for line in fh:\n",
    "            print(line)\n",
    "except IOError:\n",
    "    print(\"An IO Error has occured\")"
   ]
  },
  {
   "cell_type": "markdown",
   "metadata": {
    "slideshow": {
     "slide_type": "slide"
    }
   },
   "source": [
    "**10. Import Modules **"
   ]
  },
  {
   "cell_type": "code",
   "execution_count": 94,
   "metadata": {
    "slideshow": {
     "slide_type": "slide"
    }
   },
   "outputs": [
    {
     "name": "stdout",
     "output_type": "stream",
     "text": [
      "The Zen of Python, by Tim Peters\n",
      "\n",
      "Beautiful is better than ugly.\n",
      "Explicit is better than implicit.\n",
      "Simple is better than complex.\n",
      "Complex is better than complicated.\n",
      "Flat is better than nested.\n",
      "Sparse is better than dense.\n",
      "Readability counts.\n",
      "Special cases aren't special enough to break the rules.\n",
      "Although practicality beats purity.\n",
      "Errors should never pass silently.\n",
      "Unless explicitly silenced.\n",
      "In the face of ambiguity, refuse the temptation to guess.\n",
      "There should be one-- and preferably only one --obvious way to do it.\n",
      "Although that way may not be obvious at first unless you're Dutch.\n",
      "Now is better than never.\n",
      "Although never is often better than *right* now.\n",
      "If the implementation is hard to explain, it's a bad idea.\n",
      "If the implementation is easy to explain, it may be a good idea.\n",
      "Namespaces are one honking great idea -- let's do more of those!\n"
     ]
    }
   ],
   "source": [
    "import this"
   ]
  },
  {
   "cell_type": "code",
   "execution_count": 104,
   "metadata": {
    "slideshow": {
     "slide_type": "slide"
    }
   },
   "outputs": [
    {
     "name": "stdout",
     "output_type": "stream",
     "text": [
      "win32\n",
      "C:\\Users\\hl3\\OneDrive - DXC Production\\heap\\py\n",
      "['DirEntry', 'F_OK', 'MutableMapping', 'O_APPEND', 'O_BINARY', 'O_CREAT', 'O_EXCL', 'O_NOINHERIT', 'O_RANDOM', 'O_RDONLY', 'O_RDWR', 'O_SEQUENTIAL', 'O_SHORT_LIVED', 'O_TEMPORARY', 'O_TEXT', 'O_TRUNC', 'O_WRONLY', 'P_DETACH', 'P_NOWAIT', 'P_NOWAITO', 'P_OVERLAY', 'P_WAIT', 'PathLike', 'R_OK', 'SEEK_CUR', 'SEEK_END', 'SEEK_SET', 'TMP_MAX', 'W_OK', 'X_OK', '_Environ', '__all__', '__builtins__', '__cached__', '__doc__', '__file__', '__loader__', '__name__', '__package__', '__spec__', '_execvpe', '_exists', '_exit', '_fspath', '_get_exports_list', '_putenv', '_unsetenv', '_wrap_close', 'abc', 'abort', 'access', 'altsep', 'chdir', 'chmod', 'close', 'closerange', 'cpu_count', 'curdir', 'defpath', 'device_encoding', 'devnull', 'dup', 'dup2', 'environ', 'errno', 'error', 'execl', 'execle', 'execlp', 'execlpe', 'execv', 'execve', 'execvp', 'execvpe', 'extsep', 'fdopen', 'fsdecode', 'fsencode', 'fspath', 'fstat', 'fsync', 'ftruncate', 'get_exec_path', 'get_handle_inheritable', 'get_inheritable', 'get_terminal_size', 'getcwd', 'getcwdb', 'getenv', 'getlogin', 'getpid', 'getppid', 'isatty', 'kill', 'linesep', 'link', 'listdir', 'lseek', 'lstat', 'makedirs', 'mkdir', 'name', 'open', 'pardir', 'path', 'pathsep', 'pipe', 'popen', 'putenv', 'read', 'readlink', 'remove', 'removedirs', 'rename', 'renames', 'replace', 'rmdir', 'scandir', 'sep', 'set_handle_inheritable', 'set_inheritable', 'spawnl', 'spawnle', 'spawnv', 'spawnve', 'st', 'startfile', 'stat', 'stat_float_times', 'stat_result', 'statvfs_result', 'strerror', 'supports_bytes_environ', 'supports_dir_fd', 'supports_effective_ids', 'supports_fd', 'supports_follow_symlinks', 'symlink', 'sys', 'system', 'terminal_size', 'times', 'times_result', 'truncate', 'umask', 'uname_result', 'unlink', 'urandom', 'utime', 'waitpid', 'walk', 'write']\n"
     ]
    }
   ],
   "source": [
    "#1 Regular imports \n",
    "import os,sys,time\n",
    "print(sys.platform)\n",
    "print( os.getcwd())\n",
    "\n",
    "print( dir(os) ) #Builtin methods\n"
   ]
  },
  {
   "cell_type": "code",
   "execution_count": 116,
   "metadata": {
    "slideshow": {
     "slide_type": "slide"
    }
   },
   "outputs": [
    {
     "name": "stdout",
     "output_type": "stream",
     "text": [
      "OrderedDict([('', '0'), ('Location Name', 'P.S. 073 Thomas S. Boyland'), ('City', 'BROOKLYN'), ('DOE Need (with Truancy)', '2.328'), ('Crime', '0.184'), ('Obesity', '29.3'), ('6-8 attendance', '70'), ('Need Score', '41'), ('Latitude', '40.680294'), ('Longitude', '-73.910885')])\n",
      "OrderedDict([('', '1'), ('Location Name', 'P.S. 29S Dr. Betty Shabazz'), ('City', 'BROOKLYN'), ('DOE Need (with Truancy)', '2.276'), ('Crime', '0.451'), ('Obesity', '29.3'), ('6-8 attendance', '36'), ('Need Score', '52'), ('Latitude', '40.670971'), ('Longitude', '-73.907687')])\n",
      "OrderedDict([('', '2'), ('Location Name', 'P S/ I S 328 Phillis Wheatley'), ('City', 'BROOKLYN'), ('DOE Need (with Truancy)', '2.116'), ('Crime', '0.218'), ('Obesity', '26.4'), ('6-8 attendance', '52'), ('Need Score', '39'), ('Latitude', '40.667791'), ('Longitude', '-73.898252')])\n",
      "OrderedDict([('', '3'), ('Location Name', 'Frederick Douglass Academy IV Secondary School'), ('City', 'BROOKLYN'), ('DOE Need (with Truancy)', '1.69'), ('Crime', '0.134'), ('Obesity', '25.5'), ('6-8 attendance', '29'), ('Need Score', '31'), ('Latitude', '40.691976'), ('Longitude', '-73.931488')])\n",
      "OrderedDict([('', '4'), ('Location Name', 'P.S. 096 Joseph Lanzetta'), ('City', 'MANHATTAN'), ('DOE Need (with Truancy)', '1.585'), ('Crime', '0.37'), ('Obesity', '37.8'), ('6-8 attendance', '163'), ('Need Score', '48'), ('Latitude', '40.799987'), ('Longitude', '-73.937388')])\n",
      "OrderedDict([('', '5'), ('Location Name', 'P.S. 202 Ernest S. Jenkyns'), ('City', 'BROOKLYN'), ('DOE Need (with Truancy)', '1.585'), ('Crime', '0.203'), ('Obesity', '26.4'), ('6-8 attendance', '143'), ('Need Score', '34'), ('Latitude', '40.666256'), ('Longitude', '-73.876405')])\n",
      "OrderedDict([('', '6'), ('Location Name', 'Harbor Heights'), ('City', 'MANHATTAN'), ('DOE Need (with Truancy)', '1.516'), ('Crime', '0.087'), ('Obesity', '23.8'), ('6-8 attendance', '161'), ('Need Score', '26'), ('Latitude', '40.84562'), ('Longitude', '-73.939738')])\n",
      "OrderedDict([('', '7'), ('Location Name', 'P.S. 238 Anne Sullivan'), ('City', 'BROOKLYN'), ('DOE Need (with Truancy)', '1.514'), ('Crime', '0.0'), ('Obesity', '32.0'), ('6-8 attendance', '159'), ('Need Score', '28'), ('Latitude', '40.608659'), ('Longitude', '-73.964748')])\n",
      "OrderedDict([('', '8'), ('Location Name', 'P.S. 308 Clara Cardwell'), ('City', 'BROOKLYN'), ('DOE Need (with Truancy)', '1.504'), ('Crime', '0.134'), ('Obesity', '25.5'), ('6-8 attendance', '226'), ('Need Score', '29'), ('Latitude', '40.688506'), ('Longitude', '-73.935318')])\n",
      "OrderedDict([('', '9'), ('Location Name', 'P.S. 192 The Magnet School for Math and Science Inquiry'), ('City', 'BROOKLYN'), ('DOE Need (with Truancy)', '1.501'), ('Crime', '0.0'), ('Obesity', '30.0'), ('6-8 attendance', '181'), ('Need Score', '27'), ('Latitude', '40.629008'), ('Longitude', '-73.979838')])\n",
      "OrderedDict([('', '10'), ('Location Name', 'P.S. 149 Sojourner Truth'), ('City', 'MANHATTAN'), ('DOE Need (with Truancy)', '1.495'), ('Crime', '0.127'), ('Obesity', '27.3'), ('6-8 attendance', '106'), ('Need Score', '30'), ('Latitude', '40.802666'), ('Longitude', '-73.948256')])\n",
      "OrderedDict([('', '11'), ('Location Name', 'P.S. 041 Francis White'), ('City', 'BROOKLYN'), ('DOE Need (with Truancy)', '1.489'), ('Crime', '0.451'), ('Obesity', '29.3'), ('6-8 attendance', '167'), ('Need Score', '45'), ('Latitude', '40.660439'), ('Longitude', '-73.906932')])\n",
      "OrderedDict([('', '12'), ('Location Name', 'The Urban Assembly Institute for New Technologies'), ('City', 'MANHATTAN'), ('DOE Need (with Truancy)', '1.484'), ('Crime', '0.345'), ('Obesity', '27.3'), ('6-8 attendance', '95'), ('Need Score', '39'), ('Latitude', '40.815478'), ('Longitude', '-73.955556')])\n",
      "OrderedDict([('', '13'), ('Location Name', 'P.S. 183 Dr. Richard R. Green'), ('City', 'QUEENS'), ('DOE Need (with Truancy)', '1.474'), ('Crime', '0.0'), ('Obesity', '29.6'), ('6-8 attendance', '151'), ('Need Score', '27'), ('Latitude', '40.588936'), ('Longitude', '-73.805282')])\n",
      "OrderedDict([('', '14'), ('Location Name', 'P.S. 018 Park Terrace'), ('City', 'MANHATTAN'), ('DOE Need (with Truancy)', '1.473'), ('Crime', '0.124'), ('Obesity', '23.8'), ('6-8 attendance', '163'), ('Need Score', '28'), ('Latitude', '40.871663'), ('Longitude', '-73.911581')])\n",
      "OrderedDict([('', '15'), ('Location Name', 'P.S./I.S. 137 Rachel Jean Mitchell'), ('City', 'BROOKLYN'), ('DOE Need (with Truancy)', '1.472'), ('Crime', '0.184'), ('Obesity', '29.3'), ('6-8 attendance', '97'), ('Need Score', '34'), ('Latitude', '40.682234'), ('Longitude', '-73.916631')])\n",
      "OrderedDict([('', '16'), ('Location Name', 'P.S./M.S. 029 Melrose School'), ('City', 'BRONX'), ('DOE Need (with Truancy)', '1.469'), ('Crime', '0.153'), ('Obesity', '34.3'), ('6-8 attendance', '257'), ('Need Score', '36'), ('Latitude', '40.821444'), ('Longitude', '-73.916972')])\n",
      "OrderedDict([('', '17'), ('Location Name', 'P.S. 129 John H. Finley'), ('City', 'MANHATTAN'), ('DOE Need (with Truancy)', '1.453'), ('Crime', '0.345'), ('Obesity', '27.3'), ('6-8 attendance', '206'), ('Need Score', '39'), ('Latitude', '40.814912'), ('Longitude', '-73.952')])\n",
      "OrderedDict([('', '18'), ('Location Name', 'P.S. 034 Franklin D. Roosevelt'), ('City', 'MANHATTAN'), ('DOE Need (with Truancy)', '1.436'), ('Crime', '0.081'), ('Obesity', '12.1'), ('6-8 attendance', '152'), ('Need Score', '19'), ('Latitude', '40.726111'), ('Longitude', '-73.974963')])\n",
      "OrderedDict([('', '19'), ('Location Name', 'PS 5 Port Morris'), ('City', 'BRONX'), ('DOE Need (with Truancy)', '1.433'), ('Crime', '0.396'), ('Obesity', '34.3'), ('6-8 attendance', '179'), ('Need Score', '46'), ('Latitude', '40.813763'), ('Longitude', '-73.90848')])\n",
      "OrderedDict([('', '20'), ('Location Name', 'P.S./M.S. 004 Crotona Park West'), ('City', 'BRONX'), ('DOE Need (with Truancy)', '1.403'), ('Crime', '0.301'), ('Obesity', '34.3'), ('6-8 attendance', '165'), ('Need Score', '41'), ('Latitude', '40.841139'), ('Longitude', '-73.898261')])\n",
      "OrderedDict([('', '21'), ('Location Name', 'P.S. 212'), ('City', 'BRONX'), ('DOE Need (with Truancy)', '1.402'), ('Crime', '0.271'), ('Obesity', '34.3'), ('6-8 attendance', '197'), ('Need Score', '40'), ('Latitude', '40.828715'), ('Longitude', '-73.900452')])\n",
      "OrderedDict([('', '22'), ('Location Name', 'The Angelo Patri Middle School'), ('City', 'BRONX'), ('DOE Need (with Truancy)', '1.396'), ('Crime', '0.301'), ('Obesity', '34.3'), ('6-8 attendance', '571'), ('Need Score', '41'), ('Latitude', '40.854655'), ('Longitude', '-73.897036')])\n",
      "OrderedDict([('', '23'), ('Location Name', 'P.S. 127 Aerospace Science Magne'), ('City', 'QUEENS'), ('DOE Need (with Truancy)', '1.357'), ('Crime', '0.088'), ('Obesity', '22.6'), ('6-8 attendance', '421'), ('Need Score', '25'), ('Latitude', '40.764979'), ('Longitude', '-73.871196')])\n",
      "OrderedDict([('', '24'), ('Location Name', 'P.S. 209 Margaret Mead'), ('City', 'BROOKLYN'), ('DOE Need (with Truancy)', '1.348'), ('Crime', '0.0'), ('Obesity', '32.0'), ('6-8 attendance', '191'), ('Need Score', '27'), ('Latitude', '40.586649'), ('Longitude', '-73.961623')])\n",
      "OrderedDict([('', '25'), ('Location Name', 'P.S. 17S Saint Clair Mckelway'), ('City', 'BROOKLYN'), ('DOE Need (with Truancy)', '1.348'), ('Crime', '0.184'), ('Obesity', '29.3'), ('6-8 attendance', '168'), ('Need Score', '33'), ('Latitude', '40.675246'), ('Longitude', '-73.915272')])\n",
      "OrderedDict([('', '26'), ('Location Name', 'P.S. 046 Arthur Tappan'), ('City', 'MANHATTAN'), ('DOE Need (with Truancy)', '1.344'), ('Crime', '0.323'), ('Obesity', '27.3'), ('6-8 attendance', '250'), ('Need Score', '37'), ('Latitude', '40.831553'), ('Longitude', '-73.935912')])\n",
      "OrderedDict([('', '27'), ('Location Name', 'P.S./I.S. 210 Twenty- first Century Academy for Community Leadership'), ('City', 'MANHATTAN'), ('DOE Need (with Truancy)', '1.338'), ('Crime', '0.178'), ('Obesity', '23.8'), ('6-8 attendance', '165'), ('Need Score', '29'), ('Latitude', '40.829941'), ('Longitude', '-73.944626')])\n",
      "OrderedDict([('', '28'), ('Location Name', 'P.S./M.S 042 R. Vernam'), ('City', 'QUEENS'), ('DOE Need (with Truancy)', '1.337'), ('Crime', '0.207'), ('Obesity', '29.6'), ('6-8 attendance', '188'), ('Need Score', '34'), ('Latitude', '40.594435'), ('Longitude', '-73.794945')])\n",
      "OrderedDict([('', '29'), ('Location Name', 'P.S. 163 Bath Beach'), ('City', 'BROOKLYN'), ('DOE Need (with Truancy)', '1.317'), ('Crime', '0.045'), ('Obesity', '24.0'), ('6-8 attendance', '190'), ('Need Score', '23'), ('Latitude', '40.60668'), ('Longitude', '-74.007736')])\n",
      "OrderedDict([('', '30'), ('Location Name', 'P.S. 315 Lab School'), ('City', 'BRONX'), ('DOE Need (with Truancy)', '1.314'), ('Crime', '0.119'), ('Obesity', '34.3'), ('6-8 attendance', '113'), ('Need Score', '33'), ('Latitude', '40.857902'), ('Longitude', '-73.90377')])\n",
      "OrderedDict([('', '31'), ('Location Name', 'I.S. 98 Bay Academy'), ('City', 'BROOKLYN'), ('DOE Need (with Truancy)', '1.313'), ('Crime', '0.0'), ('Obesity', '32.0'), ('6-8 attendance', '166'), ('Need Score', '27'), ('Latitude', '40.583467'), ('Longitude', '-73.953973')])\n",
      "OrderedDict([('', '32'), ('Location Name', 'Entrada Academy'), ('City', 'BRONX'), ('DOE Need (with Truancy)', '1.311'), ('Crime', '0.356'), ('Obesity', '34.3'), ('6-8 attendance', '312'), ('Need Score', '43'), ('Latitude', '40.822084'), ('Longitude', '-73.894038')])\n",
      "OrderedDict([('', '33'), ('Location Name', 'I.S. 117 Joseph H. Wade'), ('City', 'BRONX'), ('DOE Need (with Truancy)', '1.31'), ('Crime', '0.119'), ('Obesity', '34.3'), ('6-8 attendance', '639'), ('Need Score', '33'), ('Latitude', '40.848553'), ('Longitude', '-73.908435')])\n",
      "OrderedDict([('', '34'), ('Location Name', 'IP.S. 161 The Crown'), ('City', 'BROOKLYN'), ('DOE Need (with Truancy)', '1.308'), ('Crime', '0.146'), ('Obesity', '28.2'), ('6-8 attendance', '46'), ('Need Score', '30'), ('Latitude', '40.665905'), ('Longitude', '-73.9492')])\n",
      "OrderedDict([('', '35'), ('Location Name', 'P.S. 226 Alfred De B. Mason'), ('City', 'BROOKLYN'), ('DOE Need (with Truancy)', '1.307'), ('Crime', '0.0'), ('Obesity', '30.0'), ('6-8 attendance', '264'), ('Need Score', '26'), ('Latitude', '40.615275'), ('Longitude', '-73.97664')])\n",
      "OrderedDict([('', '36'), ('Location Name', 'P.S. 105 The Bay School'), ('City', 'QUEENS'), ('DOE Need (with Truancy)', '1.304'), ('Crime', '0.215'), ('Obesity', '29.6'), ('6-8 attendance', '260'), ('Need Score', '34'), ('Latitude', '40.595798'), ('Longitude', '-73.781859')])\n",
      "OrderedDict([('', '37'), ('Location Name', 'P.S. 076 A. Philip Randolph'), ('City', 'MANHATTAN'), ('DOE Need (with Truancy)', '1.297'), ('Crime', '0.345'), ('Obesity', '27.3'), ('6-8 attendance', '175'), ('Need Score', '38'), ('Latitude', '40.806472'), ('Longitude', '-73.951195')])\n",
      "OrderedDict([('', '38'), ('Location Name', 'James Weldon Johnson'), ('City', 'MANHATTAN'), ('DOE Need (with Truancy)', '1.295'), ('Crime', '0.233'), ('Obesity', '37.8'), ('6-8 attendance', '229'), ('Need Score', '40'), ('Latitude', '40.797207'), ('Longitude', '-73.941605')])\n",
      "OrderedDict([('', '39'), ('Location Name', 'P.S./I.S. 384 Frances E. Charter'), ('City', 'BROOKLYN'), ('DOE Need (with Truancy)', '1.28'), ('Crime', '0.218'), ('Obesity', '26.4'), ('6-8 attendance', '224'), ('Need Score', '31'), ('Latitude', '40.690036'), ('Longitude', '-73.904753')])\n",
      "OrderedDict([('', '40'), ('Location Name', 'P.S./M.S. 280 Mosholu Parkway'), ('City', 'BRONX'), ('DOE Need (with Truancy)', '1.271'), ('Crime', '0.192'), ('Obesity', '25.7'), ('6-8 attendance', '267'), ('Need Score', '29'), ('Latitude', '40.877215'), ('Longitude', '-73.881631')])\n",
      "OrderedDict([('', '41'), ('Location Name', 'P.S./I.S. 116 William C. Hughley'), ('City', 'QUEENS'), ('DOE Need (with Truancy)', '1.27'), ('Crime', '0.29'), ('Obesity', '23.6'), ('6-8 attendance', '160'), ('Need Score', '32'), ('Latitude', '40.70076'), ('Longitude', '-73.781916')])\n",
      "OrderedDict([('', '42'), ('Location Name', 'P.S. 109'), ('City', 'BROOKLYN'), ('DOE Need (with Truancy)', '1.269'), ('Crime', '0.238'), ('Obesity', '28.2'), ('6-8 attendance', '264'), ('Need Score', '33'), ('Latitude', '40.636004'), ('Longitude', '-73.933149')])\n",
      "OrderedDict([('', '43'), ('Location Name', 'P.S. 20 P.O.George J. Werdan Ill'), ('City', 'BRONX'), ('DOE Need (with Truancy)', '1.264'), ('Crime', '0.192'), ('Obesity', '25.7'), ('6-8 attendance', '282'), ('Need Score', '29'), ('Latitude', '40.869618'), ('Longitude', '-73.879012')])\n",
      "OrderedDict([('', '44'), ('Location Name', 'P.S. 189 Lincoln Terrace'), ('City', 'BROOKLYN'), ('DOE Need (with Truancy)', '1.257'), ('Crime', '0.451'), ('Obesity', '29.3'), ('6-8 attendance', '445'), ('Need Score', '43'), ('Latitude', '40.665417'), ('Longitude', '-73.925758')])\n",
      "OrderedDict([('', '45'), ('Location Name', 'I.S. 232'), ('City', 'BRONX'), ('DOE Need (with Truancy)', '1.253'), ('Crime', '0.119'), ('Obesity', '34.3'), ('6-8 attendance', '541'), ('Need Score', '32'), ('Latitude', '40.849312'), ('Longitude', '-73.915653')])\n",
      "OrderedDict([('', '46'), ('Location Name', 'P.S. 165 Robert E. Simon'), ('City', 'MANHATTAN'), ('DOE Need (with Truancy)', '1.246'), ('Crime', '0.058'), ('Obesity', '12.0'), ('6-8 attendance', '248'), ('Need Score', '16'), ('Latitude', '40.80288'), ('Longitude', '-73.966135')])\n",
      "OrderedDict([('', '47'), ('Location Name', 'P.S. 191 Amsterdam'), ('City', 'MANHATTAN'), ('DOE Need (with Truancy)', '1.238'), ('Crime', '0.0'), ('Obesity', '12.0'), ('6-8 attendance', '201'), ('Need Score', '14'), ('Latitude', '40.771912'), ('Longitude', '-73.987684')])\n",
      "OrderedDict([('', '48'), ('Location Name', 'P.S. 111 Adolph S. Ochs'), ('City', 'MANHATTAN'), ('DOE Need (with Truancy)', '1.237'), ('Crime', '0.0'), ('Obesity', '10.6'), ('6-8 attendance', '192'), ('Need Score', '13'), ('Latitude', '40.766047'), ('Longitude', '-73.989839')])\n",
      "OrderedDict([('', '49'), ('Location Name', 'P.S. 007 Samuel Stern'), ('City', 'MANHATTAN'), ('DOE Need (with Truancy)', '1.237'), ('Crime', '0.37'), ('Obesity', '37.8'), ('6-8 attendance', '153'), ('Need Score', '45'), ('Latitude', '40.800964'), ('Longitude', '-73.939617')])\n",
      "OrderedDict([('', '50'), ('Location Name', 'ACADEMY FOR PERSONAL LEADERSHIP AND EXCELLENCE'), ('City', 'BRONX'), ('DOE Need (with Truancy)', '1.234'), ('Crime', '0.087'), ('Obesity', '25.7'), ('6-8 attendance', '397'), ('Need Score', '25'), ('Latitude', '40.859587'), ('Longitude', '-73.900099')])\n",
      "OrderedDict([('', '51'), ('Location Name', 'Urban Assembly Academy of Civic Engagement'), ('City', 'BRONX'), ('DOE Need (with Truancy)', '1.233'), ('Crime', '0.0'), ('Obesity', '34.5'), ('6-8 attendance', '159'), ('Need Score', '28'), ('Latitude', '40.826777'), ('Longitude', '-73.818075')])\n",
      "OrderedDict([('', '52'), ('Location Name', 'P.S. 157 Benjamin Franklin'), ('City', 'BROOKLYN'), ('DOE Need (with Truancy)', '1.23'), ('Crime', '0.16'), ('Obesity', '18.1'), ('6-8 attendance', '178'), ('Need Score', '24'), ('Latitude', '40.695411'), ('Longitude', '-73.959962')])\n",
      "OrderedDict([('', '53'), ('Location Name', 'Choir Academy of Harlem'), ('City', 'MANHATTAN'), ('DOE Need (with Truancy)', '1.222'), ('Crime', '0.37'), ('Obesity', '37.8'), ('6-8 attendance', '72'), ('Need Score', '45'), ('Latitude', '40.807079'), ('Longitude', '-73.939093')])\n",
      "OrderedDict([('', '54'), ('Location Name', 'Academy for Scholarship and Entrepreneurship: A College Board School'), ('City', 'BRONX'), ('DOE Need (with Truancy)', '1.216'), ('Crime', '0.298'), ('Obesity', '29.9'), ('6-8 attendance', '88'), ('Need Score', '37'), ('Latitude', '40.88791'), ('Longitude', '-73.852488')])\n",
      "OrderedDict([('', '55'), ('Location Name', 'I.S. 229 Roland Patterson'), ('City', 'BRONX'), ('DOE Need (with Truancy)', '1.203'), ('Crime', '0.119'), ('Obesity', '34.3'), ('6-8 attendance', '207'), ('Need Score', '32'), ('Latitude', '40.852635'), ('Longitude', '-73.92127')])\n",
      "OrderedDict([('', '56'), ('Location Name', 'P.S. I.S. 087 Middle Village'), ('City', 'QUEENS'), ('DOE Need (with Truancy)', '1.202'), ('Crime', '0.071'), ('Obesity', '13.6'), ('6-8 attendance', '204'), ('Need Score', '17'), ('Latitude', '40.711906'), ('Longitude', '-73.871298')])\n",
      "OrderedDict([('', '57'), ('Location Name', 'P.S. 099 Isaac Asimov'), ('City', 'BROOKLYN'), ('DOE Need (with Truancy)', '1.196'), ('Crime', '0.0'), ('Obesity', '30.0'), ('6-8 attendance', '271'), ('Need Score', '25'), ('Latitude', '40.621463'), ('Longitude', '-73.966022')])\n",
      "OrderedDict([('', '58'), ('Location Name', 'Juan Morel Campos Secondary School'), ('City', 'BROOKLYN'), ('DOE Need (with Truancy)', '1.188'), ('Crime', '0.124'), ('Obesity', '25.5'), ('6-8 attendance', '357'), ('Need Score', '27'), ('Latitude', '40.704121'), ('Longitude', '-73.953339')])\n",
      "OrderedDict([('', '59'), ('Location Name', 'M.S. 256 Academic & Athletic Excellence'), ('City', 'MANHATTAN'), ('DOE Need (with Truancy)', '1.184'), ('Crime', '0.058'), ('Obesity', '12.0'), ('6-8 attendance', '158'), ('Need Score', '16'), ('Latitude', '40.791685'), ('Longitude', '-73.97077')])\n",
      "OrderedDict([('', '60'), ('Location Name', 'Bronx Writing Academy'), ('City', 'BRONX'), ('DOE Need (with Truancy)', '1.183'), ('Crime', '0.271'), ('Obesity', '34.3'), ('6-8 attendance', '491'), ('Need Score', '39'), ('Latitude', '40.83245'), ('Longitude', '-73.913939')])\n",
      "OrderedDict([('', '61'), ('Location Name', 'P.S. 262 El Hajj Malik El Shabazz Elementary School'), ('City', 'BROOKLYN'), ('DOE Need (with Truancy)', '1.161'), ('Crime', '0.0'), ('Obesity', '32.0'), ('6-8 attendance', '189'), ('Need Score', '25'), ('Latitude', '40.683055'), ('Longitude', '-73.930442')])\n",
      "OrderedDict([('', '62'), ('Location Name', 'P. S. 219 Paul Klapper'), ('City', 'QUEENS'), ('DOE Need (with Truancy)', '1.153'), ('Crime', '0.105'), ('Obesity', '13.3'), ('6-8 attendance', '213'), ('Need Score', '18'), ('Latitude', '40.735855'), ('Longitude', '-73.823583')])\n",
      "OrderedDict([('', '63'), ('Location Name', 'Satellite East Middle School'), ('City', 'BROOKLYN'), ('DOE Need (with Truancy)', '1.152'), ('Crime', '0.179'), ('Obesity', '29.3'), ('6-8 attendance', '158'), ('Need Score', '31'), ('Latitude', '40.685945'), ('Longitude', '-73.945303')])\n",
      "OrderedDict([('', '64'), ('Location Name', 'ESPERANZA PREPARATORY ACADEMY'), ('City', 'MANHATTAN'), ('DOE Need (with Truancy)', '1.131'), ('Crime', '0.233'), ('Obesity', '37.8'), ('6-8 attendance', '283'), ('Need Score', '38'), ('Latitude', '40.792486'), ('Longitude', '-73.941725')])\n",
      "OrderedDict([('', '65'), ('Location Name', 'P. S. 156 Laurelton'), ('City', 'QUEENS'), ('DOE Need (with Truancy)', '1.109'), ('Crime', '0.146'), ('Obesity', '22.2'), ('6-8 attendance', '158'), ('Need Score', '24'), ('Latitude', '40.672087'), ('Longitude', '-73.743438')])\n",
      "OrderedDict([('', '66'), ('Location Name', 'I.S. M286 Renaissance Leadership Academy'), ('City', 'MANHATTAN'), ('DOE Need (with Truancy)', '1.105'), ('Crime', '0.345'), ('Obesity', '27.3'), ('6-8 attendance', '171'), ('Need Score', '36'), ('Latitude', '40.815478'), ('Longitude', '-73.955556')])\n",
      "OrderedDict([('', '67'), ('Location Name', 'PS/ MS 194'), ('City', 'BRONX'), ('DOE Need (with Truancy)', '1.105'), ('Crime', '0.039'), ('Obesity', '34.5'), ('6-8 attendance', '497'), ('Need Score', '28'), ('Latitude', '40.834979'), ('Longitude', '-73.846519')])\n",
      "OrderedDict([('', '68'), ('Location Name', 'M.S. K394'), ('City', 'BROOKLYN'), ('DOE Need (with Truancy)', '1.104'), ('Crime', '0.137'), ('Obesity', '29.3'), ('6-8 attendance', '230'), ('Need Score', '29'), ('Latitude', '40.672706'), ('Longitude', '-73.92893')])\n",
      "OrderedDict([('', '69'), ('Location Name', 'M .S. 129 Academy for Independent Learning and Leadership'), ('City', 'BRONX'), ('DOE Need (with Truancy)', '1.101'), ('Crime', '0.194'), ('Obesity', '34.3'), ('6-8 attendance', '515'), ('Need Score', '34'), ('Latitude', '40.845682'), ('Longitude', '-73.886532')])\n",
      "OrderedDict([('', '70'), ('Location Name', 'P.S. 206 Jose Celso Barbosa'), ('City', 'MANHATTAN'), ('DOE Need (with Truancy)', '1.095'), ('Crime', '0.37'), ('Obesity', '37.8'), ('6-8 attendance', '187'), ('Need Score', '44'), ('Latitude', '40.796906'), ('Longitude', '-73.929978')])\n",
      "OrderedDict([('', '71'), ('Location Name', 'M.S. 390'), ('City', 'BRONX'), ('DOE Need (with Truancy)', '1.095'), ('Crime', '0.119'), ('Obesity', '34.3'), ('6-8 attendance', '402'), ('Need Score', '31'), ('Latitude', '40.854228'), ('Longitude', '-73.913213')])\n",
      "OrderedDict([('', '72'), ('Location Name', 'I.S. X318 Math, Science & Technology Through Arts'), ('City', 'BRONX'), ('DOE Need (with Truancy)', '1.084'), ('Crime', '0.301'), ('Obesity', '34.3'), ('6-8 attendance', '332'), ('Need Score', '39'), ('Latitude', '40.843672'), ('Longitude', '-73.890072')])\n",
      "OrderedDict([('', '73'), ('Location Name', 'Ebbets Field Middle School'), ('City', 'BROOKLYN'), ('DOE Need (with Truancy)', '1.081'), ('Crime', '0.146'), ('Obesity', '28.2'), ('6-8 attendance', '296'), ('Need Score', '28'), ('Latitude', '40.664828'), ('Longitude', '-73.956555')])\n",
      "OrderedDict([('', '74'), ('Location Name', 'P.S. 095 Sheila Mencher'), ('City', 'BRONX'), ('DOE Need (with Truancy)', '1.075'), ('Crime', '0.102'), ('Obesity', '24.0'), ('6-8 attendance', '476'), ('Need Score', '24'), ('Latitude', '40.883022'), ('Longitude', '-73.891672')])\n",
      "OrderedDict([('', '75'), ('Location Name', 'P.S./ M.S. 138 Sunrise'), ('City', 'QUEENS'), ('DOE Need (with Truancy)', '1.073'), ('Crime', '0.109'), ('Obesity', '22.2'), ('6-8 attendance', '304'), ('Need Score', '23'), ('Latitude', '40.659983'), ('Longitude', '-73.734434')])\n",
      "OrderedDict([('', '76'), ('Location Name', 'M .S. 246 Walt Whitman'), ('City', 'BROOKLYN'), ('DOE Need (with Truancy)', '1.065'), ('Crime', '0.145'), ('Obesity', '28.2'), ('6-8 attendance', '601'), ('Need Score', '28'), ('Latitude', '40.648368'), ('Longitude', '-73.953046')])\n",
      "OrderedDict([('', '77'), ('Location Name', 'P.S. 084 Steinway'), ('City', 'QUEENS'), ('DOE Need (with Truancy)', '1.056'), ('Crime', '0.0'), ('Obesity', '16.4'), ('6-8 attendance', '63'), ('Need Score', '15'), ('Latitude', '40.771182'), ('Longitude', '-73.906108')])\n",
      "OrderedDict([('', '78'), ('Location Name', 'M .S. M247 Dual Language Middle School'), ('City', 'MANHATTAN'), ('DOE Need (with Truancy)', '1.051'), ('Crime', '0.058'), ('Obesity', '12.0'), ('6-8 attendance', '195'), ('Need Score', '14'), ('Latitude', '40.789366'), ('Longitude', '-73.967929')])\n",
      "OrderedDict([('', '79'), ('Location Name', 'P.S. 045 Horace E. Greene'), ('City', 'BROOKLYN'), ('DOE Need (with Truancy)', '1.045'), ('Crime', '0.218'), ('Obesity', '26.4'), ('6-8 attendance', '199'), ('Need Score', '29'), ('Latitude', '40.68639'), ('Longitude', '-73.910452')])\n",
      "OrderedDict([('', '80'), ('Location Name', 'Academy of Public Relations'), ('City', 'BRONX'), ('DOE Need (with Truancy)', '1.044'), ('Crime', '0.271'), ('Obesity', '34.3'), ('6-8 attendance', '360'), ('Need Score', '37'), ('Latitude', '40.818955'), ('Longitude', '-73.905492')])\n",
      "OrderedDict([('', '81'), ('Location Name', 'Community Health Academy of the Heights'), ('City', 'MANHATTAN'), ('DOE Need (with Truancy)', '1.038'), ('Crime', '0.064'), ('Obesity', '23.8'), ('6-8 attendance', '237'), ('Need Score', '21'), ('Latitude', '40.833487'), ('Longitude', '-73.942446')])\n",
      "OrderedDict([('', '82'), ('Location Name', 'South Bronx Academy for Applied Media'), ('City', 'BRONX'), ('DOE Need (with Truancy)', '1.018'), ('Crime', '0.271'), ('Obesity', '34.3'), ('6-8 attendance', '380'), ('Need Score', '37'), ('Latitude', '40.818955'), ('Longitude', '-73.905492')])\n",
      "OrderedDict([('', '83'), ('Location Name', 'Middle School for Academic and Social Excellence'), ('City', 'BROOKLYN'), ('DOE Need (with Truancy)', '1.018'), ('Crime', '0.137'), ('Obesity', '29.3'), ('6-8 attendance', '168'), ('Need Score', '28'), ('Latitude', '40.672579'), ('Longitude', '-73.937259')])\n",
      "OrderedDict([('', '84'), ('Location Name', 'Technology, Arts, and Sciences Studio'), ('City', 'MANHATTAN'), ('DOE Need (with Truancy)', '1.006'), ('Crime', '0.282'), ('Obesity', '12.1'), ('6-8 attendance', '157'), ('Need Score', '23'), ('Latitude', '40.729928'), ('Longitude', '-73.984393')])\n",
      "OrderedDict([('', '85'), ('Location Name', 'PS/MS 200 - The Pomonok School & STAR Academy'), ('City', 'QUEENS'), ('DOE Need (with Truancy)', '1.003'), ('Crime', '0.0'), ('Obesity', '13.3'), ('6-8 attendance', '171'), ('Need Score', '13'), ('Latitude', '40.73106'), ('Longitude', '-73.805449')])\n",
      "OrderedDict([('', '86'), ('Location Name', 'The SEEALL Academy'), ('City', 'BROOKLYN'), ('DOE Need (with Truancy)', '0.993'), ('Crime', '0.0'), ('Obesity', '30.0'), ('6-8 attendance', '455'), ('Need Score', '23'), ('Latitude', '40.626665'), ('Longitude', '-73.989612')])\n",
      "OrderedDict([('', '87'), ('Location Name', 'The School of Integrated Learning'), ('City', 'BROOKLYN'), ('DOE Need (with Truancy)', '0.992'), ('Crime', '0.137'), ('Obesity', '29.3'), ('6-8 attendance', '240'), ('Need Score', '28'), ('Latitude', '40.672579'), ('Longitude', '-73.937259')])\n",
      "OrderedDict([('', '88'), ('Location Name', 'P.S./I.S. 268'), ('City', 'QUEENS'), ('DOE Need (with Truancy)', '0.974'), ('Crime', '0.29'), ('Obesity', '23.6'), ('6-8 attendance', '172'), ('Need Score', '30'), ('Latitude', '40.707636'), ('Longitude', '-73.785231')])\n",
      "OrderedDict([('', '89'), ('Location Name', 'P.S. 164 Queens Valley'), ('City', 'QUEENS'), ('DOE Need (with Truancy)', '0.96'), ('Crime', '0.105'), ('Obesity', '13.3'), ('6-8 attendance', '247'), ('Need Score', '17'), ('Latitude', '40.720926'), ('Longitude', '-73.823358')])\n",
      "OrderedDict([('', '90'), ('Location Name', 'P.S. 121 Nelson A. Rockefeller'), ('City', 'BROOKLYN'), ('DOE Need (with Truancy)', '0.958'), ('Crime', '0.0'), ('Obesity', '30.0'), ('6-8 attendance', '98'), ('Need Score', '23'), ('Latitude', '40.62289'), ('Longitude', '-73.978788')])\n",
      "OrderedDict([('', '91'), ('Location Name', 'J.H.S. 125 Henry Hudson'), ('City', 'BRONX'), ('DOE Need (with Truancy)', '0.957'), ('Crime', '0.167'), ('Obesity', '34.5'), ('6-8 attendance', '462'), ('Need Score', '32'), ('Latitude', '40.829414'), ('Longitude', '-73.856783')])\n",
      "OrderedDict([('', '92'), ('Location Name', 'P. 5. 071 Rose E. Scala'), ('City', 'BRONX'), ('DOE Need (with Truancy)', '0.951'), ('Crime', '0.0'), ('Obesity', '34.5'), ('6-8 attendance', '573'), ('Need Score', '26'), ('Latitude', '40.845672'), ('Longitude', '-73.829743')])\n",
      "OrderedDict([('', '93'), ('Location Name', 'Amistad Dual Language School'), ('City', 'MANHATTAN'), ('DOE Need (with Truancy)', '0.95'), ('Crime', '0.124'), ('Obesity', '23.8'), ('6-8 attendance', '138'), ('Need Score', '24'), ('Latitude', '40.866522'), ('Longitude', '-73.923818')])\n",
      "OrderedDict([('', '94'), ('Location Name', 'J.H.S. 014 Shell Bank'), ('City', 'BROOKLYN'), ('DOE Need (with Truancy)', '0.942'), ('Crime', '0.0'), ('Obesity', '32.0'), ('6-8 attendance', '570'), ('Need Score', '23'), ('Latitude', '40.593489'), ('Longitude', '-73.938138')])\n",
      "OrderedDict([('', '95'), ('Location Name', 'Upper School @ P.S. 25'), ('City', 'BROOKLYN'), ('DOE Need (with Truancy)', '0.939'), ('Crime', '0.134'), ('Obesity', '25.5'), ('6-8 attendance', '148'), ('Need Score', '24'), ('Latitude', '40.693705'), ('Longitude', '-73.925757')])\n",
      "OrderedDict([('', '96'), ('Location Name', 'P.S./I.S. 295'), ('City', 'QUEENS'), ('DOE Need (with Truancy)', '0.939'), ('Crime', '0.0'), ('Obesity', '22.2'), ('6-8 attendance', '186'), ('Need Score', '17'), ('Latitude', '40.720822'), ('Longitude', '-73.731335')])\n",
      "OrderedDict([('', '97'), ('Location Name', 'Collaborative Academy of Science, Technology & Language-Arts Education'), ('City', 'MANHATTAN'), ('DOE Need (with Truancy)', '0.934'), ('Crime', '0.151'), ('Obesity', '12.1'), ('6-8 attendance', '166'), ('Need Score', '17'), ('Latitude', '40.71353'), ('Longitude', '-73.985684')])\n",
      "OrderedDict([('', '98'), ('Location Name', 'P.S. 102 Bayview'), ('City', 'QUEENS'), ('DOE Need (with Truancy)', '0.929'), ('Crime', '0.0'), ('Obesity', '22.6'), ('6-8 attendance', '376'), ('Need Score', '18'), ('Latitude', '40.733432'), ('Longitude', '-73.877765')])\n",
      "OrderedDict([('', '99'), ('Location Name', 'PS/ MS 11X498 - VAN NEST ACADEMY'), ('City', 'BRONX'), ('DOE Need (with Truancy)', '0.925'), ('Crime', '0.039'), ('Obesity', '34.5'), ('6-8 attendance', '268'), ('Need Score', '26'), ('Latitude', '40.844902'), ('Longitude', '-73.85778')])\n",
      "OrderedDict([('', '100'), ('Location Name', 'Washington Heights Expeditionary Learning School'), ('City', 'MANHATTAN'), ('DOE Need (with Truancy)', '0.92'), ('Crime', '0.087'), ('Obesity', '23.8'), ('6-8 attendance', '264'), ('Need Score', '21'), ('Latitude', '40.849099'), ('Longitude', '-73.931106')])\n",
      "OrderedDict([('', '101'), ('Location Name', 'Soundview Academy for Culture and Scholarship'), ('City', 'BRONX'), ('DOE Need (with Truancy)', '0.915'), ('Crime', '0.241'), ('Obesity', '34.5'), ('6-8 attendance', '305'), ('Need Score', '34'), ('Latitude', '40.823282'), ('Longitude', '-73.859911')])\n",
      "OrderedDict([('', '102'), ('Location Name', 'P.S. 083 Donald Hertz'), ('City', 'BRONX'), ('DOE Need (with Truancy)', '0.908'), ('Crime', '0.039'), ('Obesity', '34.5'), ('6-8 attendance', '670'), ('Need Score', '26'), ('Latitude', '40.849305'), ('Longitude', '-73.85873')])\n",
      "OrderedDict([('', '103'), ('Location Name', 'Frederick Douglass Academy V. Middle School'), ('City', 'BRONX'), ('DOE Need (with Truancy)', '0.906'), ('Crime', '0.301'), ('Obesity', '34.3'), ('6-8 attendance', '256'), ('Need Score', '37'), ('Latitude', '40.848681'), ('Longitude', '-73.888848')])\n",
      "OrderedDict([('', '104'), ('Location Name', 'J.H.S. 123 James M. Kieran'), ('City', 'BRONX'), ('DOE Need (with Truancy)', '0.901'), ('Crime', '0.167'), ('Obesity', '34.5'), ('6-8 attendance', '504'), ('Need Score', '31'), ('Latitude', '40.824884'), ('Longitude', '-73.873517')])\n",
      "OrderedDict([('', '105'), ('Location Name', 'Satellite West Middle School'), ('City', 'BROOKLYN'), ('DOE Need (with Truancy)', '0.899'), ('Crime', '0.096'), ('Obesity', '18.1'), ('6-8 attendance', '119'), ('Need Score', '18'), ('Latitude', '40.701781'), ('Longitude', '-73.981587')])\n",
      "OrderedDict([('', '106'), ('Location Name', ':rotlyn Secondary School for Collaborative Studies'), ('City', 'BROOKLYN'), ('DOE Need (with Truancy)', '0.891'), ('Crime', '0.137'), ('Obesity', '18.1'), ('6-8 attendance', '294'), ('Need Score', '20'), ('Latitude', '40.679432'), ('Longitude', '-74.001943')])\n",
      "OrderedDict([('', '107'), ('Location Name', 'Emolior Academy'), ('City', 'BRONX'), ('DOE Need (with Truancy)', '0.884'), ('Crime', '0.194'), ('Obesity', '34.3'), ('6-8 attendance', '249'), ('Need Score', '32'), ('Latitude', '40.839183'), ('Longitude', '-73.88028')])\n",
      "OrderedDict([('', '108'), ('Location Name', 'P. S. 180 Hugo Newman'), ('City', 'MANHATTAN'), ('DOE Need (with Truancy)', '0.883'), ('Crime', '0.345'), ('Obesity', '27.3'), ('6-8 attendance', '131'), ('Need Score', '34'), ('Latitude', '40.807609'), ('Longitude', '-73.955839')])\n",
      "OrderedDict([('', '109'), ('Location Name', 'Accion Academy'), ('City', 'BRONX'), ('DOE Need (with Truancy)', '0.879'), ('Crime', '0.301'), ('Obesity', '34.3'), ('6-8 attendance', '173'), ('Need Score', '37'), ('Latitude', '40.8425'), ('Longitude', '-73.89086')])\n",
      "OrderedDict([('', '110'), ('Location Name', 'Ronald Edmonds Learning Center II'), ('City', 'BROOKLYN'), ('DOE Need (with Truancy)', '0.868'), ('Crime', '0.184'), ('Obesity', '29.3'), ('6-8 attendance', '144'), ('Need Score', '29'), ('Latitude', '40.672965'), ('Longitude', '-73.919989')])\n",
      "OrderedDict([('', '111'), ('Location Name', 'J.H.S. 223 The Montauk'), ('City', 'BROOKLYN'), ('DOE Need (with Truancy)', '0.867'), ('Crime', '0.0'), ('Obesity', '30.0'), ('6-8 attendance', '941'), ('Need Score', '22'), ('Latitude', '40.634958'), ('Longitude', '-73.981452')])\n",
      "OrderedDict([('', '112'), ('Location Name', 'Mott Hall Community School'), ('City', 'BRONX'), ('DOE Need (with Truancy)', '0.866'), ('Crime', '0.0'), ('Obesity', '34.5'), ('6-8 attendance', '262'), ('Need Score', '25'), ('Latitude', '40.826777'), ('Longitude', '-73.818075')])\n",
      "OrderedDict([('', '113'), ('Location Name', 'I.S. 192 The Linden'), ('City', 'QUEENS'), ('DOE Need (with Truancy)', '0.853'), ('Crime', '0.16'), ('Obesity', '23.6'), ('6-8 attendance', '524'), ('Need Score', '24'), ('Latitude', '40.706768'), ('Longitude', '-73.753793')])\n",
      "OrderedDict([('', '114'), ('Location Name', 'Brooklyn School for Global Studies'), ('City', 'BROOKLYN'), ('DOE Need (with Truancy)', '0.847'), ('Crime', '0.096'), ('Obesity', '18.1'), ('6-8 attendance', '85'), ('Need Score', '18'), ('Latitude', '40.685353'), ('Longitude', '-73.993725')])\n",
      "OrderedDict([('', '115'), ('Location Name', 'I.S. X303 Leadership & Community Service'), ('City', 'BRONX'), ('DOE Need (with Truancy)', '0.843'), ('Crime', '0.119'), ('Obesity', '34.3'), ('6-8 attendance', '325'), ('Need Score', '29'), ('Latitude', '40.849312'), ('Longitude', '-73.915653')])\n",
      "OrderedDict([('', '116'), ('Location Name', 'E.S.M.T. I.S. 190'), ('City', 'BRONX'), ('DOE Need (with Truancy)', '0.842'), ('Crime', '0.194'), ('Obesity', '34.3'), ('6-8 attendance', '253'), ('Need Score', '32'), ('Latitude', '40.83627'), ('Longitude', '-73.892737')])\n",
      "OrderedDict([('', '117'), ('Location Name', 'P. S. 126 Jacob August Riis'), ('City', 'MANHATTAN'), ('DOE Need (with Truancy)', '0.837'), ('Crime', '0.0'), ('Obesity', '12.1'), ('6-8 attendance', '364'), ('Need Score', '11'), ('Latitude', '40.710525'), ('Longitude', '-73.99679')])\n",
      "OrderedDict([('', '118'), ('Location Name', 'The New School for leadership and Journalism'), ('City', 'BRONX'), ('DOE Need (with Truancy)', '0.836'), ('Crime', '0.102'), ('Obesity', '24.0'), ('6-8 attendance', '781'), ('Need Score', '22'), ('Latitude', '40.873926'), ('Longitude', '-73.902751')])\n",
      "OrderedDict([('', '119'), ('Location Name', 'School for Global Leaders'), ('City', 'MANHATTAN'), ('DOE Need (with Truancy)', '0.824'), ('Crime', '0.151'), ('Obesity', '12.1'), ('6-8 attendance', '244'), ('Need Score', '16'), ('Latitude', '40.720288'), ('Longitude', '-73.986079')])\n",
      "OrderedDict([('', '120'), ('Location Name', 'East Fordham Academy for the Arts'), ('City', 'BRONX'), ('DOE Need (with Truancy)', '0.812'), ('Crime', '0.087'), ('Obesity', '25.7'), ('6-8 attendance', '356'), ('Need Score', '21'), ('Latitude', '40.859587'), ('Longitude', '-73.900099')])\n",
      "OrderedDict([('', '121'), ('Location Name', 'Mott Hall V'), ('City', 'BRONX'), ('DOE Need (with Truancy)', '0.811'), ('Crime', '0.167'), ('Obesity', '34.5'), ('6-8 attendance', '301'), ('Need Score', '30'), ('Latitude', '40.831694'), ('Longitude', '-73.877464')])\n",
      "OrderedDict([('', '122'), ('Location Name', 'P.S. 206 Joseph F Lamb'), ('City', 'BROOKLYN'), ('DOE Need (with Truancy)', '0.806'), ('Crime', '0.047'), ('Obesity', '32.0'), ('6-8 attendance', '359'), ('Need Score', '23'), ('Latitude', '40.597291'), ('Longitude', '-73.948838')])\n",
      "OrderedDict([('', '123'), ('Location Name', 'The Urban Assembly Bronx Academy of Letters'), ('City', 'BRONX'), ('DOE Need (with Truancy)', '0.804'), ('Crime', '0.153'), ('Obesity', '34.3'), ('6-8 attendance', '255'), ('Need Score', '30'), ('Latitude', '40.81366'), ('Longitude', '-73.925999')])\n",
      "OrderedDict([('', '124'), ('Location Name', 'The Young Scholars Academy of The Bronx'), ('City', 'BRONX'), ('DOE Need (with Truancy)', '0.801'), ('Crime', '0.192'), ('Obesity', '25.7'), ('6-8 attendance', '327'), ('Need Score', '25'), ('Latitude', '40.880634'), ('Longitude', '-73.860155')])\n",
      "OrderedDict([('', '125'), ('Location Name', 'Bronx Green Middle School'), ('City', 'BRONX'), ('DOE Need (with Truancy)', '0.799'), ('Crime', '0.192'), ('Obesity', '25.7'), ('6-8 attendance', '403'), ('Need Score', '25'), ('Latitude', '40.86206'), ('Longitude', '-73.864588')])\n",
      "OrderedDict([('', '126'), ('Location Name', 'Bronx Early College Academy for Teaching & Learning'), ('City', 'BRONX'), ('DOE Need (with Truancy)', '0.792'), ('Crime', '0.271'), ('Obesity', '34.3'), ('6-8 attendance', '231'), ('Need Score', '35'), ('Latitude', '40.828314'), ('Longitude', '-73.917565')])\n",
      "OrderedDict([('', '127'), ('Location Name', 'Science & Technology Academy: A Mott Hall School'), ('City', 'BRONX'), ('DOE Need (with Truancy)', '0.779'), ('Crime', '0.271'), ('Obesity', '34.3'), ('6-8 attendance', '416'), ('Need Score', '35'), ('Latitude', '40.828314'), ('Longitude', '-73.917565')])\n",
      "OrderedDict([('', '128'), ('Location Name', 'P.S./I.S. 104 The Fort Hamilton School'), ('City', 'BROOKLYN'), ('DOE Need (with Truancy)', '0.778'), ('Crime', '0.0'), ('Obesity', '24.0'), ('6-8 attendance', '448'), ('Need Score', '17'), ('Latitude', '40.61831'), ('Longitude', '-74.028475')])\n",
      "OrderedDict([('', '129'), ('Location Name', 'Urban Assembly School for Criminal Justice'), ('City', 'BROOKLYN'), ('DOE Need (with Truancy)', '0.776'), ('Crime', '0.0'), ('Obesity', '30.0'), ('6-8 attendance', '183'), ('Need Score', '21'), ('Latitude', '40.634958'), ('Longitude', '-73.981452')])\n",
      "OrderedDict([('', '130'), ('Location Name', 'J.H.S. 057 Whitelaw Reid'), ('City', 'BROOKLYN'), ('DOE Need (with Truancy)', '0.774'), ('Crime', '0.134'), ('Obesity', '25.5'), ('6-8 attendance', '212'), ('Need Score', '23'), ('Latitude', '40.691289'), ('Longitude', '-73.933409')])\n",
      "OrderedDict([('', '131'), ('Location Name', 'P.S. 229 Dyker'), ('City', 'BROOKLYN'), ('DOE Need (with Truancy)', '0.773'), ('Crime', '0.0'), ('Obesity', '24.0'), ('6-8 attendance', '284'), ('Need Score', '17'), ('Latitude', '40.610438'), ('Longitude', '-74.013354')])\n",
      "OrderedDict([('', '132'), ('Location Name', 'P.S. 235 Lenox School'), ('City', 'BROOKLYN'), ('DOE Need (with Truancy)', '0.769'), ('Crime', '0.238'), ('Obesity', '28.2'), ('6-8 attendance', '296'), ('Need Score', '29'), ('Latitude', '40.655042'), ('Longitude', '-73.940676')])\n",
      "OrderedDict([('', '133'), ('Location Name', 'The Forward School'), ('City', 'BRONX'), ('DOE Need (with Truancy)', '0.761'), ('Crime', '0.192'), ('Obesity', '25.7'), ('6-8 attendance', '247'), ('Need Score', '25'), ('Latitude', '40.880634'), ('Longitude', '-73.860155')])\n",
      "OrderedDict([('', '134'), ('Location Name', 'New Design Middle School'), ('City', 'MANHATTAN'), ('DOE Need (with Truancy)', '0.761'), ('Crime', '0.345'), ('Obesity', '27.3'), ('6-8 attendance', '309'), ('Need Score', '33'), ('Latitude', '40.819803'), ('Longitude', '-73.956827')])\n",
      "OrderedDict([('', '135'), ('Location Name', 'Bronx Latin'), ('City', 'BRONX'), ('DOE Need (with Truancy)', '0.76'), ('Crime', '0.271'), ('Obesity', '34.3'), ('6-8 attendance', '242'), ('Need Score', '35'), ('Latitude', '40.82712'), ('Longitude', '-73.900889')])\n",
      "OrderedDict([('', '136'), ('Location Name', 'Urban Assembly School for Applied Math &Science, The'), ('City', 'BRONX'), ('DOE Need (with Truancy)', '0.76'), ('Crime', '0.301'), ('Obesity', '34.3'), ('6-8 attendance', '258'), ('Need Score', '36'), ('Latitude', '40.839615'), ('Longitude', '-73.901733')])\n",
      "OrderedDict([('', '137'), ('Location Name', 'New Directions Secondary School'), ('City', 'BRONX'), ('DOE Need (with Truancy)', '0.757'), ('Crime', '0.301'), ('Obesity', '34.3'), ('6-8 attendance', '107'), ('Need Score', '36'), ('Latitude', '40.839654'), ('Longitude', '-73.911386')])\n",
      "OrderedDict([('', '138'), ('Location Name', 'West Bronx Academy for the Future'), ('City', 'BRONX'), ('DOE Need (with Truancy)', '0.749'), ('Crime', '0.208'), ('Obesity', '25.7'), ('6-8 attendance', '263'), ('Need Score', '26'), ('Latitude', '40.859542'), ('Longitude', '-73.888596')])\n",
      "OrderedDict([('', '139'), ('Location Name', 'The Gordon Parks School'), ('City', 'QUEENS'), ('DOE Need (with Truancy)', '0.743'), ('Crime', '0.109'), ('Obesity', '22.2'), ('6-8 attendance', '198'), ('Need Score', '20'), ('Latitude', '40.675072'), ('Longitude', '-73.73628')])\n",
      "OrderedDict([('', '140'), ('Location Name', 'Antonia Pantoja Preparatory Academy: A College Board School'), ('City', 'BRONX'), ('DOE Need (with Truancy)', '0.742'), ('Crime', '0.241'), ('Obesity', '34.5'), ('6-8 attendance', '229'), ('Need Score', '33'), ('Latitude', '40.821344'), ('Longitude', '-73.855673')])\n",
      "OrderedDict([('', '141'), ('Location Name', 'M.S. 250 West Side Collaborative'), ('City', 'MANHATTAN'), ('DOE Need (with Truancy)', '0.742'), ('Crime', '0.058'), ('Obesity', '12.0'), ('6-8 attendance', '190'), ('Need Score', '12'), ('Latitude', '40.795086'), ('Longitude', '-73.973701')])\n",
      "OrderedDict([('', '142'), ('Location Name', 'PS/ IS 30 Mary White Ovington'), ('City', 'BROOKLYN'), ('DOE Need (with Truancy)', '0.736'), ('Crime', '0.0'), ('Obesity', '24.0'), ('6-8 attendance', '399'), ('Need Score', '17'), ('Latitude', '40.633733'), ('Longitude', '-74.02422')])\n",
      "OrderedDict([('', '143'), ('Location Name', 'Kappa Ill'), ('City', 'BRONX'), ('DOE Need (with Truancy)', '0.719'), ('Crime', '0.194'), ('Obesity', '34.3'), ('6-8 attendance', '338'), ('Need Score', '31'), ('Latitude', '40.845682'), ('Longitude', '-73.886532')])\n",
      "OrderedDict([('', '144'), ('Location Name', 'Pelham Academy of Academics and Commur'), ('City', 'BRONX'), ('DOE Need (with Truancy)', '0.717'), ('Crime', '0.192'), ('Obesity', '25.7'), ('6-8 attendance', '318'), ('Need Score', '25'), ('Latitude', '40.86206'), ('Longitude', '-73.864588')])\n",
      "OrderedDict([('', '145'), ('Location Name', 'P.S./I.S. 113 Anthony J. Pranzo'), ('City', 'QUEENS'), ('DOE Need (with Truancy)', '0.713'), ('Crime', '0.071'), ('Obesity', '13.6'), ('6-8 attendance', '325'), ('Need Score', '12'), ('Latitude', '40.705243'), ('Longitude', '-73.861935')])\n",
      "OrderedDict([('', '146'), ('Location Name', 'Elijah Stroud Middle School'), ('City', 'BROOKLYN'), ('DOE Need (with Truancy)', '0.71'), ('Crime', '0.0'), ('Obesity', '29.3'), ('6-8 attendance', '262'), ('Need Score', '20'), ('Latitude', '40.674531'), ('Longitude', '-73.960701')])\n",
      "OrderedDict([('', '147'), ('Location Name', 'Life Sciences Secondary School'), ('City', 'MANHATTAN'), ('DOE Need (with Truancy)', '0.703'), ('Crime', '0.0'), ('Obesity', '9.7'), ('6-8 attendance', '111'), ('Need Score', '8'), ('Latitude', '40.783537'), ('Longitude', '-73.945977')])\n",
      "OrderedDict([('', '148'), ('Location Name', 'P.S. 184m Shuang Wen'), ('City', 'MANHATTAN'), ('DOE Need (with Truancy)', '0.702'), ('Crime', '0.151'), ('Obesity', '12.1'), ('6-8 attendance', '162'), ('Need Score', '15'), ('Latitude', '40.711437'), ('Longitude', '-73.985486')])\n",
      "OrderedDict([('', '149'), ('Location Name', 'Comprehensive Model School Project M.S. 327'), ('City', 'BRONX'), ('DOE Need (with Truancy)', '0.698'), ('Crime', '0.271'), ('Obesity', '34.3'), ('6-8 attendance', '321'), ('Need Score', '34'), ('Latitude', '40.834973'), ('Longitude', '-73.900304')])\n",
      "OrderedDict([('', '150'), ('Location Name', 'M.S. 061 Or. Gladstone H. Atwell'), ('City', 'BROOKLYN'), ('DOE Need (with Truancy)', '0.69'), ('Crime', '0.146'), ('Obesity', '28.2'), ('6-8 attendance', '764'), ('Need Score', '24'), ('Latitude', '40.663889'), ('Longitude', '-73.948375')])\n",
      "OrderedDict([('', '151'), ('Location Name', 'P.S. 146 Howard Beach'), ('City', 'QUEENS'), ('DOE Need (with Truancy)', '0.687'), ('Crime', '0.0'), ('Obesity', '23.5'), ('6-8 attendance', '208'), ('Need Score', '16'), ('Latitude', '40.660547'), ('Longitude', '-73.834966')])\n",
      "OrderedDict([('', '152'), ('Location Name', 'Baychester Middle School'), ('City', 'BRONX'), ('DOE Need (with Truancy)', '0.685'), ('Crime', '0.298'), ('Obesity', '29.9'), ('6-8 attendance', '279'), ('Need Score', '32'), ('Latitude', '40.886043'), ('Longitude', '-73.840576')])\n",
      "OrderedDict([('', '153'), ('Location Name', 'J.H.S. 088 Peter Rouget'), ('City', 'BROOKLYN'), ('DOE Need (with Truancy)', '0.684'), ('Crime', '0.053'), ('Obesity', '18.1'), ('6-8 attendance', '1216'), ('Need Score', '15'), ('Latitude', '40.660669'), ('Longitude', '-73.988512')])\n",
      "OrderedDict([('', '154'), ('Location Name', 'P.S. 019 Judith K. Weiss'), ('City', 'BRONX'), ('DOE Need (with Truancy)', '0.677'), ('Crime', '0.247'), ('Obesity', '29.9'), ('6-8 attendance', '167'), ('Need Score', '30'), ('Latitude', '40.899379'), ('Longitude', '-73.86727')])\n",
      "OrderedDict([('', '155'), ('Location Name', 'P.S. 66'), ('City', 'BROOKLYN'), ('DOE Need (with Truancy)', '0.674'), ('Crime', '0.089'), ('Obesity', '41.9'), ('6-8 attendance', '288'), ('Need Score', '30'), ('Latitude', '40.648736'), ('Longitude', '-73.907064')])\n",
      "OrderedDict([('', '156'), ('Location Name', 'Theatre Arts Production Company School'), ('City', 'BRONX'), ('DOE Need (with Truancy)', '0.667'), ('Crime', '0.301'), ('Obesity', '34.3'), ('6-8 attendance', '237'), ('Need Score', '35'), ('Latitude', '40.854655'), ('Longitude', '-73.897036')])\n",
      "OrderedDict([('', '157'), ('Location Name', 'P.S./I.S. 187 Hudson Cliffs'), ('City', 'MANHATTAN'), ('DOE Need (with Truancy)', '0.666'), ('Crime', '0.118'), ('Obesity', '23.8'), ('6-8 attendance', '259'), ('Need Score', '20'), ('Latitude', '40.856137'), ('Longitude', '-73.937295')])\n",
      "OrderedDict([('', '158'), ('Location Name', 'West Prep Academy'), ('City', 'MANHATTAN'), ('DOE Need (with Truancy)', '0.659'), ('Crime', '0.058'), ('Obesity', '12.0'), ('6-8 attendance', '214'), ('Need Score', '11'), ('Latitude', '40.799179'), ('Longitude', '-73.965156')])\n",
      "OrderedDict([('', '159'), ('Location Name', 'Academy of Medical technology: A College Board School'), ('City', 'QUEENS'), ('DOE Need (with Truancy)', '0.646'), ('Crime', '0.215'), ('Obesity', '29.6'), ('6-8 attendance', '223'), ('Need Score', '28'), ('Latitude', '40.601532'), ('Longitude', '-73.763979')])\n",
      "OrderedDict([('', '160'), ('Location Name', 'P.S. 122 Mamie Fay'), ('City', 'QUEENS'), ('DOE Need (with Truancy)', '0.644'), ('Crime', '0.0'), ('Obesity', '16.4'), ('6-8 attendance', '295'), ('Need Score', '12'), ('Latitude', '40.780287'), ('Longitude', '-73.916047')])\n",
      "OrderedDict([('', '161'), ('Location Name', 'Brownsville Collaborative Middle School'), ('City', 'BROOKLYN'), ('DOE Need (with Truancy)', '0.642'), ('Crime', '0.451'), ('Obesity', '29.3'), ('6-8 attendance', '120'), ('Need Score', '38'), ('Latitude', '40.670971'), ('Longitude', '-73.907687')])\n",
      "OrderedDict([('', '162'), ('Location Name', 'Andries Hudde'), ('City', 'BROOKLYN'), ('DOE Need (with Truancy)', '0.638'), ('Crime', '0.156'), ('Obesity', '28.2'), ('6-8 attendance', '916'), ('Need Score', '25'), ('Latitude', '40.623753'), ('Longitude', '-73.946487')])\n",
      "OrderedDict([('', '163'), ('Location Name', 'Teachers Preparatory High School'), ('City', 'BROOKLYN'), ('DOE Need (with Truancy)', '0.63'), ('Crime', '0.451'), ('Obesity', '29.3'), ('6-8 attendance', '92'), ('Need Score', '38'), ('Latitude', '40.665575'), ('Longitude', '-73.912002')])\n",
      "OrderedDict([('', '164'), ('Location Name', 'I.S. 303 Herbert S. Eisenberg'), ('City', 'BROOKLYN'), ('DOE Need (with Truancy)', '0.629'), ('Crime', '0.203'), ('Obesity', '32.0'), ('6-8 attendance', '580'), ('Need Score', '29'), ('Latitude', '40.58241'), ('Longitude', '-73.972436')])\n",
      "OrderedDict([('', '165'), ('Location Name', 'Academy for College Preparation and Career Exploration: A College School Board'), ('City', 'BROOKLYN'), ('DOE Need (with Truancy)', '0.629'), ('Crime', '0.145'), ('Obesity', '28.2'), ('6-8 attendance', '151'), ('Need Score', '24'), ('Latitude', '40.6495'), ('Longitude', '-73.958162')])\n",
      "OrderedDict([('', '166'), ('Location Name', 'Mott Hall Bridges Academy'), ('City', 'BROOKLYN'), ('DOE Need (with Truancy)', '0.62'), ('Crime', '0.451'), ('Obesity', '29.3'), ('6-8 attendance', '213'), ('Need Score', '38'), ('Latitude', '40.666319'), ('Longitude', '-73.911102')])\n",
      "OrderedDict([('', '167'), ('Location Name', 'Bronx Dance Academy School'), ('City', 'BRONX'), ('DOE Need (with Truancy)', '0.619'), ('Crime', '0.192'), ('Obesity', '25.7'), ('6-8 attendance', '236'), ('Need Score', '24'), ('Latitude', '40.885356'), ('Longitude', '-73.878138')])\n",
      "OrderedDict([('', '168'), ('Location Name', 'Hostos-Lincoln Academy of Science'), ('City', 'BRONX'), ('DOE Need (with Truancy)', '0.615'), ('Crime', '0.396'), ('Obesity', '34.3'), ('6-8 attendance', '192'), ('Need Score', '39'), ('Latitude', '40.814527'), ('Longitude', '-73.912307')])\n",
      "OrderedDict([('', '169'), ('Location Name', 'P.S 207 Elizabeth G. Leary'), ('City', 'BROOKLYN'), ('DOE Need (with Truancy)', '0.613'), ('Crime', '0.0'), ('Obesity', '41.9'), ('6-8 attendance', '358'), ('Need Score', '27'), ('Latitude', '40.613668'), ('Longitude', '-73.930138')])\n",
      "OrderedDict([('', '170'), ('Location Name', 'P.S. 232 Lindenwood'), ('City', 'QUEENS'), ('DOE Need (with Truancy)', '0.611'), ('Crime', '0.0'), ('Obesity', '23.5'), ('6-8 attendance', '273'), ('Need Score', '16'), ('Latitude', '40.66585'), ('Longitude', '-73.851027')])\n",
      "OrderedDict([('', '171'), ('Location Name', 'Bronx High School for Medical Science'), ('City', 'BRONX'), ('DOE Need (with Truancy)', '0.611'), ('Crime', '0.301'), ('Obesity', '34.3'), ('6-8 attendance', '167'), ('Need Score', '35'), ('Latitude', '40.839654'), ('Longitude', '-73.911386')])\n",
      "OrderedDict([('', '172'), ('Location Name', 'M .S. K266 - Park Place Community Middle School'), ('City', 'BROOKLYN'), ('DOE Need (with Truancy)', '0.608'), ('Crime', '0.0'), ('Obesity', '18.1'), ('6-8 attendance', '148'), ('Need Score', '13'), ('Latitude', '40.678809'), ('Longitude', '-73.976737')])\n",
      "OrderedDict([('', '173'), ('Location Name', 'Frederick Douglass Academy'), ('City', 'MANHATTAN'), ('DOE Need (with Truancy)', '0.607'), ('Crime', '0.323'), ('Obesity', '27.3'), ('6-8 attendance', '313'), ('Need Score', '31'), ('Latitude', '40.824398'), ('Longitude', '-73.936545')])\n",
      "OrderedDict([('', '174'), ('Location Name', 'IJ.H.S. 118 William W. Niles'), ('City', 'BRONX'), ('DOE Need (with Truancy)', '0.604'), ('Crime', '0.301'), ('Obesity', '34.3'), ('6-8 attendance', '1201'), ('Need Score', '35'), ('Latitude', '40.84841'), ('Longitude', '-73.892512')])\n",
      "OrderedDict([('', '175'), ('Location Name', 'One World Middle School at Edenwald'), ('City', 'BRONX'), ('DOE Need (with Truancy)', '0.599'), ('Crime', '0.298'), ('Obesity', '29.9'), ('6-8 attendance', '337'), ('Need Score', '32'), ('Latitude', '40.886043'), ('Longitude', '-73.840576')])\n",
      "OrderedDict([('', '176'), ('Location Name', 'Brooklyn Studio Secondary School'), ('City', 'BROOKLYN'), ('DOE Need (with Truancy)', '0.595'), ('Crime', '0.045'), ('Obesity', '24.0'), ('6-8 attendance', '262'), ('Need Score', '16'), ('Latitude', '40.604847'), ('Longitude', '-73.994746')])\n",
      "OrderedDict([('', '177'), ('Location Name', 'J.H.S. 259 William Mckinley'), ('City', 'BROOKLYN'), ('DOE Need (with Truancy)', '0.589'), ('Crime', '0.0'), ('Obesity', '24.0'), ('6-8 attendance', '1421'), ('Need Score', '15'), ('Latitude', '40.626358'), ('Longitude', '-74.015044')])\n",
      "OrderedDict([('', '178'), ('Location Name', 'Fort Greene Preparatory Academy'), ('City', 'BROOKLYN'), ('DOE Need (with Truancy)', '0.588'), ('Crime', '0.16'), ('Obesity', '18.1'), ('6-8 attendance', '257'), ('Need Score', '18'), ('Latitude', '40.694514'), ('Longitude', '-73.971642')])\n",
      "OrderedDict([('', '179'), ('Location Name', 'Bronx School for Law, Government and Justice'), ('City', 'BRONX'), ('DOE Need (with Truancy)', '0.586'), ('Crime', '0.153'), ('Obesity', '34.3'), ('6-8 attendance', '278'), ('Need Score', '28'), ('Latitude', '40.827572'), ('Longitude', '-73.918927')])\n",
      "OrderedDict([('', '180'), ('Location Name', 'P.S./I.S. 208'), ('City', 'QUEENS'), ('DOE Need (with Truancy)', '0.585'), ('Crime', '0.0'), ('Obesity', '22.2'), ('6-8 attendance', '276'), ('Need Score', '14'), ('Latitude', '40.744184'), ('Longitude', '-73.727581')])\n",
      "OrderedDict([('', '181'), ('Location Name', 'Kappa'), ('City', 'BRONX'), ('DOE Need (with Truancy)', '0.581'), ('Crime', '0.271'), ('Obesity', '34.3'), ('6-8 attendance', '308'), ('Need Score', '33'), ('Latitude', '40.83389'), ('Longitude', '-73.903889')])\n",
      "OrderedDict([('', '182'), ('Location Name', 'New Height s Middle School'), ('City', 'BROOKLYN'), ('DOE Need (with Truancy)', '0.575'), ('Crime', '0.238'), ('Obesity', '28.2'), ('6-8 attendance', '233'), ('Need Score', '27'), ('Latitude', '40.662061'), ('Longitude', '-73.936574')])\n",
      "OrderedDict([('', '183'), ('Location Name', 'The Emerson School'), ('City', 'QUEENS'), ('DOE Need (with Truancy)', '0.571'), ('Crime', '0.29'), ('Obesity', '23.6'), ('6-8 attendance', '105'), ('Need Score', '26'), ('Latitude', '40.696913'), ('Longitude', '-73.786396')])\n",
      "OrderedDict([('', '184'), ('Location Name', 'Bronx Alliance Middle School'), ('City', 'BRONX'), ('DOE Need (with Truancy)', '0.564'), ('Crime', '0.298'), ('Obesity', '29.9'), ('6-8 attendance', '101'), ('Need Score', '31'), ('Latitude', '40.886043'), ('Longitude', '-73.840576')])\n",
      "OrderedDict([('', '185'), ('Location Name', 'The Urban Assembly Unison School'), ('City', 'BROOKLYN'), ('DOE Need (with Truancy)', '0.561'), ('Crime', '0.0'), ('Obesity', '29.3'), ('6-8 attendance', '139'), ('Need Score', '19'), ('Latitude', '40.684832'), ('Longitude', '-73.960723')])\n",
      "OrderedDict([('', '186'), ('Location Name', 'Blueprint Middle School'), ('City', 'BRONX'), ('DOE Need (with Truancy)', '0.557'), ('Crime', '0.167'), ('Obesity', '34.5'), ('6-8 attendance', '201'), ('Need Score', '28'), ('Latitude', '40.829414'), ('Longitude', '-73.856783')])\n",
      "OrderedDict([('', '187'), ('Location Name', 'Hunters Point Community Middle School'), ('City', 'QUEENS'), ('DOE Need (with Truancy)', '0.552'), ('Crime', '0.186'), ('Obesity', '16.4'), ('6-8 attendance', '105'), ('Need Score', '18'), ('Latitude', '40.74308'), ('Longitude', '-73.959251')])\n",
      "OrderedDict([('', '188'), ('Location Name', 'Eagle Academy for Young Men of Harlem'), ('City', 'MANHATTAN'), ('DOE Need (with Truancy)', '0.552'), ('Crime', '0.489'), ('Obesity', '27.3'), ('6-8 attendance', '67'), ('Need Score', '36'), ('Latitude', '40.817458'), ('Longitude', '-73.947372')])\n",
      "OrderedDict([('', '189'), ('Location Name', 'Archimedes Academy for Math, Science and Technology Applications'), ('City', 'BRONX'), ('DOE Need (with Truancy)', '0.55'), ('Crime', '0.241'), ('Obesity', '34.5'), ('6-8 attendance', '282'), ('Need Score', '31'), ('Latitude', '40.814694'), ('Longitude', '-73.856284')])\n",
      "OrderedDict([('', '190'), ('Location Name', 'School of the Future Brooklyn'), ('City', 'BROOKLYN'), ('DOE Need (with Truancy)', '0.547'), ('Crime', '0.218'), ('Obesity', '26.4'), ('6-8 attendance', '75'), ('Need Score', '25'), ('Latitude', '40.665571'), ('Longitude', '-73.897671')])\n",
      "OrderedDict([('', '191'), ('Location Name', 'Queens United Middle School'), ('City', 'QUEENS'), ('DOE Need (with Truancy)', '0.538'), ('Crime', '0.146'), ('Obesity', '22.2'), ('6-8 attendance', '80'), ('Need Score', '19'), ('Latitude', '40.672087'), ('Longitude', '-73.743438')])\n",
      "OrderedDict([('', '192'), ('Location Name', 'P.S. 049 Dorothy Bonawit Kole'), ('City', 'QUEENS'), ('DOE Need (with Truancy)', '0.533'), ('Crime', '0.0'), ('Obesity', '13.6'), ('6-8 attendance', '351'), ('Need Score', '9'), ('Latitude', '40.719517'), ('Longitude', '-73.875034')])\n",
      "OrderedDict([('', '193'), ('Location Name', 'Sunset Park Prep'), ('City', 'BROOKLYN'), ('DOE Need (with Truancy)', '0.532'), ('Crime', '0.0'), ('Obesity', '21.6'), ('6-8 attendance', '528'), ('Need Score', '14'), ('Latitude', '40.652067'), ('Longitude', '-74.007382')])\n",
      "OrderedDict([('', '194'), ('Location Name', 'Riverdale Avenue Middle School'), ('City', 'BROOKLYN'), ('DOE Need (with Truancy)', '0.531'), ('Crime', '0.451'), ('Obesity', '29.3'), ('6-8 attendance', '49'), ('Need Score', '37'), ('Latitude', '40.659972'), ('Longitude', '-73.913534')])\n",
      "OrderedDict([('', '195'), ('Location Name', 'Kingsborough Early College School'), ('City', 'BROOKLYN'), ('DOE Need (with Truancy)', '0.525'), ('Crime', '0.045'), ('Obesity', '24.0'), ('6-8 attendance', '221'), ('Need Score', '16'), ('Latitude', '40.593573'), ('Longitude', '-73.985987')])\n",
      "OrderedDict([('', '196'), ('Location Name', 'Academy of Arts and l etters'), ('City', 'BROOKLYN'), ('DOE Need (with Truancy)', '0.524'), ('Crime', '0.16'), ('Obesity', '18.1'), ('6-8 attendance', '284'), ('Need Score', '18'), ('Latitude', '40.69133'), ('Longitude', '-73.97128')])\n",
      "OrderedDict([('', '197'), ('Location Name', 'Ella Baker School'), ('City', 'MANHATTAN'), ('DOE Need (with Truancy)', '0.519'), ('Crime', '0.0'), ('Obesity', '37.8'), ('6-8 attendance', '74'), ('Need Score', '24'), ('Latitude', '40.765368'), ('Longitude', '-73.959696')])\n",
      "OrderedDict([('', '198'), ('Location Name', 'P.S. 207 Rockwood Park'), ('City', 'QUEENS'), ('DOE Need (with Truancy)', '0.518'), ('Crime', '0.0'), ('Obesity', '23.5'), ('6-8 attendance', '215'), ('Need Score', '15'), ('Latitude', '40.658127'), ('Longitude', '-73.84416')])\n",
      "OrderedDict([('', '199'), ('Location Name', 'Spring Creek Community School'), ('City', 'BROOKLYN'), ('DOE Need (with Truancy)', '0.511'), ('Crime', '0.203'), ('Obesity', '26.4'), ('6-8 attendance', '176'), ('Need Score', '25'), ('Latitude', '40.6573'), ('Longitude', '-73.874138')])\n",
      "OrderedDict([('', '200'), ('Location Name', 'Van Siclen Community Middle School'), ('City', 'BROOKLYN'), ('DOE Need (with Truancy)', '0.508'), ('Crime', '0.218'), ('Obesity', '26.4'), ('6-8 attendance', '118'), ('Need Score', '25'), ('Latitude', '40.659877'), ('Longitude', '-73.885445')])\n",
      "OrderedDict([('', '201'), ('Location Name', 'P.S. / M.S. 114 Belle Harbor'), ('City', 'QUEENS'), ('DOE Need (with Truancy)', '0.508'), ('Crime', '0.0'), ('Obesity', '29.6'), ('6-8 attendance', '116'), ('Need Score', '19'), ('Latitude', '40.578277'), ('Longitude', '-73.854294')])\n",
      "OrderedDict([('', '202'), ('Location Name', 'Collaborative Arts Middle School'), ('City', 'QUEENS'), ('DOE Need (with Truancy)', '0.508'), ('Crime', '0.146'), ('Obesity', '22.2'), ('6-8 attendance', '465'), ('Need Score', '19'), ('Latitude', '40.664858'), ('Longitude', '-73.759088')])\n",
      "OrderedDict([('', '203'), ('Location Name', \"The Queen's College School for Math, Science and Technology\"), ('City', 'QUEENS'), ('DOE Need (with Truancy)', '0.493'), ('Crime', '0.105'), ('Obesity', '13.3'), ('6-8 attendance', '180'), ('Need Score', '13'), ('Latitude', '40.736978'), ('Longitude', '-73.821514')])\n",
      "OrderedDict([('', '204'), ('Location Name', 'I.S. 072 Rocco Laurie'), ('City', 'STATEN ISLAND'), ('DOE Need (with Truancy)', '0.492'), ('Crime', '0.0'), ('Obesity', '29.1'), ('6-8 attendance', '1251'), ('Need Score', '19'), ('Latitude', '40.59247'), ('Longitude', '-74.158532')])\n",
      "OrderedDict([('', '205'), ('Location Name', 'Eagle Academy for Young Men'), ('City', 'BRONX'), ('DOE Need (with Truancy)', '0.49'), ('Crime', '0.301'), ('Obesity', '34.3'), ('6-8 attendance', '257'), ('Need Score', '34'), ('Latitude', '40.845289'), ('Longitude', '-73.897216')])\n",
      "OrderedDict([('', '206'), ('Location Name', 'Preparatory Academy for Writers: A College Board School'), ('City', 'QUEENS'), ('DOE Need (with Truancy)', '0.483'), ('Crime', '0.146'), ('Obesity', '22.2'), ('6-8 attendance', '178'), ('Need Score', '19'), ('Latitude', '40.667969'), ('Longitude', '-73.758056')])\n",
      "OrderedDict([('', '207'), ('Location Name', 'Bronx Park Middle School'), ('City', 'BRONX'), ('DOE Need (with Truancy)', '0.483'), ('Crime', '0.192'), ('Obesity', '25.7'), ('6-8 attendance', '259'), ('Need Score', '23'), ('Latitude', '40.86206'), ('Longitude', '-73.864588')])\n",
      "OrderedDict([('', '208'), ('Location Name', 'Hawtree Creek Middle School'), ('City', 'QUEENS'), ('DOE Need (with Truancy)', '0.478'), ('Crime', '0.0'), ('Obesity', '23.5'), ('6-8 attendance', '90'), ('Need Score', '14'), ('Latitude', '40.675441'), ('Longitude', '-73.816851')])\n",
      "OrderedDict([('', '209'), ('Location Name', 'Pelham Gardens Middle School'), ('City', 'BRONX'), ('DOE Need (with Truancy)', '0.477'), ('Crime', '0.068'), ('Obesity', '29.9'), ('6-8 attendance', '300'), ('Need Score', '20'), ('Latitude', '40.863836'), ('Longitude', '-73.836531')])\n",
      "OrderedDict([('', '210'), ('Location Name', 'Mott Hall III'), ('City', 'BRONX'), ('DOE Need (with Truancy)', '0.477'), ('Crime', '0.271'), ('Obesity', '34.3'), ('6-8 attendance', '363'), ('Need Score', '32'), ('Latitude', '40.834973'), ('Longitude', '-73.900304')])\n",
      "OrderedDict([('', '211'), ('Location Name', 'Vista Academy'), ('City', 'BROOKLYN'), ('DOE Need (with Truancy)', '0.474'), ('Crime', '0.203'), ('Obesity', '26.4'), ('6-8 attendance', '114'), ('Need Score', '24'), ('Latitude', '40.676815'), ('Longitude', '-73.883823')])\n",
      "OrderedDict([('', '212'), ('Location Name', 'The Michael J. Petrides School'), ('City', 'STATEN ISLAND'), ('DOE Need (with Truancy)', '0.47'), ('Crime', '0.216'), ('Obesity', '29.2'), ('6-8 attendance', '292'), ('Need Score', '26'), ('Latitude', '40.608303'), ('Longitude', '-74.105904')])\n",
      "OrderedDict([('', '213'), ('Location Name', 'Eagle Academy for Young Men III'), ('City', 'QUEENS'), ('DOE Need (with Truancy)', '0.468'), ('Crime', '0.339'), ('Obesity', '23.6'), ('6-8 attendance', '265'), ('Need Score', '27'), ('Latitude', '40.691665'), ('Longitude', '-73.778988')])\n",
      "OrderedDict([('', '214'), ('Location Name', 'Brooklyn Environmental Exploration School (BEES)'), ('City', 'BROOKLYN'), ('DOE Need (with Truancy)', '0.462'), ('Crime', '0.184'), ('Obesity', '29.3'), ('6-8 attendance', '52'), ('Need Score', '25'), ('Latitude', '40.680294'), ('Longitude', '-73.910885')])\n",
      "OrderedDict([('', '215'), ('Location Name', 'P.S. 047 Chris Galas'), ('City', 'QUEENS'), ('DOE Need (with Truancy)', '0.461'), ('Crime', '0.0'), ('Obesity', '29.6'), ('6-8 attendance', '54'), ('Need Score', '18'), ('Latitude', '40.606725'), ('Longitude', '-73.820179')])\n",
      "OrderedDict([('', '216'), ('Location Name', \"M.S. 137 America's School of Heroes\"), ('City', 'QUEENS'), ('DOE Need (with Truancy)', '0.448'), ('Crime', '0.0'), ('Obesity', '23.5'), ('6-8 attendance', '1917'), ('Need Score', '14'), ('Latitude', '40.678107'), ('Longitude', '-73.83939')])\n",
      "OrderedDict([('', '217'), ('Location Name', 'Madiba Prep Middle School'), ('City', 'BROOKLYN'), ('DOE Need (with Truancy)', '0.442'), ('Crime', '0.134'), ('Obesity', '25.5'), ('6-8 attendance', '163'), ('Need Score', '20'), ('Latitude', '40.691976'), ('Longitude', '-73.931488')])\n",
      "OrderedDict([('', '218'), ('Location Name', 'BELL Academy'), ('City', 'QUEENS'), ('DOE Need (with Truancy)', '0.441'), ('Crime', '0.0'), ('Obesity', '10.5'), ('6-8 attendance', '367'), ('Need Score', '6'), ('Latitude', '40.782346'), ('Longitude', '-73.77844')])\n",
      "OrderedDict([('', '219'), ('Location Name', 'Liberty Avenue Middle School'), ('City', 'BROOKLYN'), ('DOE Need (with Truancy)', '0.435'), ('Crime', '0.203'), ('Obesity', '26.4'), ('6-8 attendance', '138'), ('Need Score', '24'), ('Latitude', '40.676815'), ('Longitude', '-73.883823')])\n",
      "OrderedDict([('', '220'), ('Location Name', 'J.H.S. 278 Marine Park'), ('City', 'BROOKLYN'), ('DOE Need (with Truancy)', '0.435'), ('Crime', '0.047'), ('Obesity', '32.0'), ('6-8 attendance', '1072'), ('Need Score', '20'), ('Latitude', '40.606625'), ('Longitude', '-73.938758')])\n",
      "OrderedDict([('', '221'), ('Location Name', 'M.S. 180 Daniel Hale Williams'), ('City', 'BRONX'), ('DOE Need (with Truancy)', '0.422'), ('Crime', '0.0'), ('Obesity', '29.9'), ('6-8 attendance', '864'), ('Need Score', '18'), ('Latitude', '40.873204'), ('Longitude', '-73.832178')])\n",
      "OrderedDict([('', '222'), ('Location Name', 'Tag Young Scholars'), ('City', 'MANHATTAN'), ('DOE Need (with Truancy)', '0.422'), ('Crime', '0.233'), ('Obesity', '37.8'), ('6-8 attendance', '159'), ('Need Score', '32'), ('Latitude', '40.792486'), ('Longitude', '-73.941725')])\n",
      "OrderedDict([('', '223'), ('Location Name', 'Metropolitan Expeditionary Learning School'), ('City', 'QUEENS'), ('DOE Need (with Truancy)', '0.413'), ('Crime', '0.0'), ('Obesity', '13.6'), ('6-8 attendance', '368'), ('Need Score', '8'), ('Latitude', '40.708848'), ('Longitude', '-73.855822')])\n",
      "OrderedDict([('', '224'), ('Location Name', 'P.S. 333 Manhattan School for Children'), ('City', 'MANHATTAN'), ('DOE Need (with Truancy)', '0.396'), ('Crime', '0.058'), ('Obesity', '12.0'), ('6-8 attendance', '184'), ('Need Score', '9'), ('Latitude', '40.791685'), ('Longitude', '-73.97077')])\n",
      "OrderedDict([('', '225'), ('Location Name', 'J.H.S. 201 The Dyker Heights'), ('City', 'BROOKLYN'), ('DOE Need (with Truancy)', '0.393'), ('Crime', '0.0'), ('Obesity', '24.0'), ('6-8 attendance', '1437'), ('Need Score', '14'), ('Latitude', '40.618651'), ('Longitude', '-74.013256')])\n",
      "OrderedDict([('', '226'), ('Location Name', 'The Highbridge Green School'), ('City', 'BRONX'), ('DOE Need (with Truancy)', '0.392'), ('Crime', '0.107'), ('Obesity', '34.3'), ('6-8 attendance', '143'), ('Need Score', '25'), ('Latitude', '40.838209'), ('Longitude', '-73.928034')])\n",
      "OrderedDict([('', '227'), ('Location Name', 'I.S. 034 Tottenville'), ('City', 'STATEN ISLAND'), ('DOE Need (with Truancy)', '0.387'), ('Crime', '0.0'), ('Obesity', '29.1'), ('6-8 attendance', '1159'), ('Need Score', '18'), ('Latitude', '40.508026'), ('Longitude', '-74.243372')])\n",
      "OrderedDict([('', '228'), ('Location Name', 'Frederick Douglass Academy VIII Middle School'), ('City', 'BROOKLYN'), ('DOE Need (with Truancy)', '0.381'), ('Crime', '0.0'), ('Obesity', '41.9'), ('6-8 attendance', '294'), ('Need Score', '25'), ('Latitude', '40.646839'), ('Longitude', '-73.881661')])\n",
      "OrderedDict([('', '229'), ('Location Name', 'New Voices School of Academic & Creative Arts'), ('City', 'BROOKLYN'), ('DOE Need (with Truancy)', '0.371'), ('Crime', '0.053'), ('Obesity', '18.1'), ('6-8 attendance', '531'), ('Need Score', '13'), ('Latitude', '40.660989'), ('Longitude', '-73.989026')])\n",
      "OrderedDict([('', '230'), ('Location Name', 'Corona Arts and Sciences Academy'), ('City', 'QUEENS'), ('DOE Need (with Truancy)', '0.37'), ('Crime', '0.0'), ('Obesity', '22.6'), ('6-8 attendance', '100'), ('Need Score', '14'), ('Latitude', '40.743204'), ('Longitude', '-73.871482')])\n",
      "OrderedDict([('', '231'), ('Location Name', 'J.H.S. 104 Simon Baruch'), ('City', 'MANHATTAN'), ('DOE Need (with Truancy)', '0.369'), ('Crime', '0.0'), ('Obesity', '9.7'), ('6-8 attendance', '1033'), ('Need Score', '6'), ('Latitude', '40.735896'), ('Longitude', '-73.980424')])\n",
      "OrderedDict([('', '232'), ('Location Name', 'Marsh Avenue School for Expeditionary Learning'), ('City', 'STATEN ISLAND'), ('DOE Need (with Truancy)', '0.367'), ('Crime', '0.0'), ('Obesity', '29.1'), ('6-8 attendance', '444'), ('Need Score', '17'), ('Latitude', '40.581969'), ('Longitude', '-74.15936')])\n",
      "OrderedDict([('', '233'), ('Location Name', 'I.S. 075 Frank D. Paulo'), ('City', 'STATEN ISLAND'), ('DOE Need (with Truancy)', '0.364'), ('Crime', '0.0'), ('Obesity', '29.1'), ('6-8 attendance', '1352'), ('Need Score', '17'), ('Latitude', '40.544387'), ('Longitude', '-74.197192')])\n",
      "OrderedDict([('', '234'), ('Location Name', 'I.S. 227 Louis Armstrong'), ('City', 'QUEENS'), ('DOE Need (with Truancy)', '0.355'), ('Crime', '0.088'), ('Obesity', '22.6'), ('6-8 attendance', '1522'), ('Need Score', '16'), ('Latitude', '40.757566'), ('Longitude', '-73.874573')])\n",
      "OrderedDict([('', '235'), ('Location Name', 'East New York Family Academy'), ('City', 'BROOKLYN'), ('DOE Need (with Truancy)', '0.35'), ('Crime', '0.218'), ('Obesity', '26.4'), ('6-8 attendance', '183'), ('Need Score', '23'), ('Latitude', '40.661095'), ('Longitude', '-73.886661')])\n",
      "OrderedDict([('', '236'), ('Location Name', 'I.S. 025 Adrien Block'), ('City', 'QUEENS'), ('DOE Need (with Truancy)', '0.347'), ('Crime', '0.0'), ('Obesity', '10.5'), ('6-8 attendance', '780'), ('Need Score', '5'), ('Latitude', '40.764834'), ('Longitude', '-73.789712')])\n",
      "OrderedDict([('', '237'), ('Location Name', \"Young Women's Leadership School of the Bronx\"), ('City', 'BRONX'), ('DOE Need (with Truancy)', '0.342'), ('Crime', '0.119'), ('Obesity', '34.3'), ('6-8 attendance', '184'), ('Need Score', '24'), ('Latitude', '40.848553'), ('Longitude', '-73.908435')])\n",
      "OrderedDict([('', '238'), ('Location Name', 'East-West School of International Studies'), ('City', 'QUEENS'), ('DOE Need (with Truancy)', '0.338'), ('Crime', '0.0'), ('Obesity', '10.5'), ('6-8 attendance', '272'), ('Need Score', '5'), ('Latitude', '40.74943'), ('Longitude', '-73.82141')])\n",
      "OrderedDict([('', '239'), ('Location Name', 'I.S. 024 Myra S. Barnes'), ('City', 'STATEN ISLAND'), ('DOE Need (with Truancy)', '0.33'), ('Crime', '0.0'), ('Obesity', '29.1'), ('6-8 attendance', '1404'), ('Need Score', '17'), ('Latitude', '40.545793'), ('Longitude', '-74.145561')])\n",
      "OrderedDict([('', '240'), ('Location Name', 'J.H.S. 167 Robert F. Wagner'), ('City', 'MANHATTAN'), ('DOE Need (with Truancy)', '0.323'), ('Crime', '0.0'), ('Obesity', '9.7'), ('6-8 attendance', '1343'), ('Need Score', '5'), ('Latitude', '40.771827'), ('Longitude', '-73.95794')])\n",
      "OrderedDict([('', '241'), ('Location Name', 'Jonas Bronck Academy'), ('City', 'BRONX'), ('DOE Need (with Truancy)', '0.322'), ('Crime', '0.208'), ('Obesity', '25.7'), ('6-8 attendance', '258'), ('Need Score', '22'), ('Latitude', '40.860918'), ('Longitude', '-73.891803')])\n",
      "OrderedDict([('', '242'), ('Location Name', 'P.S. 128 The Lorraine Tuzzo, Juniper Valley Elementary School'), ('City', 'QUEENS'), ('DOE Need (with Truancy)', '0.308'), ('Crime', '0.0'), ('Obesity', '13.6'), ('6-8 attendance', '281'), ('Need Score', '7'), ('Latitude', '40.715007'), ('Longitude', '-73.886262')])\n",
      "OrderedDict([('', '243'), ('Location Name', 'M.S. 260 Clinton School Writers & Artists'), ('City', 'MANHATTAN'), ('DOE Need (with Truancy)', '0.301'), ('Crime', '0.0'), ('Obesity', '10.6'), ('6-8 attendance', '266'), ('Need Score', '5'), ('Latitude', '40.75334'), ('Longitude', '-73.997893')])\n",
      "OrderedDict([('', '244'), ('Location Name', 'Queens School of Inquiry, The'), ('City', 'QUEENS'), ('DOE Need (with Truancy)', '0.292'), ('Crime', '0.0'), ('Obesity', '13.3'), ('6-8 attendance', '284'), ('Need Score', '7'), ('Latitude', '40.724191'), ('Longitude', '-73.80937')])\n",
      "OrderedDict([('', '245'), ('Location Name', 'School of the Future High School'), ('City', 'MANHATTAN'), ('DOE Need (with Truancy)', '0.288'), ('Crime', '0.0'), ('Obesity', '9.7'), ('6-8 attendance', '312'), ('Need Score', '5'), ('Latitude', '40.739087'), ('Longitude', '-73.985366')])\n",
      "OrderedDict([('', '246'), ('Location Name', 'Channel View School for Research'), ('City', 'QUEENS'), ('DOE Need (with Truancy)', '0.285'), ('Crime', '0.0'), ('Obesity', '29.6'), ('6-8 attendance', '239'), ('Need Score', '17'), ('Latitude', '40.586328'), ('Longitude', '-73.823486')])\n",
      "OrderedDict([('', '247'), ('Location Name', 'IMott Hall I'), ('City', 'MANHATTAN'), ('DOE Need (with Truancy)', '0.275'), ('Crime', '0.058'), ('Obesity', '12.0'), ('6-8 attendance', '345'), ('Need Score', '8'), ('Latitude', '40.80288'), ('Longitude', '-73.966135')])\n",
      "OrderedDict([('', '248'), ('Location Name', 'York Early College Academy'), ('City', 'QUEENS'), ('DOE Need (with Truancy)', '0.269'), ('Crime', '0.29'), ('Obesity', '23.6'), ('6-8 attendance', '275'), ('Need Score', '24'), ('Latitude', '40.696913'), ('Longitude', '-73.786396')])\n",
      "OrderedDict([('', '249'), ('Location Name', 'Quest to Learn'), ('City', 'MANHATTAN'), ('DOE Need (with Truancy)', '0.263'), ('Crime', '0.0'), ('Obesity', '10.6'), ('6-8 attendance', '297'), ('Need Score', '5'), ('Latitude', '40.743248'), ('Longitude', '-74.002695')])\n",
      "OrderedDict([('', '250'), ('Location Name', 'World Journalism Preparatory: A College Board School'), ('City', 'QUEENS'), ('DOE Need (with Truancy)', '0.263'), ('Crime', '0.0'), ('Obesity', '10.5'), ('6-8 attendance', '240'), ('Need Score', '5'), ('Latitude', '40.764834'), ('Longitude', '-73.789712')])\n",
      "OrderedDict([('', '251'), ('Location Name', \"Young Women's Leadership School, Queens\"), ('City', 'QUEENS'), ('DOE Need (with Truancy)', '0.254'), ('Crime', '0.048'), ('Obesity', '23.6'), ('6-8 attendance', '232'), ('Need Score', '14'), ('Latitude', '40.708383'), ('Longitude', '-73.804153')])\n",
      "OrderedDict([('', '252'), ('Location Name', \"Young Women's Leadership School\"), ('City', 'MANHATTAN'), ('DOE Need (with Truancy)', '0.25'), ('Crime', '0.233'), ('Obesity', '37.8'), ('6-8 attendance', '164'), ('Need Score', '30'), ('Latitude', '40.792935'), ('Longitude', '-73.947168')])\n",
      "OrderedDict([('', '253'), ('Location Name', 'The Mott Hall School'), ('City', 'MANHATTAN'), ('DOE Need (with Truancy)', '0.247'), ('Crime', '0.345'), ('Obesity', '27.3'), ('6-8 attendance', '283'), ('Need Score', '28'), ('Latitude', '40.815819'), ('Longitude', '-73.952675')])\n",
      "OrderedDict([('', '254'), ('Location Name', 'New Explorations into Science, Technology and Math HS'), ('City', 'MANHATTAN'), ('DOE Need (with Truancy)', '0.242'), ('Crime', '0.151'), ('Obesity', '12.1'), ('6-8 attendance', '428'), ('Need Score', '11'), ('Latitude', '40.7195'), ('Longitude', '-73.979239')])\n",
      "OrderedDict([('', '255'), ('Location Name', 'M.S. 51 William Alexander'), ('City', 'BROOKLYN'), ('DOE Need (with Truancy)', '0.242'), ('Crime', '0.053'), ('Obesity', '18.1'), ('6-8 attendance', '1116'), ('Need Score', '11'), ('Latitude', '40.67221'), ('Longitude', '-73.984577')])\n",
      "OrderedDict([('', '256'), ('Location Name', 'M.S. M245 The Computer School'), ('City', 'MANHATTAN'), ('DOE Need (with Truancy)', '0.226'), ('Crime', '0.0'), ('Obesity', '12.0'), ('6-8 attendance', '411'), ('Need Score', '5'), ('Latitude', '40.781081'), ('Longitude', '-73.978085')])\n",
      "OrderedDict([('', '257'), ('Location Name', 'BATTERY PARK CITY SCHOOL'), ('City', 'MANHATTAN'), ('DOE Need (with Truancy)', '0.216'), ('Crime', '0.0'), ('Obesity', '10.6'), ('6-8 attendance', '250'), ('Need Score', '4'), ('Latitude', '40.706563'), ('Longitude', '-74.017528')])\n",
      "OrderedDict([('', '258'), ('Location Name', 'East Side Middle School'), ('City', 'MANHATTAN'), ('DOE Need (with Truancy)', '0.205'), ('Crime', '0.0'), ('Obesity', '9.7'), ('6-8 attendance', '443'), ('Need Score', '4'), ('Latitude', '40.780403'), ('Longitude', '-73.947577')])\n",
      "OrderedDict([('', '259'), ('Location Name', 'Brooklyn College Academy'), ('City', 'BROOKLYN'), ('DOE Need (with Truancy)', '0.194'), ('Crime', '0.0'), ('Obesity', '30.0'), ('6-8 attendance', '31'), ('Need Score', '16'), ('Latitude', '40.649202'), ('Longitude', '-73.971896')])\n",
      "OrderedDict([('', '260'), ('Location Name', 'Academy for Young Writers'), ('City', 'BROOKLYN'), ('DOE Need (with Truancy)', '0.19'), ('Crime', '0.203'), ('Obesity', '26.4'), ('6-8 attendance', '79'), ('Need Score', '22'), ('Latitude', '40.6573'), ('Longitude', '-73.874138')])\n",
      "OrderedDict([('', '261'), ('Location Name', 'M.S. 255 Salk School of Science'), ('City', 'MANHATTAN'), ('DOE Need (with Truancy)', '0.188'), ('Crime', '0.282'), ('Obesity', '12.1'), ('6-8 attendance', '378'), ('Need Score', '16'), ('Latitude', '40.735118'), ('Longitude', '-73.981697')])\n",
      "OrderedDict([('', '262'), ('Location Name', 'The Math & Science Exploratory School'), ('City', 'BROOKLYN'), ('DOE Need (with Truancy)', '0.187'), ('Crime', '0.0'), ('Obesity', '18.1'), ('6-8 attendance', '514'), ('Need Score', '9'), ('Latitude', '40.683835'), ('Longitude', '-73.980355')])\n",
      "OrderedDict([('', '263'), ('Location Name', 'H.S. 383 Philippa Schuyler'), ('City', 'BROOKLYN'), ('DOE Need (with Truancy)', '0.176'), ('Crime', '0.073'), ('Obesity', '25.5'), ('6-8 attendance', '833'), ('Need Score', '15'), ('Latitude', '40.697638'), ('Longitude', '-73.919534')])\n",
      "OrderedDict([('', '264'), ('Location Name', 'Queens Gateway to Health Sciences'), ('City', 'QUEENS'), ('DOE Need (with Truancy)', '0.175'), ('Crime', '0.048'), ('Obesity', '23.6'), ('6-8 attendance', '308'), ('Need Score', '13'), ('Latitude', '40.71855'), ('Longitude', '-73.805991')])\n",
      "OrderedDict([('', '265'), ('Location Name', 'Ballet Tech, NYC Public School for Dance'), ('City', 'MANHATTAN'), ('DOE Need (with Truancy)', '0.174'), ('Crime', '0.282'), ('Obesity', '12.1'), ('6-8 attendance', '69'), ('Need Score', '16'), ('Latitude', '40.771104'), ('Longitude', '-73.982031')])\n",
      "OrderedDict([('', '266'), ('Location Name', 'New York City Lab Middle School for Collaborative Studies'), ('City', 'MANHATTAN'), ('DOE Need (with Truancy)', '0.161'), ('Crime', '0.0'), ('Obesity', '10.6'), ('6-8 attendance', '573'), ('Need Score', '4'), ('Latitude', '40.742575'), ('Longitude', '-74.002336')])\n",
      "OrderedDict([('', '267'), ('Location Name', 'I.S. 340'), ('City', 'BROOKLYN'), ('DOE Need (with Truancy)', '0.154'), ('Crime', '0.0'), ('Obesity', '29.3'), ('6-8 attendance', '208'), ('Need Score', '16'), ('Latitude', '40.676104'), ('Longitude', '-73.969848')])\n",
      "OrderedDict([('', '268'), ('Location Name', 'Special Music School'), ('City', 'MANHATTAN'), ('DOE Need (with Truancy)', '0.138'), ('Crime', '0.0'), ('Obesity', '12.0'), ('6-8 attendance', '50'), ('Need Score', '5'), ('Latitude', '40.775237'), ('Longitude', '-73.983092')])\n",
      "OrderedDict([('', '269'), ('Location Name', 'J.H.S. 067 Louis Pasteur'), ('City', 'QUEENS'), ('DOE Need (with Truancy)', '0.129'), ('Crime', '0.0'), ('Obesity', '13.3'), ('6-8 attendance', '881'), ('Need Score', '5'), ('Latitude', '40.762437'), ('Longitude', '-73.734426')])\n",
      "OrderedDict([('', '270'), ('Location Name', 'Science Technology and Research Early College High School at Erasmus'), ('City', 'BROOKLYN'), ('DOE Need (with Truancy)', '0.126'), ('Crime', '0.145'), ('Obesity', '28.2'), ('6-8 attendance', '198'), ('Need Score', '19'), ('Latitude', '40.6495'), ('Longitude', '-73.958162')])\n",
      "OrderedDict([('', '271'), ('Location Name', 'The Christa McAuliffe School\\\\I.S. 187'), ('City', 'BROOKLYN'), ('DOE Need (with Truancy)', '0.112'), ('Crime', '0.0'), ('Obesity', '30.0'), ('6-8 attendance', '969'), ('Need Score', '15'), ('Latitude', '40.627854'), ('Longitude', '-74.004027')])\n",
      "OrderedDict([('', '272'), ('Location Name', 'The Anderson School'), ('City', 'MANHATTAN'), ('DOE Need (with Truancy)', '0.097'), ('Crime', '0.0'), ('Obesity', '12.0'), ('6-8 attendance', '192'), ('Need Score', '4'), ('Latitude', '40.781081'), ('Longitude', '-73.978085')])\n",
      "OrderedDict([('', '273'), ('Location Name', 'Professional Performing Arts High School'), ('City', 'MANHATTAN'), ('DOE Need (with Truancy)', '0.084'), ('Crime', '0.0'), ('Obesity', '10.6'), ('6-8 attendance', '95'), ('Need Score', '3'), ('Latitude', '40.761535'), ('Longitude', '-73.988655')])\n",
      "OrderedDict([('', '274'), ('Location Name', 'Institute for Collaborative Education'), ('City', 'MANHATTAN'), ('DOE Need (with Truancy)', '0.065'), ('Crime', '0.282'), ('Obesity', '12.1'), ('6-8 attendance', '201'), ('Need Score', '15'), ('Latitude', '40.732541'), ('Longitude', '-73.982842')])\n",
      "OrderedDict([('', '275'), ('Location Name', 'Medgar Evers College Preparatory School'), ('City', 'BROOKLYN'), ('DOE Need (with Truancy)', '0.062'), ('Crime', '0.146'), ('Obesity', '28.2'), ('6-8 attendance', '275'), ('Need Score', '19'), ('Latitude', '40.667'), ('Longitude', '-73.951014')])\n",
      "OrderedDict([('', '276'), ('Location Name', 'Robert F. Wagner, Jr. Secondary School for Arts and Technology'), ('City', 'QUEENS'), ('DOE Need (with Truancy)', '0.045'), ('Crime', '0.186'), ('Obesity', '16.4'), ('6-8 attendance', '110'), ('Need Score', '14'), ('Latitude', '40.738477'), ('Longitude', '-73.937668')])\n",
      "OrderedDict([('', '277'), ('Location Name', \"Scholars' Academy\"), ('City', 'QUEENS'), ('DOE Need (with Truancy)', '0.038'), ('Crime', '0.0'), ('Obesity', '29.6'), ('6-8 attendance', '798'), ('Need Score', '15'), ('Latitude', '40.584257'), ('Longitude', '-73.825402')])\n",
      "OrderedDict([('', '278'), ('Location Name', 'M.S. 243 Center School'), ('City', 'MANHATTAN'), ('DOE Need (with Truancy)', '0.03'), ('Crime', '0.0'), ('Obesity', '12.0'), ('6-8 attendance', '166'), ('Need Score', '4'), ('Latitude', '40.785001'), ('Longitude', '-73.973752')])\n",
      "OrderedDict([('', '279'), ('Location Name', 'Baccalaureate School for Global Education'), ('City', 'QUEENS'), ('DOE Need (with Truancy)', '0.021'), ('Crime', '0.0'), ('Obesity', '16.4'), ('6-8 attendance', '192'), ('Need Score', '7'), ('Latitude', '40.755009'), ('Longitude', '-73.926879')])\n"
     ]
    }
   ],
   "source": [
    "#read csv file\n",
    "\n",
    "import csv\n",
    "\n",
    "with open('tute_team/SONYC_Dataset.csv') as fh:\n",
    "    reader = csv.DictReader( fh, delimiter=',')\n",
    "    for line in reader:\n",
    "        print(line)\n",
    "\n"
   ]
  },
  {
   "cell_type": "code",
   "execution_count": 117,
   "metadata": {
    "slideshow": {
     "slide_type": "slide"
    }
   },
   "outputs": [
    {
     "data": {
      "text/plain": [
       "[OrderedDict([('', '0'),\n",
       "              ('Location Name', 'P.S. 073 Thomas S. Boyland'),\n",
       "              ('City', 'BROOKLYN'),\n",
       "              ('DOE Need (with Truancy)', '2.328'),\n",
       "              ('Crime', '0.184'),\n",
       "              ('Obesity', '29.3'),\n",
       "              ('6-8 attendance', '70'),\n",
       "              ('Need Score', '41'),\n",
       "              ('Latitude', '40.680294'),\n",
       "              ('Longitude', '-73.910885')]),\n",
       " OrderedDict([('', '1'),\n",
       "              ('Location Name', 'P.S. 29S Dr. Betty Shabazz'),\n",
       "              ('City', 'BROOKLYN'),\n",
       "              ('DOE Need (with Truancy)', '2.276'),\n",
       "              ('Crime', '0.451'),\n",
       "              ('Obesity', '29.3'),\n",
       "              ('6-8 attendance', '36'),\n",
       "              ('Need Score', '52'),\n",
       "              ('Latitude', '40.670971'),\n",
       "              ('Longitude', '-73.907687')]),\n",
       " OrderedDict([('', '2'),\n",
       "              ('Location Name', 'P S/ I S 328 Phillis Wheatley'),\n",
       "              ('City', 'BROOKLYN'),\n",
       "              ('DOE Need (with Truancy)', '2.116'),\n",
       "              ('Crime', '0.218'),\n",
       "              ('Obesity', '26.4'),\n",
       "              ('6-8 attendance', '52'),\n",
       "              ('Need Score', '39'),\n",
       "              ('Latitude', '40.667791'),\n",
       "              ('Longitude', '-73.898252')])]"
      ]
     },
     "execution_count": 117,
     "metadata": {},
     "output_type": "execute_result"
    }
   ],
   "source": [
    "input_file = list( csv.DictReader(open('tute_team/SONYC_Dataset.csv')))\n",
    "input_file[:3]"
   ]
  },
  {
   "cell_type": "code",
   "execution_count": 120,
   "metadata": {
    "slideshow": {
     "slide_type": "slide"
    }
   },
   "outputs": [
    {
     "data": {
      "text/html": [
       "<div>\n",
       "<style scoped>\n",
       "    .dataframe tbody tr th:only-of-type {\n",
       "        vertical-align: middle;\n",
       "    }\n",
       "\n",
       "    .dataframe tbody tr th {\n",
       "        vertical-align: top;\n",
       "    }\n",
       "\n",
       "    .dataframe thead th {\n",
       "        text-align: right;\n",
       "    }\n",
       "</style>\n",
       "<table border=\"1\" class=\"dataframe\">\n",
       "  <thead>\n",
       "    <tr style=\"text-align: right;\">\n",
       "      <th></th>\n",
       "      <th>Unnamed: 0</th>\n",
       "      <th>Location Name</th>\n",
       "      <th>City</th>\n",
       "      <th>DOE Need (with Truancy)</th>\n",
       "      <th>Crime</th>\n",
       "      <th>Obesity</th>\n",
       "      <th>6-8 attendance</th>\n",
       "      <th>Need Score</th>\n",
       "      <th>Latitude</th>\n",
       "      <th>Longitude</th>\n",
       "    </tr>\n",
       "  </thead>\n",
       "  <tbody>\n",
       "    <tr>\n",
       "      <th>0</th>\n",
       "      <td>0</td>\n",
       "      <td>P.S. 073 Thomas S. Boyland</td>\n",
       "      <td>BROOKLYN</td>\n",
       "      <td>2.328</td>\n",
       "      <td>0.184</td>\n",
       "      <td>29.3</td>\n",
       "      <td>70</td>\n",
       "      <td>41</td>\n",
       "      <td>40.680294</td>\n",
       "      <td>-73.910885</td>\n",
       "    </tr>\n",
       "    <tr>\n",
       "      <th>1</th>\n",
       "      <td>1</td>\n",
       "      <td>P.S. 29S Dr. Betty Shabazz</td>\n",
       "      <td>BROOKLYN</td>\n",
       "      <td>2.276</td>\n",
       "      <td>0.451</td>\n",
       "      <td>29.3</td>\n",
       "      <td>36</td>\n",
       "      <td>52</td>\n",
       "      <td>40.670971</td>\n",
       "      <td>-73.907687</td>\n",
       "    </tr>\n",
       "    <tr>\n",
       "      <th>2</th>\n",
       "      <td>2</td>\n",
       "      <td>P S/ I S 328 Phillis Wheatley</td>\n",
       "      <td>BROOKLYN</td>\n",
       "      <td>2.116</td>\n",
       "      <td>0.218</td>\n",
       "      <td>26.4</td>\n",
       "      <td>52</td>\n",
       "      <td>39</td>\n",
       "      <td>40.667791</td>\n",
       "      <td>-73.898252</td>\n",
       "    </tr>\n",
       "    <tr>\n",
       "      <th>3</th>\n",
       "      <td>3</td>\n",
       "      <td>Frederick Douglass Academy IV Secondary School</td>\n",
       "      <td>BROOKLYN</td>\n",
       "      <td>1.690</td>\n",
       "      <td>0.134</td>\n",
       "      <td>25.5</td>\n",
       "      <td>29</td>\n",
       "      <td>31</td>\n",
       "      <td>40.691976</td>\n",
       "      <td>-73.931488</td>\n",
       "    </tr>\n",
       "    <tr>\n",
       "      <th>4</th>\n",
       "      <td>4</td>\n",
       "      <td>P.S. 096 Joseph Lanzetta</td>\n",
       "      <td>MANHATTAN</td>\n",
       "      <td>1.585</td>\n",
       "      <td>0.370</td>\n",
       "      <td>37.8</td>\n",
       "      <td>163</td>\n",
       "      <td>48</td>\n",
       "      <td>40.799987</td>\n",
       "      <td>-73.937388</td>\n",
       "    </tr>\n",
       "  </tbody>\n",
       "</table>\n",
       "</div>"
      ],
      "text/plain": [
       "   Unnamed: 0                                   Location Name       City  \\\n",
       "0           0                      P.S. 073 Thomas S. Boyland   BROOKLYN   \n",
       "1           1                      P.S. 29S Dr. Betty Shabazz   BROOKLYN   \n",
       "2           2                   P S/ I S 328 Phillis Wheatley   BROOKLYN   \n",
       "3           3  Frederick Douglass Academy IV Secondary School   BROOKLYN   \n",
       "4           4                        P.S. 096 Joseph Lanzetta  MANHATTAN   \n",
       "\n",
       "   DOE Need (with Truancy)  Crime  Obesity  6-8 attendance  Need Score  \\\n",
       "0                    2.328  0.184     29.3              70          41   \n",
       "1                    2.276  0.451     29.3              36          52   \n",
       "2                    2.116  0.218     26.4              52          39   \n",
       "3                    1.690  0.134     25.5              29          31   \n",
       "4                    1.585  0.370     37.8             163          48   \n",
       "\n",
       "    Latitude  Longitude  \n",
       "0  40.680294 -73.910885  \n",
       "1  40.670971 -73.907687  \n",
       "2  40.667791 -73.898252  \n",
       "3  40.691976 -73.931488  \n",
       "4  40.799987 -73.937388  "
      ]
     },
     "execution_count": 120,
     "metadata": {},
     "output_type": "execute_result"
    }
   ],
   "source": [
    "#Best to manipulation csv/excel usin pandas\n",
    "import pandas as pd\n",
    "\n",
    "df = pd.read_csv(\"./tute_team/SONYC_Dataset.csv\")\n",
    "df.head()"
   ]
  },
  {
   "cell_type": "code",
   "execution_count": null,
   "metadata": {},
   "outputs": [],
   "source": []
  },
  {
   "cell_type": "code",
   "execution_count": null,
   "metadata": {},
   "outputs": [],
   "source": []
  }
 ],
 "metadata": {
  "celltoolbar": "Slideshow",
  "kernelspec": {
   "display_name": "Python 3",
   "language": "python",
   "name": "python3"
  },
  "language_info": {
   "codemirror_mode": {
    "name": "ipython",
    "version": 3
   },
   "file_extension": ".py",
   "mimetype": "text/x-python",
   "name": "python",
   "nbconvert_exporter": "python",
   "pygments_lexer": "ipython3",
   "version": "3.6.5"
  }
 },
 "nbformat": 4,
 "nbformat_minor": 2
}
