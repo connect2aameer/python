{
 "cells": [
  {
   "cell_type": "code",
   "execution_count": 1,
   "metadata": {},
   "outputs": [
    {
     "name": "stdout",
     "output_type": "stream",
     "text": [
      "Total 18094164\n",
      "Wall time: 6 ms\n"
     ]
    }
   ],
   "source": [
    "%%time\n",
    "#Count num of bytes transferred in Apache lo file using for loop\n",
    "with open(\"./data/access-log.log\") as wwwlog:\n",
    "    total = 0\n",
    "    for line in wwwlog:\n",
    "        bytes_sent = line.rsplit(None,1)[1]\n",
    "        if bytes_sent != '-':\n",
    "            total += int(bytes_sent)\n",
    "    print(\"Total\", total)"
   ]
  },
  {
   "cell_type": "code",
   "execution_count": 2,
   "metadata": {},
   "outputs": [
    {
     "name": "stdout",
     "output_type": "stream",
     "text": [
      "Total: 18094164\n",
      "Wall time: 5 ms\n"
     ]
    }
   ],
   "source": [
    "%%time\n",
    "#using generators:\n",
    "with open('./data/access-log.log') as fh:\n",
    "    bytecolumn = (line.rsplit(None,1)[1] for line in fh)\n",
    "    bytes_sent = ( int(x) for x in bytecolumn if x != '-')\n",
    "    print(\"Total: %r\"%( sum(bytes_sent)))"
   ]
  },
  {
   "cell_type": "code",
   "execution_count": 3,
   "metadata": {},
   "outputs": [
    {
     "name": "stdout",
     "output_type": "stream",
     "text": [
      "data\\access-log-0108.bz2\n",
      "data\\access-log-0108.gz\n",
      "data\\access-log.log\n",
      "Wall time: 3 ms\n"
     ]
    }
   ],
   "source": [
    "%%time\n",
    "from pathlib import Path\n",
    "\n",
    "#Search file name in the given directory\n",
    "def gen_find(filepat, top):\n",
    "    yield from Path(top).rglob(filepat)\n",
    "\n",
    "# Example use\n",
    "\n",
    "lognames = gen_find(\"access*\",\".\\\\data\")\n",
    "\n",
    "for name in lognames:\n",
    "    print(name)"
   ]
  },
  {
   "cell_type": "code",
   "execution_count": 4,
   "metadata": {},
   "outputs": [
    {
     "name": "stdout",
     "output_type": "stream",
     "text": [
      "<_io.TextIOWrapper encoding='cp1252'>\n",
      "<_io.TextIOWrapper name='data\\\\access-log-0108.gz' encoding='cp1252'>\n",
      "<_io.TextIOWrapper name='data\\\\access-log.log' mode='rt' encoding='cp1252'>\n",
      "Wall time: 12 ms\n"
     ]
    }
   ],
   "source": [
    "%%time\n",
    "#open allfile's\n",
    "\n",
    "import gzip,bz2\n",
    "from pathlib import Path\n",
    "\n",
    "def gen_open(paths):\n",
    "    for path in paths:\n",
    "        if path.suffix == '.gz':\n",
    "            yield gzip.open(path, 'rt')\n",
    "        elif path.suffix == '.bz2':\n",
    "            yield bz2.open(path, 'rt')\n",
    "        else:\n",
    "            yield open(path,'rt')\n",
    "            \n",
    "            \n",
    "#main\n",
    "lognames = Path('data').rglob('access*')\n",
    "logfiles = gen_open(lognames)\n",
    "for f in logfiles:\n",
    "    print(f)\n"
   ]
  },
  {
   "cell_type": "code",
   "execution_count": 5,
   "metadata": {},
   "outputs": [
    {
     "name": "stdout",
     "output_type": "stream",
     "text": [
      "Wall time: 0 ns\n",
      "[WindowsPath('data/access-log-0108.bz2'), WindowsPath('data/access-log-0108.gz'), WindowsPath('data/access-log.log')]\n"
     ]
    }
   ],
   "source": [
    "%time\n",
    "from pathlib import Path\n",
    "#read all files\n",
    "\n",
    "def gen_cat(sources):\n",
    "    for src in sources:\n",
    "        yield from src\n",
    "        \n",
    "\n",
    "\n",
    "lognames = Path('data').rglob('access-log*')\n",
    "print(list(lognames))\n",
    "\n",
    "logfiles = gen_open(lognames)\n",
    "\n",
    "loglines = gen_cat(logfiles)\n",
    "for line in loglines:\n",
    "    #print(line,end='') #print of all lines of all files\n",
    "    pass"
   ]
  },
  {
   "cell_type": "code",
   "execution_count": 6,
   "metadata": {},
   "outputs": [
    {
     "name": "stdout",
     "output_type": "stream",
     "text": [
      "Wall time: 0 ns\n"
     ]
    }
   ],
   "source": [
    "%time\n",
    "#search a specific lines that match a pattern\n",
    "import re\n",
    "\n",
    "def gen_grep(pat,lines):\n",
    "    patc = re.compile(pat)\n",
    "    return ( line for line in lines if patc.search(line))\n",
    "\n",
    "#main\n",
    "lognames = Path(\"data\").rglob('access-log*')\n",
    "logfiles = gen_open(lognames)\n",
    "loglines = gen_cat(logfiles)\n",
    "\n",
    "#Look for ply downloads\n",
    "plylines = gen_grep(r'ply-.*\\.gz',loglines)\n",
    "for line in plylines:\n",
    "    #print(line,end='') #print matched lines\n",
    "    pass\n"
   ]
  },
  {
   "cell_type": "code",
   "execution_count": 7,
   "metadata": {},
   "outputs": [
    {
     "name": "stdout",
     "output_type": "stream",
     "text": [
      "Wall time: 0 ns\n",
      "Total:38792864\n"
     ]
    }
   ],
   "source": [
    "%time\n",
    "#Parsing and Processing Data;\n",
    "\n",
    "#sum the bytes if ply-.*\\.gz file matches\n",
    "\n",
    "pat = r'ply-.*\\.gz'\n",
    "logdir = '.\\data'\n",
    "\n",
    "filenames = gen_find(\"access*\", logdir )\n",
    "\n",
    "logfiles = gen_open(filenames)\n",
    "#print(list(logfiles))\n",
    "\n",
    "loglines = gen_cat(logfiles)\n",
    "\n",
    "\n",
    "    \n",
    "patlines = gen_grep(pat,loglines)\n",
    "\n",
    "\n",
    "bytecol = ( line.rsplit(None, 1)[1] for line in patlines )\n",
    "\n",
    "\n",
    "bytes_sent = ( int(x) for x in bytecol if x != '-')\n",
    "\n",
    "print(\"Total:%r\"%( sum(bytes_sent)))\n",
    "\n"
   ]
  },
  {
   "cell_type": "code",
   "execution_count": 8,
   "metadata": {},
   "outputs": [],
   "source": [
    "#Parse lines into tuples using regular expressions\n",
    "\n",
    "loglines = open(\"./data/access-log.log\")\n",
    "\n",
    "import re\n",
    "\n",
    "logpats  = r'(\\S+) (\\S+) (\\S+) \\[(.*?)\\] ' \\\n",
    "           r'\"(\\S+) (\\S+) (\\S+)\" (\\S+) (\\S+)'\n",
    "\n",
    "logpat   = re.compile(logpats)\n",
    "\n",
    "groups   = (logpat.match(line) for line in loglines)\n",
    "tuples   = (g.groups() for g in groups if g)\n",
    "\n",
    "#main \n",
    "for t in tuples:\n",
    "    #print(t) #print lines in a tuple\n",
    "    pass"
   ]
  },
  {
   "cell_type": "code",
   "execution_count": 9,
   "metadata": {},
   "outputs": [],
   "source": [
    "#Parse lines into a dict using regular expressions;\n",
    "\n",
    "import re\n",
    "loglines = open(\"./data/access-log.log\")\n",
    "\n",
    "logpats  = r'(\\S+) (\\S+) (\\S+) \\[(.*?)\\] ' \\\n",
    "           r'\"(\\S+) (\\S+) (\\S+)\" (\\S+) (\\S+)'\n",
    "\n",
    "logpat   = re.compile(logpats)\n",
    "\n",
    "groups   = (logpat.match(line) for line in loglines)\n",
    "tuples   = (g.groups() for g in groups if g)\n",
    "\n",
    "colnames = ('host','referrer','user','datetime',\n",
    "            'method', 'request','proto','status','bytes')\n",
    "\n",
    "log      = (dict(zip(colnames, t)) for t in tuples)\n",
    "\n",
    "#main\n",
    "for x in log:\n",
    "    #print(x) #print lines in a dict\n",
    "    pass"
   ]
  },
  {
   "cell_type": "code",
   "execution_count": 10,
   "metadata": {},
   "outputs": [],
   "source": [
    "#Re-map fields in a sequence of dict;\n",
    "def field_map(dictseq, name, func):\n",
    "    for d in dictseq:\n",
    "        d[name] = func(d[name])\n",
    "        yield d\n",
    "\n",
    "# main\n",
    "\n",
    "\n",
    "\n",
    "loglines = open(\"./data/access-log.log\")\n",
    "\n",
    "import re\n",
    "\n",
    "logpats  = r'(\\S+) (\\S+) (\\S+) \\[(.*?)\\] ' \\\n",
    "           r'\"(\\S+) (\\S+) (\\S+)\" (\\S+) (\\S+)'\n",
    "\n",
    "logpat   = re.compile(logpats)\n",
    "\n",
    "groups   = (logpat.match(line) for line in loglines)\n",
    "tuples   = (g.groups() for g in groups if g)\n",
    "\n",
    "colnames = ('host','referrer','user','datetime',\n",
    "            'method', 'request','proto','status','bytes')\n",
    "\n",
    "log      = (dict(zip(colnames, t)) for t in tuples)\n",
    "\n",
    "log      = field_map(log,\"status\",int)\n",
    "\n",
    "\n",
    "log      = field_map(log,\"bytes\", lambda s: int(s) if s != '-' else 0)\n",
    "\n",
    "\n",
    "for x in log:\n",
    "    #print(x) # {'host': '140.180.132.213', 'referrer': '-', 'user': '-', 'datetime': '24/Feb/2008:00:08:59 -0600', 'method': 'GET', 'request': '/favicon.ico', 'proto': 'HTTP/1.1', 'status': 404, 'bytes': 133}\n",
    "    pass"
   ]
  },
  {
   "cell_type": "code",
   "execution_count": 11,
   "metadata": {},
   "outputs": [],
   "source": [
    "#Generate lines from files in a directory;\n",
    "\n",
    "def lines_from_dir(filepat, dirname):\n",
    "    names = Path(dirname).rglob(filepat)\n",
    "    files = gen_open(names)\n",
    "    lines = gen_cat(files)\n",
    "    return lines\n",
    "\n",
    "#main\n",
    "loglines = lines_from_dir(\"access*\", 'data')\n",
    "for line in loglines:\n",
    "    #print(line) #75.54.118.139 - - [24/Feb/2008:00:15:40 -0600] \"GET / HTTP/1.1\" 200 4447\n",
    "    pass"
   ]
  },
  {
   "cell_type": "code",
   "execution_count": 12,
   "metadata": {},
   "outputs": [],
   "source": [
    "#parse apche log files into sequence of dict\n",
    "\n",
    "import re\n",
    "\n",
    "logpats  = r'(\\S+) (\\S+) (\\S+) \\[(.*?)\\] ' \\\n",
    "           r'\"(\\S+) (\\S+) (\\S+)\" (\\S+) (\\S+)'\n",
    "\n",
    "logpat = re.compile(logpats)\n",
    "\n",
    "def apache_log(lines):\n",
    "    groups = ( logpat.match(line) for line in lines )\n",
    "    tuples = ( g.groups() for g in groups if g )\n",
    "    \n",
    "    colnames = ( 'host','referrer', 'user','datetime','method','request', 'proto', 'status','bytes' )\n",
    "    \n",
    "    log = ( dict(zip(colnames,t)) for t in tuples)\n",
    "    log = field_map( log, 'status', int) #type-cast to int\n",
    "    log = field_map(log, \"bytes\", lambda s:int(s) if s != '-' else 0 ) #remove - in the lines\n",
    "    \n",
    "    return log\n",
    "\n",
    "#main\n",
    "lines = lines_from_dir(\"access*\", 'data')\n",
    "log = apache_log(lines)\n",
    "\n",
    "for r in log:\n",
    "   # print(r)  #{'host': '140.180.132.213', 'referrer': '-', 'user': '-', 'datetime': '24/Feb/2008:00:08:59 -0600', 'method': 'GET', 'request': '/ply/ply.html', 'proto': 'HTTP/1.1', 'status': 200, 'bytes': 97238}\n",
    "    pass"
   ]
  },
  {
   "cell_type": "code",
   "execution_count": 15,
   "metadata": {},
   "outputs": [],
   "source": [
    "#find the set of all docuemnts that 404 in a log file\n",
    "\n",
    "lines = lines_from_dir(\"access*\", 'data')\n",
    "log = apache_log(lines)\n",
    "\n",
    "stat404 = {  r['request'] for r in log if r['status'] == 404 }\n",
    "\n",
    "for r in sorted(stat404):\n",
    "    #print(r) # /Doc/index.html\n",
    "\n",
    "    pass"
   ]
  },
  {
   "cell_type": "code",
   "execution_count": 16,
   "metadata": {},
   "outputs": [],
   "source": [
    "#find all transfers over a megabyte\n",
    "\n",
    "lines = lines_from_dir(\"access*\", \"data\")\n",
    "log = apache_log(lines)\n",
    "\n",
    "large = ( r for r in log  if r['bytes'] > 1000000 )\n",
    "\n",
    "for r in large:\n",
    "    #print( r['request'], r['bytes']) #/dynamic/01Introduction.pdf 3110734\n",
    "    pass"
   ]
  },
  {
   "cell_type": "code",
   "execution_count": 17,
   "metadata": {},
   "outputs": [
    {
     "name": "stdout",
     "output_type": "stream",
     "text": [
      "4919642 /dynamic/ffcache.zip\n"
     ]
    }
   ],
   "source": [
    "# find the largest document\n",
    "\n",
    "lines = lines_from_dir('access*','data')\n",
    "log = apache_log(lines)\n",
    "\n",
    "print(\"%d %s\"%( max(( r['bytes'], r['request']) for r in log )))"
   ]
  },
  {
   "cell_type": "code",
   "execution_count": 18,
   "metadata": {},
   "outputs": [],
   "source": [
    "#find unique host IP address\n",
    "\n",
    "lines = lines_from_dir('access-log.log', 'data')\n",
    "log = apache_log(lines)\n",
    "\n",
    "hosts = set( r['host'] for r in log )\n",
    "\n",
    "for h in hosts:\n",
    "    #print(h, end='') # print IP address\n",
    "    pass"
   ]
  },
  {
   "cell_type": "code",
   "execution_count": 19,
   "metadata": {},
   "outputs": [
    {
     "name": "stdout",
     "output_type": "stream",
     "text": [
      "Total 234\n"
     ]
    }
   ],
   "source": [
    "#find the specific downloads of a specific request;\n",
    "\n",
    "lines = lines_from_dir(\"access*\", \"data\")\n",
    "log = apache_log(lines)\n",
    "\n",
    "request = 'ply/ply-2.3.tar.gz'\n",
    "\n",
    "total = sum( 1 for r in log if r['request'] == '/ply/ply-2.3.tar.gz'  ) # if matches print one and finally sum the ones\n",
    "print(\"Total\", total)\n"
   ]
  },
  {
   "cell_type": "code",
   "execution_count": null,
   "metadata": {},
   "outputs": [],
   "source": [
    "import socket\n",
    "\n",
    "lines = lines_from_dir('access*','data')\n",
    "log = apache_log(lines)\n",
    "\n",
    "addrs = { r['host'] for r in log if 'robots.txt' in r['request'] }\n",
    "\n",
    "\n",
    "for addr in addrs:\n",
    "    try:\n",
    "        #print(socket.gethostbyaddr(addr)[0]) # print host name from IP address\n",
    "        pass\n",
    "    except socket.herror:\n",
    "        #print(addr)\n",
    "        pass\n"
   ]
  },
  {
   "cell_type": "code",
   "execution_count": 24,
   "metadata": {},
   "outputs": [],
   "source": [
    "#Trace a generators by printing items received\n",
    "\n",
    "def trace(source):\n",
    "    for item in source:\n",
    "        #print(item)\n",
    "        yield item\n",
    "        \n",
    "#main\n",
    "lines = open(\"./data/access-log.log\")\n",
    "log = trace( apache_log(lines))\n",
    "\n",
    "r404 = ( r for r in log if r['status'] == 404 )\n",
    "\n",
    "for r in r404:\n",
    "    #print matched lines\n",
    "    pass\n"
   ]
  },
  {
   "cell_type": "code",
   "execution_count": null,
   "metadata": {},
   "outputs": [],
   "source": [
    "# tail -f functions\n",
    "\n",
    "import time\n",
    "import os\n",
    "\n",
    "def follow(thefile):\n",
    "    thefile.seek(0, os.SEEK_END)\n",
    "    while True:\n",
    "        line = thefile.readline()\n",
    "        \n",
    "        if not line:\n",
    "            time.sleep(0.1)\n",
    "            continue\n",
    "        yield line\n",
    "        \n",
    "        \n",
    "#main\n",
    "logfile=open('./data/access-log.log')\n",
    "loglines = follow(logfile)\n",
    "for line in loglines:\n",
    "    print(line, end='')"
   ]
  },
  {
   "cell_type": "code",
   "execution_count": null,
   "metadata": {},
   "outputs": [],
   "source": [
    "\n",
    "import time\n",
    "import os\n",
    "\n",
    "def follow(thefile):\n",
    "    thefile.seek(0, os.SEEK_END)\n",
    "    while True:\n",
    "        line = thefile.readline()\n",
    "        \n",
    "        if not line:\n",
    "            time.sleep(0.1)\n",
    "            continue\n",
    "        yield line\n",
    "        \n",
    "#main\n",
    "lines = follow(open('./data/access-log.log'))\n",
    "\n",
    "for i,line in enumerate(lines):\n",
    "    print(line, end = '')\n",
    "    if i == 10:\n",
    "        lines.close()"
   ]
  },
  {
   "cell_type": "code",
   "execution_count": 10,
   "metadata": {},
   "outputs": [
    {
     "name": "stdout",
     "output_type": "stream",
     "text": [
      "[1, 2, 3, 4]\n",
      "[1, 2, 3, 4]\n"
     ]
    }
   ],
   "source": [
    "def fun1(l): \n",
    "    yield from l\n",
    "    \n",
    "\n",
    "def fun2(l):\n",
    "    for i in l:\n",
    "        yield i\n",
    "  \n",
    "# fun1 and fun2 are same;\n",
    "\n",
    "l = [ 1,2,3,4]\n",
    "\n",
    "print( list( fun1(l) ) )\n",
    "\n",
    "print( list( fun2(l)) )"
   ]
  },
  {
   "cell_type": "code",
   "execution_count": null,
   "metadata": {},
   "outputs": [],
   "source": []
  }
 ],
 "metadata": {
  "kernelspec": {
   "display_name": "Python 3",
   "language": "python",
   "name": "python3"
  },
  "language_info": {
   "codemirror_mode": {
    "name": "ipython",
    "version": 3
   },
   "file_extension": ".py",
   "mimetype": "text/x-python",
   "name": "python",
   "nbconvert_exporter": "python",
   "pygments_lexer": "ipython3",
   "version": "3.6.5"
  }
 },
 "nbformat": 4,
 "nbformat_minor": 2
}
