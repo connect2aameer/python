{
 "cells": [
  {
   "cell_type": "code",
   "execution_count": null,
   "metadata": {},
   "outputs": [],
   "source": []
  },
  {
   "cell_type": "code",
   "execution_count": 1,
   "metadata": {},
   "outputs": [
    {
     "name": "stdout",
     "output_type": "stream",
     "text": [
      "Enter first number\n",
      "2\n",
      "Enter second number\n",
      "4\n",
      "The sum of 2  and  4 is  24\n"
     ]
    }
   ],
   "source": [
    "print(\"Enter first number\")\n",
    "first = input()\n",
    "print(\"Enter second number\")\n",
    "second = input()\n",
    "\n",
    "print('The sum of', first, ' and ', second, 'is ', (first + second))"
   ]
  },
  {
   "cell_type": "code",
   "execution_count": 2,
   "metadata": {},
   "outputs": [
    {
     "name": "stdout",
     "output_type": "stream",
     "text": [
      "Enter first number\n",
      "3\n",
      "DEBUG: <class 'str'>\n",
      "Enter second number\n",
      "2\n",
      "DEBUG: <class 'str'>\n",
      "The sum of 3  and  2 is  32\n"
     ]
    }
   ],
   "source": [
    "#print debugging\n",
    "print(\"Enter first number\")\n",
    "first = input()\n",
    "print('DEBUG:', type(first))\n",
    "\n",
    "print(\"Enter second number\")\n",
    "second = input()\n",
    "print(\"DEBUG:\", type(second))\n",
    "\n",
    "print('The sum of', first, ' and ', second, 'is ', (first + second))"
   ]
  },
  {
   "cell_type": "code",
   "execution_count": 3,
   "metadata": {},
   "outputs": [
    {
     "name": "stdout",
     "output_type": "stream",
     "text": [
      "Enter the first number:\n",
      "3\n"
     ]
    },
    {
     "name": "stderr",
     "output_type": "stream",
     "text": [
      "DEBUG:root:<class 'str'>\n"
     ]
    },
    {
     "name": "stdout",
     "output_type": "stream",
     "text": [
      "Enter the second number\n",
      "2\n"
     ]
    },
    {
     "name": "stderr",
     "output_type": "stream",
     "text": [
      "DEBUG:root:<class 'str'>\n"
     ]
    },
    {
     "name": "stdout",
     "output_type": "stream",
     "text": [
      "The sum of  3  and  2 is  32\n"
     ]
    }
   ],
   "source": [
    "#Easy to remove and add debug messages and control over debug messages;\n",
    "import logging\n",
    "logging.basicConfig(level = logging.DEBUG) \n",
    "\n",
    "print(\"Enter the first number:\")\n",
    "first = input()\n",
    "logging.debug(type(first))\n",
    "\n",
    "print(\"Enter the second number\")\n",
    "second = input()\n",
    "logging.debug(type(second))\n",
    "\n",
    "print('The sum of ', first, ' and ', second, 'is ', (first+second))\n"
   ]
  },
  {
   "cell_type": "code",
   "execution_count": 4,
   "metadata": {},
   "outputs": [
    {
     "name": "stdout",
     "output_type": "stream",
     "text": [
      "Enter the first number:\n",
      "2\n",
      "Enter the second number\n",
      "3\n",
      "The sum of  2  and  3 is  23\n"
     ]
    }
   ],
   "source": [
    "import logging\n",
    "logging.basicConfig(level = logging.DEBUG) \n",
    "logging.disable(logging.CRITICAL)\n",
    "print(\"Enter the first number:\")\n",
    "first = input()\n",
    "logging.debug(type(first))\n",
    "\n",
    "print(\"Enter the second number\")\n",
    "second = input()\n",
    "logging.debug(type(second))\n",
    "\n",
    "print('The sum of ', first, ' and ', second, 'is ', (first+second))"
   ]
  },
  {
   "cell_type": "markdown",
   "metadata": {},
   "source": [
    "Why do logging instead of print? Easier to remove debug messages and to put debug message back and fine grain contrl on messages. <br>\n",
    "Logging Levels: <br>\n",
    "DEBUG, INFO, WARN, ERROR, CRITICAL <br>\n",
    "logging.debug('message') <br>\n",
    "logging.info('message') <br>\n",
    "logging.warn('message') <br>\n",
    "logging.error(''message') <br>\n",
    "logging.critical('message') <br>\n",
    "\n",
    "logging.basicConfig( level=logging.DEBUG ) <br>\n",
    "logging.disable( logging.CRITICAL ) #Disable  <br>\n",
    " \n"
   ]
  },
  {
   "cell_type": "code",
   "execution_count": 5,
   "metadata": {},
   "outputs": [
    {
     "name": "stderr",
     "output_type": "stream",
     "text": [
      "DEBUG:root:hi\n",
      "DEBUG:root:hey\n",
      "DEBUG:root:hey\n",
      "DEBUG:root:hola\n",
      "DEBUG:root:hello\n"
     ]
    }
   ],
   "source": [
    "import logging, time, random\n",
    "\n",
    "logging.basicConfig(  level=logging.DEBUG )\n",
    "\n",
    "for count in range(0,5):\n",
    "    logging.debug( random.choice(['hello', 'hi', 'hey', 'hola'])) \n",
    "    time.sleep(1)"
   ]
  },
  {
   "cell_type": "code",
   "execution_count": 14,
   "metadata": {},
   "outputs": [
    {
     "name": "stderr",
     "output_type": "stream",
     "text": [
      "DEBUG:root:hi\n",
      "DEBUG:root:hi\n",
      "DEBUG:root:hi\n",
      "DEBUG:root:hi\n",
      "DEBUG:root:hola\n"
     ]
    }
   ],
   "source": [
    "logging.basicConfig( filename='log_file.log',  level=logging.DEBUG )\n",
    "\n",
    "for count in range(0,5):\n",
    "    logging.debug( random.choice(['hello', 'hi', 'hey', 'hola'])) \n",
    "    #logging.info(\" this is info \")\n",
    "    time.sleep(1)"
   ]
  },
  {
   "cell_type": "code",
   "execution_count": null,
   "metadata": {},
   "outputs": [
    {
     "name": "stdout",
     "output_type": "stream",
     "text": [
      "Enter the first number\n",
      "2\n",
      "--Return--\n",
      "> <ipython-input-15-0eeeff1ea692>(7)<module>()->None\n",
      "-> import pdb; pdb.set_trace()\n",
      "(Pdb) \n",
      "(Pdb) help\n",
      "\n",
      "Documented commands (type help <topic>):\n",
      "========================================\n",
      "EOF    c          d        h         list      q        rv       undisplay\n",
      "a      cl         debug    help      ll        quit     s        unt      \n",
      "alias  clear      disable  ignore    longlist  r        source   until    \n",
      "args   commands   display  interact  n         restart  step     up       \n",
      "b      condition  down     j         next      return   tbreak   w        \n",
      "break  cont       enable   jump      p         retval   u        whatis   \n",
      "bt     continue   exit     l         pp        run      unalias  where    \n",
      "\n",
      "Miscellaneous help topics:\n",
      "==========================\n",
      "exec  pdb\n",
      "\n",
      "(Pdb) l .\n",
      "  2  \tlogging.basicConfig(level=logging.DEBUG)\n",
      "  3  \t\n",
      "  4  \tprint(\"Enter the first number\")\n",
      "  5  \tfirst = input()\n",
      "  6  \t\n",
      "  7  ->\timport pdb; pdb.set_trace()\n",
      "  8  \t\n",
      "  9  \tlogging.debug(type(first))\n",
      " 10  \t\n",
      " 11  \tprint(\"Enter the second number\")\n",
      " 12  \tsecond = input()\n",
      "(Pdb) w\n",
      "  c:\\anaconda3\\lib\\runpy.py(193)_run_module_as_main()\n",
      "-> \"__main__\", mod_spec)\n",
      "  c:\\anaconda3\\lib\\runpy.py(85)_run_code()\n",
      "-> exec(code, run_globals)\n",
      "  c:\\anaconda3\\lib\\site-packages\\ipykernel_launcher.py(16)<module>()\n",
      "-> app.launch_new_instance()\n",
      "  c:\\anaconda3\\lib\\site-packages\\traitlets\\config\\application.py(658)launch_instance()\n",
      "-> app.start()\n",
      "  c:\\anaconda3\\lib\\site-packages\\ipykernel\\kernelapp.py(486)start()\n",
      "-> self.io_loop.start()\n",
      "  c:\\anaconda3\\lib\\site-packages\\tornado\\platform\\asyncio.py(127)start()\n",
      "-> self.asyncio_loop.run_forever()\n",
      "  c:\\anaconda3\\lib\\asyncio\\base_events.py(422)run_forever()\n",
      "-> self._run_once()\n",
      "  c:\\anaconda3\\lib\\asyncio\\base_events.py(1432)_run_once()\n",
      "-> handle._run()\n",
      "  c:\\anaconda3\\lib\\asyncio\\events.py(145)_run()\n",
      "-> self._callback(*self._args)\n",
      "  c:\\anaconda3\\lib\\site-packages\\tornado\\platform\\asyncio.py(117)_handle_events()\n",
      "-> handler_func(fileobj, events)\n",
      "  c:\\anaconda3\\lib\\site-packages\\tornado\\stack_context.py(276)null_wrapper()\n",
      "-> return fn(*args, **kwargs)\n",
      "  c:\\anaconda3\\lib\\site-packages\\zmq\\eventloop\\zmqstream.py(450)_handle_events()\n",
      "-> self._handle_recv()\n",
      "  c:\\anaconda3\\lib\\site-packages\\zmq\\eventloop\\zmqstream.py(480)_handle_recv()\n",
      "-> self._run_callback(callback, msg)\n",
      "  c:\\anaconda3\\lib\\site-packages\\zmq\\eventloop\\zmqstream.py(432)_run_callback()\n",
      "-> callback(*args, **kwargs)\n",
      "  c:\\anaconda3\\lib\\site-packages\\tornado\\stack_context.py(276)null_wrapper()\n",
      "-> return fn(*args, **kwargs)\n",
      "  c:\\anaconda3\\lib\\site-packages\\ipykernel\\kernelbase.py(283)dispatcher()\n",
      "-> return self.dispatch_shell(stream, msg)\n",
      "  c:\\anaconda3\\lib\\site-packages\\ipykernel\\kernelbase.py(233)dispatch_shell()\n",
      "-> handler(stream, idents, msg)\n",
      "  c:\\anaconda3\\lib\\site-packages\\ipykernel\\kernelbase.py(399)execute_request()\n",
      "-> user_expressions, allow_stdin)\n",
      "  c:\\anaconda3\\lib\\site-packages\\ipykernel\\ipkernel.py(208)do_execute()\n",
      "-> res = shell.run_cell(code, store_history=store_history, silent=silent)\n",
      "  c:\\anaconda3\\lib\\site-packages\\ipykernel\\zmqshell.py(537)run_cell()\n",
      "-> return super(ZMQInteractiveShell, self).run_cell(*args, **kwargs)\n",
      "  c:\\anaconda3\\lib\\site-packages\\ipython\\core\\interactiveshell.py(2662)run_cell()\n",
      "-> raw_cell, store_history, silent, shell_futures)\n",
      "  c:\\anaconda3\\lib\\site-packages\\ipython\\core\\interactiveshell.py(2785)_run_cell()\n",
      "-> interactivity=interactivity, compiler=compiler, result=result)\n",
      "  c:\\anaconda3\\lib\\site-packages\\ipython\\core\\interactiveshell.py(2903)run_ast_nodes()\n",
      "-> if self.run_code(code, result):\n",
      "  c:\\anaconda3\\lib\\site-packages\\ipython\\core\\interactiveshell.py(2963)run_code()\n",
      "-> exec(code_obj, self.user_global_ns, self.user_ns)\n",
      "> <ipython-input-15-0eeeff1ea692>(7)<module>()->None\n",
      "-> import pdb; pdb.set_trace()\n",
      "(Pdb) p first\n",
      "'2'\n",
      "(Pdb) p type(first)\n",
      "<class 'str'>\n",
      "(Pdb) p 2 + 2\n",
      "4\n",
      "(Pdb) l .\n",
      "  2  \tlogging.basicConfig(level=logging.DEBUG)\n",
      "  3  \t\n",
      "  4  \tprint(\"Enter the first number\")\n",
      "  5  \tfirst = input()\n",
      "  6  \t\n",
      "  7  ->\timport pdb; pdb.set_trace()\n",
      "  8  \t\n",
      "  9  \tlogging.debug(type(first))\n",
      " 10  \t\n",
      " 11  \tprint(\"Enter the second number\")\n",
      " 12  \tsecond = input()\n",
      "(Pdb) n\n",
      "> c:\\anaconda3\\lib\\site-packages\\ipython\\core\\interactiveshell.py(2966)run_code()\n",
      "-> sys.excepthook = old_excepthook\n",
      "(Pdb) s\n",
      "> c:\\anaconda3\\lib\\site-packages\\ipython\\core\\interactiveshell.py(2982)run_code()\n",
      "-> outflag = False\n",
      "(Pdb) second = 10\n",
      "(Pdb) p second\n",
      "10\n",
      "(Pdb) n\n",
      "> c:\\anaconda3\\lib\\site-packages\\ipython\\core\\interactiveshell.py(2983)run_code()\n",
      "-> return outflag\n",
      "(Pdb) n\n",
      "--Return--\n",
      "> c:\\anaconda3\\lib\\site-packages\\ipython\\core\\interactiveshell.py(2983)run_code()->False\n",
      "-> return outflag\n",
      "(Pdb) l .\n",
      "2978 \t            if result is not None:\n",
      "2979 \t                result.error_in_exec = sys.exc_info()[1]\n",
      "2980 \t            self.showtraceback(running_compiled_code=True)\n",
      "2981 \t        else:\n",
      "2982 \t            outflag = False\n",
      "2983 ->\t        return outflag\n",
      "2984 \t\n",
      "2985 \t    # For backwards compatibility\n",
      "2986 \t    runcode = run_code\n",
      "2987 \t\n",
      "2988 \t    def check_complete(self, code):\n"
     ]
    }
   ],
   "source": [
    "import logging\n",
    "logging.basicConfig(level=logging.DEBUG)\n",
    "\n",
    "print(\"Enter the first number\")\n",
    "first = input()\n",
    "\n",
    "import pdb; pdb.set_trace()\n",
    "\n",
    "logging.debug(type(first))\n",
    "\n",
    "print(\"Enter the second number\")\n",
    "second = input()\n",
    "\n",
    "logging.debug(type(second))\n",
    "print('The sum of ', first, ' and ', second, ' is ', ( first + second ))"
   ]
  },
  {
   "cell_type": "markdown",
   "metadata": {},
   "source": [
    "l . -> where are we now. <br>\n",
    "Stepping: s ( step into ), n ( next/step over ), r ( return/ step out ), c ( continue running until next break point) <br>\n",
    "Break points: b ( list all break points and their numbers ), b < line number > , b <function name> , cl < breakpoint number > "
   ]
  },
  {
   "cell_type": "code",
   "execution_count": null,
   "metadata": {},
   "outputs": [],
   "source": []
  }
 ],
 "metadata": {
  "kernelspec": {
   "display_name": "Python 3",
   "language": "python",
   "name": "python3"
  },
  "language_info": {
   "codemirror_mode": {
    "name": "ipython",
    "version": 3
   },
   "file_extension": ".py",
   "mimetype": "text/x-python",
   "name": "python",
   "nbconvert_exporter": "python",
   "pygments_lexer": "ipython3",
   "version": "3.6.5"
  }
 },
 "nbformat": 4,
 "nbformat_minor": 2
}
